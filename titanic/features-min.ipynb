{
 "cells": [
  {
   "cell_type": "code",
   "execution_count": 1,
   "metadata": {
    "ExecuteTime": {
     "end_time": "2019-03-11T10:38:14.515575Z",
     "start_time": "2019-03-11T10:38:09.803982Z"
    }
   },
   "outputs": [
    {
     "name": "stderr",
     "output_type": "stream",
     "text": [
      "/Users/user/miniconda3/envs/test2/lib/python3.6/site-packages/lightgbm/__init__.py:46: UserWarning: Starting from version 2.2.1, the library file in distribution wheels for macOS is built by the Apple Clang (Xcode_8.3.1) compiler.\n",
      "This means that in case of installing LightGBM from PyPI via the ``pip install lightgbm`` command, you don't need to install the gcc compiler anymore.\n",
      "Instead of that, you need to install the OpenMP library, which is required for running LightGBM on the system with the Apple Clang compiler.\n",
      "You can install the OpenMP library by the following command: ``brew install libomp``.\n",
      "  \"You can install the OpenMP library by the following command: ``brew install libomp``.\", UserWarning)\n",
      "Using TensorFlow backend.\n"
     ]
    }
   ],
   "source": [
    "%load_ext autoreload\n",
    "%autoreload 2\n",
    "\n",
    "import sys\n",
    "sys.path.insert(0, \"/Users/user/git/datasci\")\n",
    "from sci.metrics import rmse_score\n",
    "from plots import *\n",
    "import sci.features as scif\n",
    "import sci.learn as scil\n",
    "import sci.plots as scip\n",
    "\n",
    "\n",
    "import pandas as pd\n",
    "pd.set_option('display.float_format', lambda x: '{:.4f}'.format(x)) #Limiting floats output to\n",
    "pd.options.display.max_rows = 999\n",
    "\n",
    "import numpy as np\n",
    "\n",
    "import seaborn as sns\n",
    "color = sns.color_palette()\n",
    "sns.set_style('darkgrid')\n"
   ]
  },
  {
   "cell_type": "markdown",
   "metadata": {},
   "source": [
    "## Load Data"
   ]
  },
  {
   "cell_type": "code",
   "execution_count": 4,
   "metadata": {
    "ExecuteTime": {
     "end_time": "2019-03-03T11:10:44.270791Z",
     "start_time": "2019-03-03T11:10:44.204288Z"
    },
    "scrolled": true
   },
   "outputs": [
    {
     "name": "stdout",
     "output_type": "stream",
     "text": [
      "(891,)\n",
      "(891, 11)\n",
      "(891, 10)\n",
      "(418, 10)\n"
     ]
    }
   ],
   "source": [
    "# raw data\n",
    "df_train = pd.read_csv('input/train.csv')\n",
    "df_test = pd.read_csv('input/test.csv')\n",
    "\n",
    "df_train = df_train.set_index(\"PassengerId\")\n",
    "df_test = df_test.set_index(\"PassengerId\")\n",
    "\n",
    "y = df_train[\"Survived\"]\n",
    "X = df_train.drop('Survived', axis=1)\n",
    "\n",
    "print(y.shape)\n",
    "print(df_train.shape)\n",
    "print(X.shape)\n",
    "print(df_test.shape)"
   ]
  },
  {
   "cell_type": "code",
   "execution_count": 23,
   "metadata": {
    "ExecuteTime": {
     "end_time": "2019-03-03T11:21:29.772803Z",
     "start_time": "2019-03-03T11:21:29.625103Z"
    }
   },
   "outputs": [
    {
     "data": {
      "text/html": [
       "<div>\n",
       "<style scoped>\n",
       "    .dataframe tbody tr th:only-of-type {\n",
       "        vertical-align: middle;\n",
       "    }\n",
       "\n",
       "    .dataframe tbody tr th {\n",
       "        vertical-align: top;\n",
       "    }\n",
       "\n",
       "    .dataframe thead th {\n",
       "        text-align: right;\n",
       "    }\n",
       "</style>\n",
       "<table border=\"1\" class=\"dataframe\">\n",
       "  <thead>\n",
       "    <tr style=\"text-align: right;\">\n",
       "      <th></th>\n",
       "      <th>count</th>\n",
       "      <th>missing</th>\n",
       "      <th>percent</th>\n",
       "      <th>dtype</th>\n",
       "      <th>types</th>\n",
       "      <th>uniq</th>\n",
       "      <th>values</th>\n",
       "      <th>freq</th>\n",
       "    </tr>\n",
       "  </thead>\n",
       "  <tbody>\n",
       "    <tr>\n",
       "      <th>Cabin</th>\n",
       "      <td>204</td>\n",
       "      <td>687</td>\n",
       "      <td>77.1044</td>\n",
       "      <td>object</td>\n",
       "      <td>str</td>\n",
       "      <td>147</td>\n",
       "      <td>A10, A14, A16, A19, A20, A23, A24, A26, ...</td>\n",
       "      <td>'B96 B98':4, 'G6':4, 'C23 C25 C27':4, 'C22...</td>\n",
       "    </tr>\n",
       "    <tr>\n",
       "      <th>Age</th>\n",
       "      <td>714</td>\n",
       "      <td>177</td>\n",
       "      <td>19.8653</td>\n",
       "      <td>float64</td>\n",
       "      <td>float</td>\n",
       "      <td>88</td>\n",
       "      <td>0.42, 0.67, 0.75, 0.83, 0.92, 1.0, 2.0, ...</td>\n",
       "      <td>'24.0':30, '22.0':27, '18.0':26, '19.0':25...</td>\n",
       "    </tr>\n",
       "    <tr>\n",
       "      <th>Embarked</th>\n",
       "      <td>889</td>\n",
       "      <td>2</td>\n",
       "      <td>0.2245</td>\n",
       "      <td>object</td>\n",
       "      <td>str</td>\n",
       "      <td>3</td>\n",
       "      <td>C, Q, S</td>\n",
       "      <td>'S':644, 'C':168, 'Q':77...</td>\n",
       "    </tr>\n",
       "    <tr>\n",
       "      <th>Survived</th>\n",
       "      <td>891</td>\n",
       "      <td>0</td>\n",
       "      <td>0.0000</td>\n",
       "      <td>int64</td>\n",
       "      <td>int</td>\n",
       "      <td>2</td>\n",
       "      <td>0, 1</td>\n",
       "      <td>'0':549, '1':342...</td>\n",
       "    </tr>\n",
       "    <tr>\n",
       "      <th>Pclass</th>\n",
       "      <td>891</td>\n",
       "      <td>0</td>\n",
       "      <td>0.0000</td>\n",
       "      <td>int64</td>\n",
       "      <td>int</td>\n",
       "      <td>3</td>\n",
       "      <td>1, 2, 3</td>\n",
       "      <td>'3':491, '1':216, '2':184...</td>\n",
       "    </tr>\n",
       "    <tr>\n",
       "      <th>Name</th>\n",
       "      <td>891</td>\n",
       "      <td>0</td>\n",
       "      <td>0.0000</td>\n",
       "      <td>object</td>\n",
       "      <td>str</td>\n",
       "      <td>891</td>\n",
       "      <td>Abbing, Mr. Anthony, ...</td>\n",
       "      <td>'Widener,  Mr. Harry Elkins':1, 'Foreman, ...</td>\n",
       "    </tr>\n",
       "    <tr>\n",
       "      <th>Sex</th>\n",
       "      <td>891</td>\n",
       "      <td>0</td>\n",
       "      <td>0.0000</td>\n",
       "      <td>object</td>\n",
       "      <td>str</td>\n",
       "      <td>2</td>\n",
       "      <td>female, male</td>\n",
       "      <td>'male':577, 'female':314...</td>\n",
       "    </tr>\n",
       "    <tr>\n",
       "      <th>SibSp</th>\n",
       "      <td>891</td>\n",
       "      <td>0</td>\n",
       "      <td>0.0000</td>\n",
       "      <td>int64</td>\n",
       "      <td>int</td>\n",
       "      <td>7</td>\n",
       "      <td>0, 1, 2, 3, 4, 5, 8</td>\n",
       "      <td>'0':608, '1':209, '2':28, '4':18, '3':16, '8...</td>\n",
       "    </tr>\n",
       "    <tr>\n",
       "      <th>Parch</th>\n",
       "      <td>891</td>\n",
       "      <td>0</td>\n",
       "      <td>0.0000</td>\n",
       "      <td>int64</td>\n",
       "      <td>int</td>\n",
       "      <td>7</td>\n",
       "      <td>0, 1, 2, 3, 4, 5, 6</td>\n",
       "      <td>'0':678, '1':118, '2':80, '5':5, '3':5, '4':...</td>\n",
       "    </tr>\n",
       "    <tr>\n",
       "      <th>Ticket</th>\n",
       "      <td>891</td>\n",
       "      <td>0</td>\n",
       "      <td>0.0000</td>\n",
       "      <td>object</td>\n",
       "      <td>str</td>\n",
       "      <td>681</td>\n",
       "      <td>110152, 110413, 110465, 110564, 110813, ...</td>\n",
       "      <td>'1601':7, '347082':7, 'CA. 2343':7, 'CA 21...</td>\n",
       "    </tr>\n",
       "    <tr>\n",
       "      <th>Fare</th>\n",
       "      <td>891</td>\n",
       "      <td>0</td>\n",
       "      <td>0.0000</td>\n",
       "      <td>float64</td>\n",
       "      <td>float</td>\n",
       "      <td>248</td>\n",
       "      <td>0.0, 4.0125, 5.0, 6.2375, 6.4375, 6.45, ...</td>\n",
       "      <td>'8.05':43, '13.0':42, '7.8958':38, '7.75':...</td>\n",
       "    </tr>\n",
       "  </tbody>\n",
       "</table>\n",
       "</div>"
      ],
      "text/plain": [
       "          count  missing  percent    dtype  types  uniq  \\\n",
       "Cabin       204      687  77.1044   object    str   147   \n",
       "Age         714      177  19.8653  float64  float    88   \n",
       "Embarked    889        2   0.2245   object    str     3   \n",
       "Survived    891        0   0.0000    int64    int     2   \n",
       "Pclass      891        0   0.0000    int64    int     3   \n",
       "Name        891        0   0.0000   object    str   891   \n",
       "Sex         891        0   0.0000   object    str     2   \n",
       "SibSp       891        0   0.0000    int64    int     7   \n",
       "Parch       891        0   0.0000    int64    int     7   \n",
       "Ticket      891        0   0.0000   object    str   681   \n",
       "Fare        891        0   0.0000  float64  float   248   \n",
       "\n",
       "                                               values  \\\n",
       "Cabin     A10, A14, A16, A19, A20, A23, A24, A26, ...   \n",
       "Age       0.42, 0.67, 0.75, 0.83, 0.92, 1.0, 2.0, ...   \n",
       "Embarked                                      C, Q, S   \n",
       "Survived                                         0, 1   \n",
       "Pclass                                        1, 2, 3   \n",
       "Name                         Abbing, Mr. Anthony, ...   \n",
       "Sex                                      female, male   \n",
       "SibSp                             0, 1, 2, 3, 4, 5, 8   \n",
       "Parch                             0, 1, 2, 3, 4, 5, 6   \n",
       "Ticket    110152, 110413, 110465, 110564, 110813, ...   \n",
       "Fare      0.0, 4.0125, 5.0, 6.2375, 6.4375, 6.45, ...   \n",
       "\n",
       "                                                     freq  \n",
       "Cabin       'B96 B98':4, 'G6':4, 'C23 C25 C27':4, 'C22...  \n",
       "Age         '24.0':30, '22.0':27, '18.0':26, '19.0':25...  \n",
       "Embarked                      'S':644, 'C':168, 'Q':77...  \n",
       "Survived                              '0':549, '1':342...  \n",
       "Pclass                       '3':491, '1':216, '2':184...  \n",
       "Name        'Widener,  Mr. Harry Elkins':1, 'Foreman, ...  \n",
       "Sex                           'male':577, 'female':314...  \n",
       "SibSp     '0':608, '1':209, '2':28, '4':18, '3':16, '8...  \n",
       "Parch     '0':678, '1':118, '2':80, '5':5, '3':5, '4':...  \n",
       "Ticket      '1601':7, '347082':7, 'CA. 2343':7, 'CA 21...  \n",
       "Fare        '8.05':43, '13.0':42, '7.8958':38, '7.75':...  "
      ]
     },
     "execution_count": 23,
     "metadata": {},
     "output_type": "execute_result"
    }
   ],
   "source": [
    "scif.df_summary(df_train)"
   ]
  },
  {
   "cell_type": "markdown",
   "metadata": {
    "ExecuteTime": {
     "end_time": "2019-03-03T11:09:48.366578Z",
     "start_time": "2019-03-03T11:09:48.363209Z"
    }
   },
   "source": [
    "## Process"
   ]
  },
  {
   "cell_type": "code",
   "execution_count": 31,
   "metadata": {
    "ExecuteTime": {
     "end_time": "2019-03-03T11:26:11.788029Z",
     "start_time": "2019-03-03T11:26:11.685589Z"
    }
   },
   "outputs": [],
   "source": [
    "def get_deck(cabin):\n",
    "    if pd.isnull(cabin):\n",
    "        return np.nan\n",
    "    return cabin.split(\" \")[-1][0]\n",
    "\n",
    "def MungeData(data):\n",
    "    data = data.copy()\n",
    "    data.drop(['Ticket', 'Name'], inplace=True, axis=1)\n",
    "    \n",
    "    # Sex\n",
    "    data.Sex.fillna(0, inplace=True)\n",
    "    data.loc[data.Sex != 'male', 'Sex'] = 0\n",
    "    data.loc[data.Sex == 'male', 'Sex'] = 1\n",
    "    \n",
    "    # Cabin\n",
    "    data[\"Cabin\"] = data[\"Cabin\"].apply(get_deck)\n",
    "    scif.from_cat_to_numeric(data, \"Cabin\", \"NA,A,B,C,D,E,F,G,T\", fillna=\"NA\")\n",
    "    \n",
    "    # Embarked\n",
    "    scif.from_cat_to_numeric(data, \"Embarked\", \"NA,C,Q,S\", fillna=\"NA\")\n",
    "\n",
    "    # all the rest\n",
    "    data.fillna(-1, inplace=True)\n",
    "\n",
    "    return data.astype(float)\n",
    "\n",
    "df_train_proc = MungeData(df_train)\n",
    "df_test_proc = MungeData(df_test)"
   ]
  },
  {
   "cell_type": "code",
   "execution_count": 32,
   "metadata": {
    "ExecuteTime": {
     "end_time": "2019-03-03T11:26:16.232368Z",
     "start_time": "2019-03-03T11:26:16.113557Z"
    }
   },
   "outputs": [
    {
     "data": {
      "text/html": [
       "<div>\n",
       "<style scoped>\n",
       "    .dataframe tbody tr th:only-of-type {\n",
       "        vertical-align: middle;\n",
       "    }\n",
       "\n",
       "    .dataframe tbody tr th {\n",
       "        vertical-align: top;\n",
       "    }\n",
       "\n",
       "    .dataframe thead th {\n",
       "        text-align: right;\n",
       "    }\n",
       "</style>\n",
       "<table border=\"1\" class=\"dataframe\">\n",
       "  <thead>\n",
       "    <tr style=\"text-align: right;\">\n",
       "      <th></th>\n",
       "      <th>count</th>\n",
       "      <th>missing</th>\n",
       "      <th>percent</th>\n",
       "      <th>dtype</th>\n",
       "      <th>types</th>\n",
       "      <th>uniq</th>\n",
       "      <th>values</th>\n",
       "      <th>freq</th>\n",
       "    </tr>\n",
       "  </thead>\n",
       "  <tbody>\n",
       "    <tr>\n",
       "      <th>Survived</th>\n",
       "      <td>891</td>\n",
       "      <td>0</td>\n",
       "      <td>0.0000</td>\n",
       "      <td>float64</td>\n",
       "      <td>float</td>\n",
       "      <td>2</td>\n",
       "      <td>0.0, 1.0</td>\n",
       "      <td>'0.0':549, '1.0':342...</td>\n",
       "    </tr>\n",
       "    <tr>\n",
       "      <th>Pclass</th>\n",
       "      <td>891</td>\n",
       "      <td>0</td>\n",
       "      <td>0.0000</td>\n",
       "      <td>float64</td>\n",
       "      <td>float</td>\n",
       "      <td>3</td>\n",
       "      <td>1.0, 2.0, 3.0</td>\n",
       "      <td>'3.0':491, '1.0':216, '2.0':184...</td>\n",
       "    </tr>\n",
       "    <tr>\n",
       "      <th>Sex</th>\n",
       "      <td>891</td>\n",
       "      <td>0</td>\n",
       "      <td>0.0000</td>\n",
       "      <td>float64</td>\n",
       "      <td>float</td>\n",
       "      <td>2</td>\n",
       "      <td>0.0, 1.0</td>\n",
       "      <td>'1.0':577, '0.0':314...</td>\n",
       "    </tr>\n",
       "    <tr>\n",
       "      <th>Age</th>\n",
       "      <td>891</td>\n",
       "      <td>0</td>\n",
       "      <td>0.0000</td>\n",
       "      <td>float64</td>\n",
       "      <td>float</td>\n",
       "      <td>89</td>\n",
       "      <td>-1.0, 0.42, 0.67, 0.75, 0.83, 0.92, 1.0, ...</td>\n",
       "      <td>'-1.0':177, '24.0':30, '22.0':27, '18.0':2...</td>\n",
       "    </tr>\n",
       "    <tr>\n",
       "      <th>SibSp</th>\n",
       "      <td>891</td>\n",
       "      <td>0</td>\n",
       "      <td>0.0000</td>\n",
       "      <td>float64</td>\n",
       "      <td>float</td>\n",
       "      <td>7</td>\n",
       "      <td>0.0, 1.0, 2.0, 3.0, 4.0, 5.0, 8.0</td>\n",
       "      <td>'0.0':608, '1.0':209, '2.0':28, '4.0':18, '...</td>\n",
       "    </tr>\n",
       "    <tr>\n",
       "      <th>Parch</th>\n",
       "      <td>891</td>\n",
       "      <td>0</td>\n",
       "      <td>0.0000</td>\n",
       "      <td>float64</td>\n",
       "      <td>float</td>\n",
       "      <td>7</td>\n",
       "      <td>0.0, 1.0, 2.0, 3.0, 4.0, 5.0, 6.0</td>\n",
       "      <td>'0.0':678, '1.0':118, '2.0':80, '3.0':5, '5...</td>\n",
       "    </tr>\n",
       "    <tr>\n",
       "      <th>Fare</th>\n",
       "      <td>891</td>\n",
       "      <td>0</td>\n",
       "      <td>0.0000</td>\n",
       "      <td>float64</td>\n",
       "      <td>float</td>\n",
       "      <td>248</td>\n",
       "      <td>0.0, 4.0125, 5.0, 6.2375, 6.4375, 6.45, ...</td>\n",
       "      <td>'8.05':43, '13.0':42, '7.8958':38, '7.75':...</td>\n",
       "    </tr>\n",
       "    <tr>\n",
       "      <th>Cabin</th>\n",
       "      <td>891</td>\n",
       "      <td>0</td>\n",
       "      <td>0.0000</td>\n",
       "      <td>float64</td>\n",
       "      <td>float</td>\n",
       "      <td>9</td>\n",
       "      <td>0.0, 1.0, 2.0, 3.0, 4.0, 5.0, 6.0, 7.0, ...</td>\n",
       "      <td>'0.0':687, '3.0':59, '2.0':47, '4.0':33, '5...</td>\n",
       "    </tr>\n",
       "    <tr>\n",
       "      <th>Embarked</th>\n",
       "      <td>891</td>\n",
       "      <td>0</td>\n",
       "      <td>0.0000</td>\n",
       "      <td>float64</td>\n",
       "      <td>float</td>\n",
       "      <td>4</td>\n",
       "      <td>0.0, 1.0, 2.0, 3.0</td>\n",
       "      <td>'3.0':644, '1.0':168, '2.0':77, '0.0':2...</td>\n",
       "    </tr>\n",
       "  </tbody>\n",
       "</table>\n",
       "</div>"
      ],
      "text/plain": [
       "          count  missing  percent    dtype  types  uniq  \\\n",
       "Survived    891        0   0.0000  float64  float     2   \n",
       "Pclass      891        0   0.0000  float64  float     3   \n",
       "Sex         891        0   0.0000  float64  float     2   \n",
       "Age         891        0   0.0000  float64  float    89   \n",
       "SibSp       891        0   0.0000  float64  float     7   \n",
       "Parch       891        0   0.0000  float64  float     7   \n",
       "Fare        891        0   0.0000  float64  float   248   \n",
       "Cabin       891        0   0.0000  float64  float     9   \n",
       "Embarked    891        0   0.0000  float64  float     4   \n",
       "\n",
       "                                                values  \\\n",
       "Survived                                      0.0, 1.0   \n",
       "Pclass                                   1.0, 2.0, 3.0   \n",
       "Sex                                           0.0, 1.0   \n",
       "Age       -1.0, 0.42, 0.67, 0.75, 0.83, 0.92, 1.0, ...   \n",
       "SibSp                0.0, 1.0, 2.0, 3.0, 4.0, 5.0, 8.0   \n",
       "Parch                0.0, 1.0, 2.0, 3.0, 4.0, 5.0, 6.0   \n",
       "Fare       0.0, 4.0125, 5.0, 6.2375, 6.4375, 6.45, ...   \n",
       "Cabin      0.0, 1.0, 2.0, 3.0, 4.0, 5.0, 6.0, 7.0, ...   \n",
       "Embarked                            0.0, 1.0, 2.0, 3.0   \n",
       "\n",
       "                                                    freq  \n",
       "Survived                         '0.0':549, '1.0':342...  \n",
       "Pclass                '3.0':491, '1.0':216, '2.0':184...  \n",
       "Sex                              '1.0':577, '0.0':314...  \n",
       "Age        '-1.0':177, '24.0':30, '22.0':27, '18.0':2...  \n",
       "SibSp     '0.0':608, '1.0':209, '2.0':28, '4.0':18, '...  \n",
       "Parch     '0.0':678, '1.0':118, '2.0':80, '3.0':5, '5...  \n",
       "Fare       '8.05':43, '13.0':42, '7.8958':38, '7.75':...  \n",
       "Cabin     '0.0':687, '3.0':59, '2.0':47, '4.0':33, '5...  \n",
       "Embarked      '3.0':644, '1.0':168, '2.0':77, '0.0':2...  "
      ]
     },
     "execution_count": 32,
     "metadata": {},
     "output_type": "execute_result"
    }
   ],
   "source": [
    "scif.df_summary(df_train_proc)"
   ]
  },
  {
   "cell_type": "markdown",
   "metadata": {},
   "source": [
    "## Save"
   ]
  },
  {
   "cell_type": "code",
   "execution_count": 26,
   "metadata": {
    "ExecuteTime": {
     "end_time": "2019-03-03T11:22:34.421088Z",
     "start_time": "2019-03-03T11:22:34.375992Z"
    }
   },
   "outputs": [],
   "source": [
    "y = df_train_proc[\"Survived\"]\n",
    "X_train = df_train_proc.drop(\"Survived\", axis=1)\n",
    "X_score = df_test_proc"
   ]
  },
  {
   "cell_type": "code",
   "execution_count": 27,
   "metadata": {
    "ExecuteTime": {
     "end_time": "2019-03-03T11:22:34.950252Z",
     "start_time": "2019-03-03T11:22:34.751394Z"
    }
   },
   "outputs": [],
   "source": [
    "path = 'processed_min'\n",
    "!mkdir -p $path\n",
    "X_train.to_msgpack(f'{path}/X.msgpack')\n",
    "y.to_msgpack(f'{path}/y.msgpack')\n",
    "X_score.to_msgpack(f'{path}/X_score.msgpack')\n",
    "\n",
    "# from sklearn.externals import joblib\n",
    "# joblib.dump(y_tr, f'{path}/y_tr.joblib')\n"
   ]
  },
  {
   "cell_type": "markdown",
   "metadata": {},
   "source": [
    "## Quick Test"
   ]
  },
  {
   "cell_type": "code",
   "execution_count": 28,
   "metadata": {
    "ExecuteTime": {
     "end_time": "2019-03-03T11:22:35.404559Z",
     "start_time": "2019-03-03T11:22:35.331638Z"
    }
   },
   "outputs": [],
   "source": [
    "import sklearn.utils\n",
    "from sklearn.linear_model import *\n"
   ]
  },
  {
   "cell_type": "code",
   "execution_count": 29,
   "metadata": {
    "ExecuteTime": {
     "end_time": "2019-03-03T11:22:36.317985Z",
     "start_time": "2019-03-03T11:22:35.835495Z"
    }
   },
   "outputs": [
    {
     "name": "stdout",
     "output_type": "stream",
     "text": [
      "(891, 8) (891,)\n",
      "CV for XGBClassifier ..\n"
     ]
    },
    {
     "name": "stderr",
     "output_type": "stream",
     "text": [
      "[Parallel(n_jobs=11)]: Using backend LokyBackend with 11 concurrent workers.\n",
      "[Parallel(n_jobs=11)]: Done  10 out of  10 | elapsed:    0.4s finished\n"
     ]
    },
    {
     "data": {
      "text/html": [
       "<div>\n",
       "<style scoped>\n",
       "    .dataframe tbody tr th:only-of-type {\n",
       "        vertical-align: middle;\n",
       "    }\n",
       "\n",
       "    .dataframe tbody tr th {\n",
       "        vertical-align: top;\n",
       "    }\n",
       "\n",
       "    .dataframe thead th {\n",
       "        text-align: right;\n",
       "    }\n",
       "</style>\n",
       "<table border=\"1\" class=\"dataframe\">\n",
       "  <thead>\n",
       "    <tr style=\"text-align: right;\">\n",
       "      <th></th>\n",
       "      <th>mean</th>\n",
       "      <th>std</th>\n",
       "    </tr>\n",
       "  </thead>\n",
       "  <tbody>\n",
       "    <tr>\n",
       "      <th>XGBClassifier</th>\n",
       "      <td>0.8160</td>\n",
       "      <td>0.0125</td>\n",
       "    </tr>\n",
       "  </tbody>\n",
       "</table>\n",
       "</div>"
      ],
      "text/plain": [
       "                mean    std\n",
       "XGBClassifier 0.8160 0.0125"
      ]
     },
     "metadata": {},
     "output_type": "display_data"
    },
    {
     "name": "stderr",
     "output_type": "stream",
     "text": [
      "Can't plot with only a single or no samples\n"
     ]
    }
   ],
   "source": [
    "import xgboost\n",
    "from sklearn.svm import SVC, LinearSVC, NuSVC\n",
    "\n",
    "# model = ElasticNetCV(l1_ratio=0.5)\n",
    "model = xgboost.XGBClassifier()\n",
    "# model = SVC(kernel=\"linear\", C=0.025, probability=True)\n",
    "\n",
    "# sci.metric_global = roc_auc_score\n",
    "scil.scoring_global = 'accuracy'\n",
    "\n",
    "path = 'processed_min'\n",
    "\n",
    "data = scil.load_data(path)\n",
    "cv_scores = scil.score_cv(data, model, scoring=scil.scoring_global, verbose=2, cv=10)"
   ]
  },
  {
   "cell_type": "code",
   "execution_count": null,
   "metadata": {},
   "outputs": [],
   "source": []
  }
 ],
 "metadata": {
  "kernelspec": {
   "display_name": "Python 3",
   "language": "python",
   "name": "python3"
  },
  "language_info": {
   "codemirror_mode": {
    "name": "ipython",
    "version": 3
   },
   "file_extension": ".py",
   "mimetype": "text/x-python",
   "name": "python",
   "nbconvert_exporter": "python",
   "pygments_lexer": "ipython3",
   "version": "3.6.8"
  }
 },
 "nbformat": 4,
 "nbformat_minor": 2
}
