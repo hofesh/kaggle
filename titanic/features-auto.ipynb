{
 "cells": [
  {
   "cell_type": "code",
   "execution_count": 1,
   "metadata": {
    "ExecuteTime": {
     "end_time": "2019-03-02T06:10:46.223805Z",
     "start_time": "2019-03-02T06:10:42.423063Z"
    }
   },
   "outputs": [
    {
     "name": "stderr",
     "output_type": "stream",
     "text": [
      "/Users/user/miniconda3/envs/test2/lib/python3.6/site-packages/lightgbm/__init__.py:46: UserWarning: Starting from version 2.2.1, the library file in distribution wheels for macOS is built by the Apple Clang (Xcode_8.3.1) compiler.\n",
      "This means that in case of installing LightGBM from PyPI via the ``pip install lightgbm`` command, you don't need to install the gcc compiler anymore.\n",
      "Instead of that, you need to install the OpenMP library, which is required for running LightGBM on the system with the Apple Clang compiler.\n",
      "You can install the OpenMP library by the following command: ``brew install libomp``.\n",
      "  \"You can install the OpenMP library by the following command: ``brew install libomp``.\", UserWarning)\n",
      "Using TensorFlow backend.\n"
     ]
    }
   ],
   "source": [
    "%load_ext autoreload\n",
    "%autoreload 2\n",
    "\n",
    "import sys\n",
    "sys.path.insert(0, \"/Users/user/git/datasci\")\n",
    "from sci.metrics import rmse_score\n",
    "from plots import *\n",
    "import sci.features as scif\n",
    "import sci.learn as scil\n",
    "import sci.plots as scip\n",
    "\n",
    "\n",
    "import pandas as pd\n",
    "pd.set_option('display.float_format', lambda x: '{:.4f}'.format(x)) #Limiting floats output to\n",
    "pd.options.display.max_rows = 999\n",
    "\n",
    "import numpy as np\n",
    "\n",
    "import seaborn as sns\n",
    "color = sns.color_palette()\n",
    "sns.set_style('darkgrid')\n"
   ]
  },
  {
   "cell_type": "markdown",
   "metadata": {},
   "source": [
    "## Load Data"
   ]
  },
  {
   "cell_type": "code",
   "execution_count": 31,
   "metadata": {
    "ExecuteTime": {
     "end_time": "2019-03-02T06:41:09.938541Z",
     "start_time": "2019-03-02T06:41:09.873005Z"
    }
   },
   "outputs": [],
   "source": [
    "# raw data\n",
    "df_train = pd.read_csv('input/train.csv')\n",
    "df_test = pd.read_csv('input/test.csv')"
   ]
  },
  {
   "cell_type": "code",
   "execution_count": 32,
   "metadata": {
    "ExecuteTime": {
     "end_time": "2019-03-02T06:41:10.136992Z",
     "start_time": "2019-03-02T06:41:10.076199Z"
    }
   },
   "outputs": [
    {
     "name": "stdout",
     "output_type": "stream",
     "text": [
      "(891,)\n",
      "(891, 11)\n",
      "(891, 10)\n",
      "(418, 10)\n"
     ]
    }
   ],
   "source": [
    "df_train = df_train.set_index(\"PassengerId\")\n",
    "df_test = df_test.set_index(\"PassengerId\")\n",
    "\n",
    "y = df_train[\"Survived\"]\n",
    "X = df_train.drop('Survived', axis=1)\n",
    "\n",
    "print(y.shape)\n",
    "print(df_train.shape)\n",
    "print(X.shape)\n",
    "print(df_test.shape)"
   ]
  },
  {
   "cell_type": "code",
   "execution_count": 33,
   "metadata": {
    "ExecuteTime": {
     "end_time": "2019-03-02T06:41:10.405079Z",
     "start_time": "2019-03-02T06:41:10.264860Z"
    }
   },
   "outputs": [
    {
     "data": {
      "text/html": [
       "<div>\n",
       "<style scoped>\n",
       "    .dataframe tbody tr th:only-of-type {\n",
       "        vertical-align: middle;\n",
       "    }\n",
       "\n",
       "    .dataframe tbody tr th {\n",
       "        vertical-align: top;\n",
       "    }\n",
       "\n",
       "    .dataframe thead th {\n",
       "        text-align: right;\n",
       "    }\n",
       "</style>\n",
       "<table border=\"1\" class=\"dataframe\">\n",
       "  <thead>\n",
       "    <tr style=\"text-align: right;\">\n",
       "      <th></th>\n",
       "      <th>count</th>\n",
       "      <th>missing</th>\n",
       "      <th>percent</th>\n",
       "      <th>dtype</th>\n",
       "      <th>types</th>\n",
       "      <th>uniq</th>\n",
       "      <th>values</th>\n",
       "      <th>freq</th>\n",
       "    </tr>\n",
       "  </thead>\n",
       "  <tbody>\n",
       "    <tr>\n",
       "      <th>Cabin</th>\n",
       "      <td>204</td>\n",
       "      <td>687</td>\n",
       "      <td>77.1044</td>\n",
       "      <td>object</td>\n",
       "      <td>str</td>\n",
       "      <td>147</td>\n",
       "      <td>A10, A14, A16, A19, A20, A23, A24, A26, ...</td>\n",
       "      <td>'C23 C25 C27':4, 'B96 B98':4, 'G6':4, 'C22...</td>\n",
       "    </tr>\n",
       "    <tr>\n",
       "      <th>Age</th>\n",
       "      <td>714</td>\n",
       "      <td>177</td>\n",
       "      <td>19.8653</td>\n",
       "      <td>float64</td>\n",
       "      <td>float</td>\n",
       "      <td>88</td>\n",
       "      <td>0.42, 0.67, 0.75, 0.83, 0.92, 1.0, 2.0, ...</td>\n",
       "      <td>'24.0':30, '22.0':27, '18.0':26, '19.0':25...</td>\n",
       "    </tr>\n",
       "    <tr>\n",
       "      <th>Embarked</th>\n",
       "      <td>889</td>\n",
       "      <td>2</td>\n",
       "      <td>0.2245</td>\n",
       "      <td>object</td>\n",
       "      <td>str</td>\n",
       "      <td>3</td>\n",
       "      <td>C, Q, S</td>\n",
       "      <td>'S':644, 'C':168, 'Q':77...</td>\n",
       "    </tr>\n",
       "    <tr>\n",
       "      <th>Survived</th>\n",
       "      <td>891</td>\n",
       "      <td>0</td>\n",
       "      <td>0.0000</td>\n",
       "      <td>int64</td>\n",
       "      <td>int</td>\n",
       "      <td>2</td>\n",
       "      <td>0, 1</td>\n",
       "      <td>'0':549, '1':342...</td>\n",
       "    </tr>\n",
       "    <tr>\n",
       "      <th>Pclass</th>\n",
       "      <td>891</td>\n",
       "      <td>0</td>\n",
       "      <td>0.0000</td>\n",
       "      <td>int64</td>\n",
       "      <td>int</td>\n",
       "      <td>3</td>\n",
       "      <td>1, 2, 3</td>\n",
       "      <td>'3':491, '1':216, '2':184...</td>\n",
       "    </tr>\n",
       "    <tr>\n",
       "      <th>Name</th>\n",
       "      <td>891</td>\n",
       "      <td>0</td>\n",
       "      <td>0.0000</td>\n",
       "      <td>object</td>\n",
       "      <td>str</td>\n",
       "      <td>891</td>\n",
       "      <td>Abbing, Mr. Anthony, ...</td>\n",
       "      <td>'Peter,  Mrs. Catherine (Catherine Rizk)...</td>\n",
       "    </tr>\n",
       "    <tr>\n",
       "      <th>Sex</th>\n",
       "      <td>891</td>\n",
       "      <td>0</td>\n",
       "      <td>0.0000</td>\n",
       "      <td>object</td>\n",
       "      <td>str</td>\n",
       "      <td>2</td>\n",
       "      <td>female, male</td>\n",
       "      <td>'male':577, 'female':314...</td>\n",
       "    </tr>\n",
       "    <tr>\n",
       "      <th>SibSp</th>\n",
       "      <td>891</td>\n",
       "      <td>0</td>\n",
       "      <td>0.0000</td>\n",
       "      <td>int64</td>\n",
       "      <td>int</td>\n",
       "      <td>7</td>\n",
       "      <td>0, 1, 2, 3, 4, 5, 8</td>\n",
       "      <td>'0':608, '1':209, '2':28, '4':18, '3':16, '8...</td>\n",
       "    </tr>\n",
       "    <tr>\n",
       "      <th>Parch</th>\n",
       "      <td>891</td>\n",
       "      <td>0</td>\n",
       "      <td>0.0000</td>\n",
       "      <td>int64</td>\n",
       "      <td>int</td>\n",
       "      <td>7</td>\n",
       "      <td>0, 1, 2, 3, 4, 5, 6</td>\n",
       "      <td>'0':678, '1':118, '2':80, '5':5, '3':5, '4':...</td>\n",
       "    </tr>\n",
       "    <tr>\n",
       "      <th>Ticket</th>\n",
       "      <td>891</td>\n",
       "      <td>0</td>\n",
       "      <td>0.0000</td>\n",
       "      <td>object</td>\n",
       "      <td>str</td>\n",
       "      <td>681</td>\n",
       "      <td>110152, 110413, 110465, 110564, 110813, ...</td>\n",
       "      <td>'CA. 2343':7, '347082':7, '1601':7, '31012...</td>\n",
       "    </tr>\n",
       "    <tr>\n",
       "      <th>Fare</th>\n",
       "      <td>891</td>\n",
       "      <td>0</td>\n",
       "      <td>0.0000</td>\n",
       "      <td>float64</td>\n",
       "      <td>float</td>\n",
       "      <td>248</td>\n",
       "      <td>0.0, 4.0125, 5.0, 6.2375, 6.4375, 6.45, ...</td>\n",
       "      <td>'8.05':43, '13.0':42, '7.8958':38, '7.75':...</td>\n",
       "    </tr>\n",
       "  </tbody>\n",
       "</table>\n",
       "</div>"
      ],
      "text/plain": [
       "          count  missing  percent    dtype  types  uniq  \\\n",
       "Cabin       204      687  77.1044   object    str   147   \n",
       "Age         714      177  19.8653  float64  float    88   \n",
       "Embarked    889        2   0.2245   object    str     3   \n",
       "Survived    891        0   0.0000    int64    int     2   \n",
       "Pclass      891        0   0.0000    int64    int     3   \n",
       "Name        891        0   0.0000   object    str   891   \n",
       "Sex         891        0   0.0000   object    str     2   \n",
       "SibSp       891        0   0.0000    int64    int     7   \n",
       "Parch       891        0   0.0000    int64    int     7   \n",
       "Ticket      891        0   0.0000   object    str   681   \n",
       "Fare        891        0   0.0000  float64  float   248   \n",
       "\n",
       "                                               values  \\\n",
       "Cabin     A10, A14, A16, A19, A20, A23, A24, A26, ...   \n",
       "Age       0.42, 0.67, 0.75, 0.83, 0.92, 1.0, 2.0, ...   \n",
       "Embarked                                      C, Q, S   \n",
       "Survived                                         0, 1   \n",
       "Pclass                                        1, 2, 3   \n",
       "Name                         Abbing, Mr. Anthony, ...   \n",
       "Sex                                      female, male   \n",
       "SibSp                             0, 1, 2, 3, 4, 5, 8   \n",
       "Parch                             0, 1, 2, 3, 4, 5, 6   \n",
       "Ticket    110152, 110413, 110465, 110564, 110813, ...   \n",
       "Fare      0.0, 4.0125, 5.0, 6.2375, 6.4375, 6.45, ...   \n",
       "\n",
       "                                                     freq  \n",
       "Cabin       'C23 C25 C27':4, 'B96 B98':4, 'G6':4, 'C22...  \n",
       "Age         '24.0':30, '22.0':27, '18.0':26, '19.0':25...  \n",
       "Embarked                      'S':644, 'C':168, 'Q':77...  \n",
       "Survived                              '0':549, '1':342...  \n",
       "Pclass                       '3':491, '1':216, '2':184...  \n",
       "Name          'Peter,  Mrs. Catherine (Catherine Rizk)...  \n",
       "Sex                           'male':577, 'female':314...  \n",
       "SibSp     '0':608, '1':209, '2':28, '4':18, '3':16, '8...  \n",
       "Parch     '0':678, '1':118, '2':80, '5':5, '3':5, '4':...  \n",
       "Ticket      'CA. 2343':7, '347082':7, '1601':7, '31012...  \n",
       "Fare        '8.05':43, '13.0':42, '7.8958':38, '7.75':...  "
      ]
     },
     "execution_count": 33,
     "metadata": {},
     "output_type": "execute_result"
    }
   ],
   "source": [
    "scif.df_summary(df_train)"
   ]
  },
  {
   "cell_type": "markdown",
   "metadata": {},
   "source": [
    "## process"
   ]
  },
  {
   "cell_type": "code",
   "execution_count": 61,
   "metadata": {
    "ExecuteTime": {
     "end_time": "2019-03-02T06:55:39.544226Z",
     "start_time": "2019-03-02T06:55:39.265127Z"
    }
   },
   "outputs": [
    {
     "name": "stdout",
     "output_type": "stream",
     "text": [
      "Dropping Name with 1307 unique str values\n",
      "Dropping Ticket with 929 unique str values\n",
      "Dropping Cabin with 186 unique str values\n"
     ]
    }
   ],
   "source": [
    "df_train_proc, df_test_proc = scif.auto_process(df_train, df_test, \"Survived\")"
   ]
  },
  {
   "cell_type": "code",
   "execution_count": 62,
   "metadata": {
    "ExecuteTime": {
     "end_time": "2019-03-02T06:59:00.538362Z",
     "start_time": "2019-03-02T06:59:00.413831Z"
    }
   },
   "outputs": [
    {
     "data": {
      "text/html": [
       "<div>\n",
       "<style scoped>\n",
       "    .dataframe tbody tr th:only-of-type {\n",
       "        vertical-align: middle;\n",
       "    }\n",
       "\n",
       "    .dataframe tbody tr th {\n",
       "        vertical-align: top;\n",
       "    }\n",
       "\n",
       "    .dataframe thead th {\n",
       "        text-align: right;\n",
       "    }\n",
       "</style>\n",
       "<table border=\"1\" class=\"dataframe\">\n",
       "  <thead>\n",
       "    <tr style=\"text-align: right;\">\n",
       "      <th></th>\n",
       "      <th>count</th>\n",
       "      <th>missing</th>\n",
       "      <th>percent</th>\n",
       "      <th>dtype</th>\n",
       "      <th>types</th>\n",
       "      <th>uniq</th>\n",
       "      <th>values</th>\n",
       "      <th>freq</th>\n",
       "    </tr>\n",
       "  </thead>\n",
       "  <tbody>\n",
       "    <tr>\n",
       "      <th>Pclass</th>\n",
       "      <td>891</td>\n",
       "      <td>0</td>\n",
       "      <td>0.0000</td>\n",
       "      <td>float64</td>\n",
       "      <td>float</td>\n",
       "      <td>3</td>\n",
       "      <td>1.0, 2.0, 3.0</td>\n",
       "      <td>'3.0':491, '1.0':216, '2.0':184...</td>\n",
       "    </tr>\n",
       "    <tr>\n",
       "      <th>Age</th>\n",
       "      <td>891</td>\n",
       "      <td>0</td>\n",
       "      <td>0.0000</td>\n",
       "      <td>float64</td>\n",
       "      <td>float</td>\n",
       "      <td>186</td>\n",
       "      <td>-7.636280494105499, -4.643542120291784, ...</td>\n",
       "      <td>'24.0':30, '22.0':27, '18.0':26, '28.0':25...</td>\n",
       "    </tr>\n",
       "    <tr>\n",
       "      <th>SibSp</th>\n",
       "      <td>891</td>\n",
       "      <td>0</td>\n",
       "      <td>0.0000</td>\n",
       "      <td>float64</td>\n",
       "      <td>float</td>\n",
       "      <td>7</td>\n",
       "      <td>0.0, 1.0, 2.0, 3.0, 4.0, 5.0, 8.0</td>\n",
       "      <td>'0.0':608, '1.0':209, '2.0':28, '4.0':18, '...</td>\n",
       "    </tr>\n",
       "    <tr>\n",
       "      <th>Parch</th>\n",
       "      <td>891</td>\n",
       "      <td>0</td>\n",
       "      <td>0.0000</td>\n",
       "      <td>float64</td>\n",
       "      <td>float</td>\n",
       "      <td>7</td>\n",
       "      <td>0.0, 1.0, 2.0, 3.0, 4.0, 5.0, 6.0</td>\n",
       "      <td>'0.0':678, '1.0':118, '2.0':80, '3.0':5, '5...</td>\n",
       "    </tr>\n",
       "    <tr>\n",
       "      <th>Fare</th>\n",
       "      <td>891</td>\n",
       "      <td>0</td>\n",
       "      <td>0.0000</td>\n",
       "      <td>float64</td>\n",
       "      <td>float</td>\n",
       "      <td>248</td>\n",
       "      <td>0.0, 4.0125, 5.0, 6.2375, 6.4375, 6.45, ...</td>\n",
       "      <td>'8.05':43, '13.0':42, '7.8958':38, '7.75':...</td>\n",
       "    </tr>\n",
       "    <tr>\n",
       "      <th>Sex_male</th>\n",
       "      <td>891</td>\n",
       "      <td>0</td>\n",
       "      <td>0.0000</td>\n",
       "      <td>float64</td>\n",
       "      <td>float</td>\n",
       "      <td>2</td>\n",
       "      <td>0.0, 1.0</td>\n",
       "      <td>'1.0':577, '0.0':314...</td>\n",
       "    </tr>\n",
       "    <tr>\n",
       "      <th>Sex_nan</th>\n",
       "      <td>891</td>\n",
       "      <td>0</td>\n",
       "      <td>0.0000</td>\n",
       "      <td>float64</td>\n",
       "      <td>float</td>\n",
       "      <td>1</td>\n",
       "      <td>0.0</td>\n",
       "      <td>'0.0':891...</td>\n",
       "    </tr>\n",
       "    <tr>\n",
       "      <th>Embarked_Q</th>\n",
       "      <td>891</td>\n",
       "      <td>0</td>\n",
       "      <td>0.0000</td>\n",
       "      <td>float64</td>\n",
       "      <td>float</td>\n",
       "      <td>2</td>\n",
       "      <td>0.0, 1.0</td>\n",
       "      <td>'0.0':814, '1.0':77...</td>\n",
       "    </tr>\n",
       "    <tr>\n",
       "      <th>Embarked_S</th>\n",
       "      <td>891</td>\n",
       "      <td>0</td>\n",
       "      <td>0.0000</td>\n",
       "      <td>float64</td>\n",
       "      <td>float</td>\n",
       "      <td>2</td>\n",
       "      <td>0.0, 1.0</td>\n",
       "      <td>'1.0':644, '0.0':247...</td>\n",
       "    </tr>\n",
       "    <tr>\n",
       "      <th>Embarked_nan</th>\n",
       "      <td>891</td>\n",
       "      <td>0</td>\n",
       "      <td>0.0000</td>\n",
       "      <td>float64</td>\n",
       "      <td>float</td>\n",
       "      <td>2</td>\n",
       "      <td>0.0, 1.0</td>\n",
       "      <td>'0.0':889, '1.0':2...</td>\n",
       "    </tr>\n",
       "  </tbody>\n",
       "</table>\n",
       "</div>"
      ],
      "text/plain": [
       "              count  missing  percent    dtype  types  uniq  \\\n",
       "Pclass          891        0   0.0000  float64  float     3   \n",
       "Age             891        0   0.0000  float64  float   186   \n",
       "SibSp           891        0   0.0000  float64  float     7   \n",
       "Parch           891        0   0.0000  float64  float     7   \n",
       "Fare            891        0   0.0000  float64  float   248   \n",
       "Sex_male        891        0   0.0000  float64  float     2   \n",
       "Sex_nan         891        0   0.0000  float64  float     1   \n",
       "Embarked_Q      891        0   0.0000  float64  float     2   \n",
       "Embarked_S      891        0   0.0000  float64  float     2   \n",
       "Embarked_nan    891        0   0.0000  float64  float     2   \n",
       "\n",
       "                                                   values  \\\n",
       "Pclass                                      1.0, 2.0, 3.0   \n",
       "Age           -7.636280494105499, -4.643542120291784, ...   \n",
       "SibSp                   0.0, 1.0, 2.0, 3.0, 4.0, 5.0, 8.0   \n",
       "Parch                   0.0, 1.0, 2.0, 3.0, 4.0, 5.0, 6.0   \n",
       "Fare          0.0, 4.0125, 5.0, 6.2375, 6.4375, 6.45, ...   \n",
       "Sex_male                                         0.0, 1.0   \n",
       "Sex_nan                                               0.0   \n",
       "Embarked_Q                                       0.0, 1.0   \n",
       "Embarked_S                                       0.0, 1.0   \n",
       "Embarked_nan                                     0.0, 1.0   \n",
       "\n",
       "                                                        freq  \n",
       "Pclass                    '3.0':491, '1.0':216, '2.0':184...  \n",
       "Age            '24.0':30, '22.0':27, '18.0':26, '28.0':25...  \n",
       "SibSp         '0.0':608, '1.0':209, '2.0':28, '4.0':18, '...  \n",
       "Parch         '0.0':678, '1.0':118, '2.0':80, '3.0':5, '5...  \n",
       "Fare           '8.05':43, '13.0':42, '7.8958':38, '7.75':...  \n",
       "Sex_male                             '1.0':577, '0.0':314...  \n",
       "Sex_nan                                         '0.0':891...  \n",
       "Embarked_Q                            '0.0':814, '1.0':77...  \n",
       "Embarked_S                           '1.0':644, '0.0':247...  \n",
       "Embarked_nan                           '0.0':889, '1.0':2...  "
      ]
     },
     "execution_count": 62,
     "metadata": {},
     "output_type": "execute_result"
    }
   ],
   "source": [
    "scif.df_summary(df_train_proc)"
   ]
  },
  {
   "cell_type": "markdown",
   "metadata": {},
   "source": [
    "## Save"
   ]
  },
  {
   "cell_type": "code",
   "execution_count": 63,
   "metadata": {
    "ExecuteTime": {
     "end_time": "2019-03-02T06:59:09.532875Z",
     "start_time": "2019-03-02T06:59:09.324563Z"
    }
   },
   "outputs": [],
   "source": [
    "path = 'processed_auto'\n",
    "!mkdir -p $path\n",
    "df_train_proc.to_msgpack(f'{path}/X.msgpack')\n",
    "y.to_msgpack(f'{path}/y.msgpack')\n",
    "df_test_proc.to_msgpack(f'{path}/X_score.msgpack')\n",
    "\n",
    "# from sklearn.externals import joblib\n",
    "# joblib.dump(y_tr, f'{path}/y_tr.joblib')\n"
   ]
  },
  {
   "cell_type": "markdown",
   "metadata": {},
   "source": [
    "## Quick Test"
   ]
  },
  {
   "cell_type": "code",
   "execution_count": 64,
   "metadata": {
    "ExecuteTime": {
     "end_time": "2019-03-02T06:59:10.843780Z",
     "start_time": "2019-03-02T06:59:10.774230Z"
    }
   },
   "outputs": [],
   "source": [
    "import sklearn.utils\n",
    "from sklearn.linear_model import *\n",
    "from sklearn.metrics import roc_auc_score, make_scorer"
   ]
  },
  {
   "cell_type": "code",
   "execution_count": 65,
   "metadata": {
    "ExecuteTime": {
     "end_time": "2019-03-02T06:59:15.842059Z",
     "start_time": "2019-03-02T06:59:13.262327Z"
    }
   },
   "outputs": [
    {
     "name": "stdout",
     "output_type": "stream",
     "text": [
      "(891, 10) (891,)\n",
      "CV for XGBClassifier ..\n"
     ]
    },
    {
     "name": "stderr",
     "output_type": "stream",
     "text": [
      "[Parallel(n_jobs=11)]: Using backend LokyBackend with 11 concurrent workers.\n",
      "[Parallel(n_jobs=11)]: Done  10 out of  10 | elapsed:    2.5s finished\n"
     ]
    },
    {
     "data": {
      "text/html": [
       "<div>\n",
       "<style scoped>\n",
       "    .dataframe tbody tr th:only-of-type {\n",
       "        vertical-align: middle;\n",
       "    }\n",
       "\n",
       "    .dataframe tbody tr th {\n",
       "        vertical-align: top;\n",
       "    }\n",
       "\n",
       "    .dataframe thead th {\n",
       "        text-align: right;\n",
       "    }\n",
       "</style>\n",
       "<table border=\"1\" class=\"dataframe\">\n",
       "  <thead>\n",
       "    <tr style=\"text-align: right;\">\n",
       "      <th></th>\n",
       "      <th>mean</th>\n",
       "      <th>std</th>\n",
       "    </tr>\n",
       "  </thead>\n",
       "  <tbody>\n",
       "    <tr>\n",
       "      <th>XGBClassifier</th>\n",
       "      <td>0.8273</td>\n",
       "      <td>0.0125</td>\n",
       "    </tr>\n",
       "  </tbody>\n",
       "</table>\n",
       "</div>"
      ],
      "text/plain": [
       "                mean    std\n",
       "XGBClassifier 0.8273 0.0125"
      ]
     },
     "metadata": {},
     "output_type": "display_data"
    },
    {
     "name": "stderr",
     "output_type": "stream",
     "text": [
      "Can't plot with only a single or no samples\n"
     ]
    }
   ],
   "source": [
    "import xgboost\n",
    "from sklearn.svm import SVC, LinearSVC, NuSVC\n",
    "\n",
    "# model = ElasticNetCV(l1_ratio=0.5)\n",
    "model = xgboost.XGBClassifier()\n",
    "# model = SVC(kernel=\"linear\", C=0.025, probability=True)\n",
    "\n",
    "sci.metric_global = roc_auc_score\n",
    "sci.scoring_global = 'accuracy'\n",
    "\n",
    "data = scil.load_data(path)\n",
    "cv_scores = scil.score_cv(data, model, scoring=sci.scoring_global, verbose=2, cv=10)"
   ]
  },
  {
   "cell_type": "code",
   "execution_count": null,
   "metadata": {},
   "outputs": [],
   "source": []
  },
  {
   "cell_type": "code",
   "execution_count": null,
   "metadata": {},
   "outputs": [],
   "source": []
  }
 ],
 "metadata": {
  "kernelspec": {
   "display_name": "Python 3",
   "language": "python",
   "name": "python3"
  },
  "language_info": {
   "codemirror_mode": {
    "name": "ipython",
    "version": 3
   },
   "file_extension": ".py",
   "mimetype": "text/x-python",
   "name": "python",
   "nbconvert_exporter": "python",
   "pygments_lexer": "ipython3",
   "version": "3.6.8"
  }
 },
 "nbformat": 4,
 "nbformat_minor": 2
}
