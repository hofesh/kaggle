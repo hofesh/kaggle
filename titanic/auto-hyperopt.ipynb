{
 "cells": [
  {
   "cell_type": "code",
   "execution_count": 1,
   "metadata": {
    "ExecuteTime": {
     "end_time": "2019-03-14T10:01:19.924820Z",
     "start_time": "2019-03-14T10:01:18.754902Z"
    }
   },
   "outputs": [],
   "source": [
    "%load_ext autoreload\n",
    "%autoreload 2\n",
    "\n",
    "from sci.metrics import rmse, rmse_score, neg_rmse_score\n",
    "import sci.plots as scip\n",
    "import sci.learn as scil\n",
    "\n",
    "# %matplotlib inline\n",
    "# import matplotlib\n",
    "# matplotlib.rcParams['figure.figsize'] = (10, 6)\n",
    "\n",
    "import warnings\n",
    "warnings.filterwarnings('ignore')\n",
    "\n",
    "import pandas as pd\n",
    "pd.set_option('display.float_format', lambda x: '{:.5f}'.format(x)) #Limiting floats output to 3 decimal points\n",
    "pd.options.display.max_rows = 1000\n",
    "\n",
    "# import seaborn as sns\n",
    "# import matplotlib.pyplot as plt\n",
    "\n",
    "random_state = 7"
   ]
  },
  {
   "cell_type": "markdown",
   "metadata": {},
   "source": [
    "## Load Data"
   ]
  },
  {
   "cell_type": "code",
   "execution_count": 3,
   "metadata": {
    "ExecuteTime": {
     "end_time": "2019-03-14T10:01:20.534428Z",
     "start_time": "2019-03-14T10:01:20.181307Z"
    }
   },
   "outputs": [
    {
     "name": "stdout",
     "output_type": "stream",
     "text": [
      "(891, 16) (891,)\n",
      "train: (712, 16)\n",
      "test: (179, 16)\n"
     ]
    }
   ],
   "source": [
    "data = scil.load_data(\"processed_my2\", random_state=random_state)\n"
   ]
  },
  {
   "cell_type": "markdown",
   "metadata": {},
   "source": [
    "## Setup"
   ]
  },
  {
   "cell_type": "code",
   "execution_count": 4,
   "metadata": {
    "ExecuteTime": {
     "end_time": "2019-03-14T10:01:20.943882Z",
     "start_time": "2019-03-14T10:01:20.902518Z"
    }
   },
   "outputs": [],
   "source": [
    "# from mlxtend.evaluate import BootstrapOutOfBag, RandomHoldoutSplit\n",
    "from sklearn.metrics import *\n",
    "\n",
    "metric = accuracy_score\n",
    "scoring = 'accuracy'\n",
    "\n",
    "# scil.metric_global = metric\n",
    "# scil.scoring_global = scoring # make_scorer(scil.metric_global, needs_proba=True)\n",
    "\n",
    "# format\n",
    "# cv_{total_splits}_{train/test-fold}\n",
    "# cv_1_10 = RandomHoldoutSplit(valid_size=0.1, stratify=True, random_seed=None)\n",
    "cv_5_5 = 5\n",
    "cv_10_10 = 10\n",
    "# cv_1000_10 = RepeatedStratifiedKFold(n_splits=10, n_repeats=100)\n",
    "# cv_1000_20 = RepeatedStratifiedKFold(n_splits=20, n_repeats=50)\n",
    "\n",
    "# cv_single = cv_1_10\n",
    "# cv_fast = cv_10_10\n",
    "# cv_slow = cv_1000_20\n",
    "\n",
    "def drop_str_features(df):\n",
    "    return df.drop([c for c in df.columns if df[c].dtype == \"object\"], axis=1)\n"
   ]
  },
  {
   "cell_type": "markdown",
   "metadata": {},
   "source": [
    "## Auto"
   ]
  },
  {
   "cell_type": "code",
   "execution_count": 5,
   "metadata": {
    "ExecuteTime": {
     "end_time": "2019-03-14T10:01:22.825551Z",
     "start_time": "2019-03-14T10:01:22.778450Z"
    }
   },
   "outputs": [],
   "source": [
    "X_train = data.X_train\n",
    "y_train = data.y_train\n",
    "X_test = data.X_test\n",
    "y_test = data.y_test\n",
    "X = data.X\n",
    "y = data.y\n",
    "X_score = data.X_score\n",
    "\n",
    "X = drop_str_features(X)\n",
    "X_score = drop_str_features(X_score)\n",
    "X_train = drop_str_features(X_train)\n",
    "X_test = drop_str_features(X_test)"
   ]
  },
  {
   "cell_type": "code",
   "execution_count": 6,
   "metadata": {
    "ExecuteTime": {
     "end_time": "2019-03-14T10:01:40.925329Z",
     "start_time": "2019-03-14T10:01:40.239654Z"
    }
   },
   "outputs": [
    {
     "name": "stdout",
     "output_type": "stream",
     "text": [
      "WARN: OMP_NUM_THREADS=None =>\n",
      "... If you are using openblas if you are using openblas set OMP_NUM_THREADS=1 or risk subprocess calls hanging indefinitely\n"
     ]
    }
   ],
   "source": []
  },
  {
   "cell_type": "code",
   "execution_count": 7,
   "metadata": {
    "ExecuteTime": {
     "end_time": "2019-03-14T10:01:59.571137Z",
     "start_time": "2019-03-14T10:01:59.527644Z"
    }
   },
   "outputs": [],
   "source": [
    "from hpsklearn import HyperoptEstimator\n",
    "import hpsklearn"
   ]
  },
  {
   "cell_type": "code",
   "execution_count": 17,
   "metadata": {
    "ExecuteTime": {
     "end_time": "2019-03-14T11:10:40.351120Z",
     "start_time": "2019-03-14T11:10:40.265222Z"
    }
   },
   "outputs": [],
   "source": [
    "estim = HyperoptEstimator(max_evals=10)\n",
    "# estim.fit(X_train.values, y_train.values)"
   ]
  },
  {
   "cell_type": "code",
   "execution_count": 23,
   "metadata": {
    "ExecuteTime": {
     "end_time": "2019-03-14T11:12:01.095710Z",
     "start_time": "2019-03-14T11:12:00.987925Z"
    }
   },
   "outputs": [
    {
     "ename": "AttributeError",
     "evalue": "'NoneType' object has no attribute 'randint'",
     "output_type": "error",
     "traceback": [
      "\u001b[0;31m---------------------------------------------------------------------------\u001b[0m",
      "\u001b[0;31mAttributeError\u001b[0m                            Traceback (most recent call last)",
      "\u001b[0;32m<ipython-input-23-1996f566b77a>\u001b[0m in \u001b[0;36m<module>\u001b[0;34m\u001b[0m\n\u001b[1;32m      1\u001b[0m \u001b[0;32mfrom\u001b[0m \u001b[0msklearn\u001b[0m\u001b[0;34m.\u001b[0m\u001b[0mbase\u001b[0m \u001b[0;32mimport\u001b[0m \u001b[0mclone\u001b[0m\u001b[0;34m\u001b[0m\u001b[0;34m\u001b[0m\u001b[0m\n\u001b[0;32m----> 2\u001b[0;31m \u001b[0mclone\u001b[0m\u001b[0;34m(\u001b[0m\u001b[0mestim\u001b[0m\u001b[0;34m)\u001b[0m\u001b[0;34m\u001b[0m\u001b[0;34m\u001b[0m\u001b[0m\n\u001b[0m",
      "\u001b[0;32m~/miniconda3/envs/test2/lib/python3.6/site-packages/sklearn/base.py\u001b[0m in \u001b[0;36mclone\u001b[0;34m(estimator, safe)\u001b[0m\n\u001b[1;32m     61\u001b[0m     \u001b[0;32mfor\u001b[0m \u001b[0mname\u001b[0m\u001b[0;34m,\u001b[0m \u001b[0mparam\u001b[0m \u001b[0;32min\u001b[0m \u001b[0msix\u001b[0m\u001b[0;34m.\u001b[0m\u001b[0miteritems\u001b[0m\u001b[0;34m(\u001b[0m\u001b[0mnew_object_params\u001b[0m\u001b[0;34m)\u001b[0m\u001b[0;34m:\u001b[0m\u001b[0;34m\u001b[0m\u001b[0;34m\u001b[0m\u001b[0m\n\u001b[1;32m     62\u001b[0m         \u001b[0mnew_object_params\u001b[0m\u001b[0;34m[\u001b[0m\u001b[0mname\u001b[0m\u001b[0;34m]\u001b[0m \u001b[0;34m=\u001b[0m \u001b[0mclone\u001b[0m\u001b[0;34m(\u001b[0m\u001b[0mparam\u001b[0m\u001b[0;34m,\u001b[0m \u001b[0msafe\u001b[0m\u001b[0;34m=\u001b[0m\u001b[0;32mFalse\u001b[0m\u001b[0;34m)\u001b[0m\u001b[0;34m\u001b[0m\u001b[0;34m\u001b[0m\u001b[0m\n\u001b[0;32m---> 63\u001b[0;31m     \u001b[0mnew_object\u001b[0m \u001b[0;34m=\u001b[0m \u001b[0mklass\u001b[0m\u001b[0;34m(\u001b[0m\u001b[0;34m**\u001b[0m\u001b[0mnew_object_params\u001b[0m\u001b[0;34m)\u001b[0m\u001b[0;34m\u001b[0m\u001b[0;34m\u001b[0m\u001b[0m\n\u001b[0m\u001b[1;32m     64\u001b[0m     \u001b[0mparams_set\u001b[0m \u001b[0;34m=\u001b[0m \u001b[0mnew_object\u001b[0m\u001b[0;34m.\u001b[0m\u001b[0mget_params\u001b[0m\u001b[0;34m(\u001b[0m\u001b[0mdeep\u001b[0m\u001b[0;34m=\u001b[0m\u001b[0;32mFalse\u001b[0m\u001b[0;34m)\u001b[0m\u001b[0;34m\u001b[0m\u001b[0;34m\u001b[0m\u001b[0m\n\u001b[1;32m     65\u001b[0m \u001b[0;34m\u001b[0m\u001b[0m\n",
      "\u001b[0;32m~/git/hyperopt-sklearn/hpsklearn/estimator.py\u001b[0m in \u001b[0;36m__init__\u001b[0;34m(self, preprocessing, ex_preprocs, classifier, regressor, space, algo, max_evals, loss_fn, continuous_loss_fn, verbose, trial_timeout, fit_increment, fit_increment_dump_filename, seed, use_partial_fit, refit)\u001b[0m\n\u001b[1;32m    563\u001b[0m             \u001b[0;31m# self.space = hyperopt.pyll.as_apply(space)\u001b[0m\u001b[0;34m\u001b[0m\u001b[0;34m\u001b[0m\u001b[0;34m\u001b[0m\u001b[0m\n\u001b[1;32m    564\u001b[0m             \u001b[0mself\u001b[0m\u001b[0;34m.\u001b[0m\u001b[0mspace\u001b[0m \u001b[0;34m=\u001b[0m \u001b[0mspace\u001b[0m\u001b[0;34m\u001b[0m\u001b[0;34m\u001b[0m\u001b[0m\n\u001b[0;32m--> 565\u001b[0;31m             \u001b[0mevaled_space\u001b[0m \u001b[0;34m=\u001b[0m \u001b[0mspace\u001b[0m\u001b[0;34m.\u001b[0m\u001b[0meval\u001b[0m\u001b[0;34m(\u001b[0m\u001b[0;34m)\u001b[0m\u001b[0;34m\u001b[0m\u001b[0;34m\u001b[0m\u001b[0m\n\u001b[0m\u001b[1;32m    566\u001b[0m             \u001b[0;32mif\u001b[0m \u001b[0;34m'ex_preprocs'\u001b[0m \u001b[0;32min\u001b[0m \u001b[0mevaled_space\u001b[0m\u001b[0;34m:\u001b[0m\u001b[0;34m\u001b[0m\u001b[0;34m\u001b[0m\u001b[0m\n\u001b[1;32m    567\u001b[0m                 \u001b[0mself\u001b[0m\u001b[0;34m.\u001b[0m\u001b[0mn_ex_pps\u001b[0m \u001b[0;34m=\u001b[0m \u001b[0mlen\u001b[0m\u001b[0;34m(\u001b[0m\u001b[0mevaled_space\u001b[0m\u001b[0;34m[\u001b[0m\u001b[0;34m'ex_preprocs'\u001b[0m\u001b[0;34m]\u001b[0m\u001b[0;34m)\u001b[0m\u001b[0;34m\u001b[0m\u001b[0;34m\u001b[0m\u001b[0m\n",
      "\u001b[0;32m~/miniconda3/envs/test2/lib/python3.6/site-packages/hyperopt/pyll/base.py\u001b[0m in \u001b[0;36meval\u001b[0;34m(self, memo)\u001b[0m\n\u001b[1;32m    290\u001b[0m         \u001b[0;32melse\u001b[0m\u001b[0;34m:\u001b[0m\u001b[0;34m\u001b[0m\u001b[0;34m\u001b[0m\u001b[0m\n\u001b[1;32m    291\u001b[0m             \u001b[0margs\u001b[0m \u001b[0;34m=\u001b[0m \u001b[0;34m[\u001b[0m\u001b[0ma\u001b[0m\u001b[0;34m.\u001b[0m\u001b[0meval\u001b[0m\u001b[0;34m(\u001b[0m\u001b[0;34m)\u001b[0m \u001b[0;32mfor\u001b[0m \u001b[0ma\u001b[0m \u001b[0;32min\u001b[0m \u001b[0mself\u001b[0m\u001b[0;34m.\u001b[0m\u001b[0mpos_args\u001b[0m\u001b[0;34m]\u001b[0m\u001b[0;34m\u001b[0m\u001b[0;34m\u001b[0m\u001b[0m\n\u001b[0;32m--> 292\u001b[0;31m             \u001b[0mkwargs\u001b[0m \u001b[0;34m=\u001b[0m \u001b[0mdict\u001b[0m\u001b[0;34m(\u001b[0m\u001b[0;34m[\u001b[0m\u001b[0;34m(\u001b[0m\u001b[0mn\u001b[0m\u001b[0;34m,\u001b[0m \u001b[0ma\u001b[0m\u001b[0;34m.\u001b[0m\u001b[0meval\u001b[0m\u001b[0;34m(\u001b[0m\u001b[0;34m)\u001b[0m\u001b[0;34m)\u001b[0m \u001b[0;32mfor\u001b[0m \u001b[0;34m(\u001b[0m\u001b[0mn\u001b[0m\u001b[0;34m,\u001b[0m \u001b[0ma\u001b[0m\u001b[0;34m)\u001b[0m \u001b[0;32min\u001b[0m \u001b[0mself\u001b[0m\u001b[0;34m.\u001b[0m\u001b[0mnamed_args\u001b[0m\u001b[0;34m]\u001b[0m\u001b[0;34m)\u001b[0m\u001b[0;34m\u001b[0m\u001b[0;34m\u001b[0m\u001b[0m\n\u001b[0m\u001b[1;32m    293\u001b[0m             \u001b[0mf\u001b[0m \u001b[0;34m=\u001b[0m \u001b[0mscope\u001b[0m\u001b[0;34m.\u001b[0m\u001b[0m_impls\u001b[0m\u001b[0;34m[\u001b[0m\u001b[0mself\u001b[0m\u001b[0;34m.\u001b[0m\u001b[0mname\u001b[0m\u001b[0;34m]\u001b[0m\u001b[0;34m\u001b[0m\u001b[0;34m\u001b[0m\u001b[0m\n\u001b[1;32m    294\u001b[0m             \u001b[0mmemo\u001b[0m\u001b[0;34m[\u001b[0m\u001b[0mid\u001b[0m\u001b[0;34m(\u001b[0m\u001b[0mself\u001b[0m\u001b[0;34m)\u001b[0m\u001b[0;34m]\u001b[0m \u001b[0;34m=\u001b[0m \u001b[0mrval\u001b[0m \u001b[0;34m=\u001b[0m \u001b[0mf\u001b[0m\u001b[0;34m(\u001b[0m\u001b[0;34m*\u001b[0m\u001b[0margs\u001b[0m\u001b[0;34m,\u001b[0m \u001b[0;34m**\u001b[0m\u001b[0mkwargs\u001b[0m\u001b[0;34m)\u001b[0m\u001b[0;34m\u001b[0m\u001b[0;34m\u001b[0m\u001b[0m\n",
      "\u001b[0;32m~/miniconda3/envs/test2/lib/python3.6/site-packages/hyperopt/pyll/base.py\u001b[0m in \u001b[0;36m<listcomp>\u001b[0;34m(.0)\u001b[0m\n\u001b[1;32m    290\u001b[0m         \u001b[0;32melse\u001b[0m\u001b[0;34m:\u001b[0m\u001b[0;34m\u001b[0m\u001b[0;34m\u001b[0m\u001b[0m\n\u001b[1;32m    291\u001b[0m             \u001b[0margs\u001b[0m \u001b[0;34m=\u001b[0m \u001b[0;34m[\u001b[0m\u001b[0ma\u001b[0m\u001b[0;34m.\u001b[0m\u001b[0meval\u001b[0m\u001b[0;34m(\u001b[0m\u001b[0;34m)\u001b[0m \u001b[0;32mfor\u001b[0m \u001b[0ma\u001b[0m \u001b[0;32min\u001b[0m \u001b[0mself\u001b[0m\u001b[0;34m.\u001b[0m\u001b[0mpos_args\u001b[0m\u001b[0;34m]\u001b[0m\u001b[0;34m\u001b[0m\u001b[0;34m\u001b[0m\u001b[0m\n\u001b[0;32m--> 292\u001b[0;31m             \u001b[0mkwargs\u001b[0m \u001b[0;34m=\u001b[0m \u001b[0mdict\u001b[0m\u001b[0;34m(\u001b[0m\u001b[0;34m[\u001b[0m\u001b[0;34m(\u001b[0m\u001b[0mn\u001b[0m\u001b[0;34m,\u001b[0m \u001b[0ma\u001b[0m\u001b[0;34m.\u001b[0m\u001b[0meval\u001b[0m\u001b[0;34m(\u001b[0m\u001b[0;34m)\u001b[0m\u001b[0;34m)\u001b[0m \u001b[0;32mfor\u001b[0m \u001b[0;34m(\u001b[0m\u001b[0mn\u001b[0m\u001b[0;34m,\u001b[0m \u001b[0ma\u001b[0m\u001b[0;34m)\u001b[0m \u001b[0;32min\u001b[0m \u001b[0mself\u001b[0m\u001b[0;34m.\u001b[0m\u001b[0mnamed_args\u001b[0m\u001b[0;34m]\u001b[0m\u001b[0;34m)\u001b[0m\u001b[0;34m\u001b[0m\u001b[0;34m\u001b[0m\u001b[0m\n\u001b[0m\u001b[1;32m    293\u001b[0m             \u001b[0mf\u001b[0m \u001b[0;34m=\u001b[0m \u001b[0mscope\u001b[0m\u001b[0;34m.\u001b[0m\u001b[0m_impls\u001b[0m\u001b[0;34m[\u001b[0m\u001b[0mself\u001b[0m\u001b[0;34m.\u001b[0m\u001b[0mname\u001b[0m\u001b[0;34m]\u001b[0m\u001b[0;34m\u001b[0m\u001b[0;34m\u001b[0m\u001b[0m\n\u001b[1;32m    294\u001b[0m             \u001b[0mmemo\u001b[0m\u001b[0;34m[\u001b[0m\u001b[0mid\u001b[0m\u001b[0;34m(\u001b[0m\u001b[0mself\u001b[0m\u001b[0;34m)\u001b[0m\u001b[0;34m]\u001b[0m \u001b[0;34m=\u001b[0m \u001b[0mrval\u001b[0m \u001b[0;34m=\u001b[0m \u001b[0mf\u001b[0m\u001b[0;34m(\u001b[0m\u001b[0;34m*\u001b[0m\u001b[0margs\u001b[0m\u001b[0;34m,\u001b[0m \u001b[0;34m**\u001b[0m\u001b[0mkwargs\u001b[0m\u001b[0;34m)\u001b[0m\u001b[0;34m\u001b[0m\u001b[0;34m\u001b[0m\u001b[0m\n",
      "\u001b[0;32m~/miniconda3/envs/test2/lib/python3.6/site-packages/hyperopt/pyll/base.py\u001b[0m in \u001b[0;36meval\u001b[0;34m(self, memo)\u001b[0m\n\u001b[1;32m    289\u001b[0m             \u001b[0;32mreturn\u001b[0m \u001b[0mmemo\u001b[0m\u001b[0;34m[\u001b[0m\u001b[0mid\u001b[0m\u001b[0;34m(\u001b[0m\u001b[0mself\u001b[0m\u001b[0;34m)\u001b[0m\u001b[0;34m]\u001b[0m\u001b[0;34m\u001b[0m\u001b[0;34m\u001b[0m\u001b[0m\n\u001b[1;32m    290\u001b[0m         \u001b[0;32melse\u001b[0m\u001b[0;34m:\u001b[0m\u001b[0;34m\u001b[0m\u001b[0;34m\u001b[0m\u001b[0m\n\u001b[0;32m--> 291\u001b[0;31m             \u001b[0margs\u001b[0m \u001b[0;34m=\u001b[0m \u001b[0;34m[\u001b[0m\u001b[0ma\u001b[0m\u001b[0;34m.\u001b[0m\u001b[0meval\u001b[0m\u001b[0;34m(\u001b[0m\u001b[0;34m)\u001b[0m \u001b[0;32mfor\u001b[0m \u001b[0ma\u001b[0m \u001b[0;32min\u001b[0m \u001b[0mself\u001b[0m\u001b[0;34m.\u001b[0m\u001b[0mpos_args\u001b[0m\u001b[0;34m]\u001b[0m\u001b[0;34m\u001b[0m\u001b[0;34m\u001b[0m\u001b[0m\n\u001b[0m\u001b[1;32m    292\u001b[0m             \u001b[0mkwargs\u001b[0m \u001b[0;34m=\u001b[0m \u001b[0mdict\u001b[0m\u001b[0;34m(\u001b[0m\u001b[0;34m[\u001b[0m\u001b[0;34m(\u001b[0m\u001b[0mn\u001b[0m\u001b[0;34m,\u001b[0m \u001b[0ma\u001b[0m\u001b[0;34m.\u001b[0m\u001b[0meval\u001b[0m\u001b[0;34m(\u001b[0m\u001b[0;34m)\u001b[0m\u001b[0;34m)\u001b[0m \u001b[0;32mfor\u001b[0m \u001b[0;34m(\u001b[0m\u001b[0mn\u001b[0m\u001b[0;34m,\u001b[0m \u001b[0ma\u001b[0m\u001b[0;34m)\u001b[0m \u001b[0;32min\u001b[0m \u001b[0mself\u001b[0m\u001b[0;34m.\u001b[0m\u001b[0mnamed_args\u001b[0m\u001b[0;34m]\u001b[0m\u001b[0;34m)\u001b[0m\u001b[0;34m\u001b[0m\u001b[0;34m\u001b[0m\u001b[0m\n\u001b[1;32m    293\u001b[0m             \u001b[0mf\u001b[0m \u001b[0;34m=\u001b[0m \u001b[0mscope\u001b[0m\u001b[0;34m.\u001b[0m\u001b[0m_impls\u001b[0m\u001b[0;34m[\u001b[0m\u001b[0mself\u001b[0m\u001b[0;34m.\u001b[0m\u001b[0mname\u001b[0m\u001b[0;34m]\u001b[0m\u001b[0;34m\u001b[0m\u001b[0;34m\u001b[0m\u001b[0m\n",
      "\u001b[0;32m~/miniconda3/envs/test2/lib/python3.6/site-packages/hyperopt/pyll/base.py\u001b[0m in \u001b[0;36m<listcomp>\u001b[0;34m(.0)\u001b[0m\n\u001b[1;32m    289\u001b[0m             \u001b[0;32mreturn\u001b[0m \u001b[0mmemo\u001b[0m\u001b[0;34m[\u001b[0m\u001b[0mid\u001b[0m\u001b[0;34m(\u001b[0m\u001b[0mself\u001b[0m\u001b[0;34m)\u001b[0m\u001b[0;34m]\u001b[0m\u001b[0;34m\u001b[0m\u001b[0;34m\u001b[0m\u001b[0m\n\u001b[1;32m    290\u001b[0m         \u001b[0;32melse\u001b[0m\u001b[0;34m:\u001b[0m\u001b[0;34m\u001b[0m\u001b[0;34m\u001b[0m\u001b[0m\n\u001b[0;32m--> 291\u001b[0;31m             \u001b[0margs\u001b[0m \u001b[0;34m=\u001b[0m \u001b[0;34m[\u001b[0m\u001b[0ma\u001b[0m\u001b[0;34m.\u001b[0m\u001b[0meval\u001b[0m\u001b[0;34m(\u001b[0m\u001b[0;34m)\u001b[0m \u001b[0;32mfor\u001b[0m \u001b[0ma\u001b[0m \u001b[0;32min\u001b[0m \u001b[0mself\u001b[0m\u001b[0;34m.\u001b[0m\u001b[0mpos_args\u001b[0m\u001b[0;34m]\u001b[0m\u001b[0;34m\u001b[0m\u001b[0;34m\u001b[0m\u001b[0m\n\u001b[0m\u001b[1;32m    292\u001b[0m             \u001b[0mkwargs\u001b[0m \u001b[0;34m=\u001b[0m \u001b[0mdict\u001b[0m\u001b[0;34m(\u001b[0m\u001b[0;34m[\u001b[0m\u001b[0;34m(\u001b[0m\u001b[0mn\u001b[0m\u001b[0;34m,\u001b[0m \u001b[0ma\u001b[0m\u001b[0;34m.\u001b[0m\u001b[0meval\u001b[0m\u001b[0;34m(\u001b[0m\u001b[0;34m)\u001b[0m\u001b[0;34m)\u001b[0m \u001b[0;32mfor\u001b[0m \u001b[0;34m(\u001b[0m\u001b[0mn\u001b[0m\u001b[0;34m,\u001b[0m \u001b[0ma\u001b[0m\u001b[0;34m)\u001b[0m \u001b[0;32min\u001b[0m \u001b[0mself\u001b[0m\u001b[0;34m.\u001b[0m\u001b[0mnamed_args\u001b[0m\u001b[0;34m]\u001b[0m\u001b[0;34m)\u001b[0m\u001b[0;34m\u001b[0m\u001b[0;34m\u001b[0m\u001b[0m\n\u001b[1;32m    293\u001b[0m             \u001b[0mf\u001b[0m \u001b[0;34m=\u001b[0m \u001b[0mscope\u001b[0m\u001b[0;34m.\u001b[0m\u001b[0m_impls\u001b[0m\u001b[0;34m[\u001b[0m\u001b[0mself\u001b[0m\u001b[0;34m.\u001b[0m\u001b[0mname\u001b[0m\u001b[0;34m]\u001b[0m\u001b[0;34m\u001b[0m\u001b[0;34m\u001b[0m\u001b[0m\n",
      "\u001b[0;32m~/miniconda3/envs/test2/lib/python3.6/site-packages/hyperopt/pyll/base.py\u001b[0m in \u001b[0;36meval\u001b[0;34m(self, memo)\u001b[0m\n\u001b[1;32m    289\u001b[0m             \u001b[0;32mreturn\u001b[0m \u001b[0mmemo\u001b[0m\u001b[0;34m[\u001b[0m\u001b[0mid\u001b[0m\u001b[0;34m(\u001b[0m\u001b[0mself\u001b[0m\u001b[0;34m)\u001b[0m\u001b[0;34m]\u001b[0m\u001b[0;34m\u001b[0m\u001b[0;34m\u001b[0m\u001b[0m\n\u001b[1;32m    290\u001b[0m         \u001b[0;32melse\u001b[0m\u001b[0;34m:\u001b[0m\u001b[0;34m\u001b[0m\u001b[0;34m\u001b[0m\u001b[0m\n\u001b[0;32m--> 291\u001b[0;31m             \u001b[0margs\u001b[0m \u001b[0;34m=\u001b[0m \u001b[0;34m[\u001b[0m\u001b[0ma\u001b[0m\u001b[0;34m.\u001b[0m\u001b[0meval\u001b[0m\u001b[0;34m(\u001b[0m\u001b[0;34m)\u001b[0m \u001b[0;32mfor\u001b[0m \u001b[0ma\u001b[0m \u001b[0;32min\u001b[0m \u001b[0mself\u001b[0m\u001b[0;34m.\u001b[0m\u001b[0mpos_args\u001b[0m\u001b[0;34m]\u001b[0m\u001b[0;34m\u001b[0m\u001b[0;34m\u001b[0m\u001b[0m\n\u001b[0m\u001b[1;32m    292\u001b[0m             \u001b[0mkwargs\u001b[0m \u001b[0;34m=\u001b[0m \u001b[0mdict\u001b[0m\u001b[0;34m(\u001b[0m\u001b[0;34m[\u001b[0m\u001b[0;34m(\u001b[0m\u001b[0mn\u001b[0m\u001b[0;34m,\u001b[0m \u001b[0ma\u001b[0m\u001b[0;34m.\u001b[0m\u001b[0meval\u001b[0m\u001b[0;34m(\u001b[0m\u001b[0;34m)\u001b[0m\u001b[0;34m)\u001b[0m \u001b[0;32mfor\u001b[0m \u001b[0;34m(\u001b[0m\u001b[0mn\u001b[0m\u001b[0;34m,\u001b[0m \u001b[0ma\u001b[0m\u001b[0;34m)\u001b[0m \u001b[0;32min\u001b[0m \u001b[0mself\u001b[0m\u001b[0;34m.\u001b[0m\u001b[0mnamed_args\u001b[0m\u001b[0;34m]\u001b[0m\u001b[0;34m)\u001b[0m\u001b[0;34m\u001b[0m\u001b[0;34m\u001b[0m\u001b[0m\n\u001b[1;32m    293\u001b[0m             \u001b[0mf\u001b[0m \u001b[0;34m=\u001b[0m \u001b[0mscope\u001b[0m\u001b[0;34m.\u001b[0m\u001b[0m_impls\u001b[0m\u001b[0;34m[\u001b[0m\u001b[0mself\u001b[0m\u001b[0;34m.\u001b[0m\u001b[0mname\u001b[0m\u001b[0;34m]\u001b[0m\u001b[0;34m\u001b[0m\u001b[0;34m\u001b[0m\u001b[0m\n",
      "\u001b[0;32m~/miniconda3/envs/test2/lib/python3.6/site-packages/hyperopt/pyll/base.py\u001b[0m in \u001b[0;36m<listcomp>\u001b[0;34m(.0)\u001b[0m\n\u001b[1;32m    289\u001b[0m             \u001b[0;32mreturn\u001b[0m \u001b[0mmemo\u001b[0m\u001b[0;34m[\u001b[0m\u001b[0mid\u001b[0m\u001b[0;34m(\u001b[0m\u001b[0mself\u001b[0m\u001b[0;34m)\u001b[0m\u001b[0;34m]\u001b[0m\u001b[0;34m\u001b[0m\u001b[0;34m\u001b[0m\u001b[0m\n\u001b[1;32m    290\u001b[0m         \u001b[0;32melse\u001b[0m\u001b[0;34m:\u001b[0m\u001b[0;34m\u001b[0m\u001b[0;34m\u001b[0m\u001b[0m\n\u001b[0;32m--> 291\u001b[0;31m             \u001b[0margs\u001b[0m \u001b[0;34m=\u001b[0m \u001b[0;34m[\u001b[0m\u001b[0ma\u001b[0m\u001b[0;34m.\u001b[0m\u001b[0meval\u001b[0m\u001b[0;34m(\u001b[0m\u001b[0;34m)\u001b[0m \u001b[0;32mfor\u001b[0m \u001b[0ma\u001b[0m \u001b[0;32min\u001b[0m \u001b[0mself\u001b[0m\u001b[0;34m.\u001b[0m\u001b[0mpos_args\u001b[0m\u001b[0;34m]\u001b[0m\u001b[0;34m\u001b[0m\u001b[0;34m\u001b[0m\u001b[0m\n\u001b[0m\u001b[1;32m    292\u001b[0m             \u001b[0mkwargs\u001b[0m \u001b[0;34m=\u001b[0m \u001b[0mdict\u001b[0m\u001b[0;34m(\u001b[0m\u001b[0;34m[\u001b[0m\u001b[0;34m(\u001b[0m\u001b[0mn\u001b[0m\u001b[0;34m,\u001b[0m \u001b[0ma\u001b[0m\u001b[0;34m.\u001b[0m\u001b[0meval\u001b[0m\u001b[0;34m(\u001b[0m\u001b[0;34m)\u001b[0m\u001b[0;34m)\u001b[0m \u001b[0;32mfor\u001b[0m \u001b[0;34m(\u001b[0m\u001b[0mn\u001b[0m\u001b[0;34m,\u001b[0m \u001b[0ma\u001b[0m\u001b[0;34m)\u001b[0m \u001b[0;32min\u001b[0m \u001b[0mself\u001b[0m\u001b[0;34m.\u001b[0m\u001b[0mnamed_args\u001b[0m\u001b[0;34m]\u001b[0m\u001b[0;34m)\u001b[0m\u001b[0;34m\u001b[0m\u001b[0;34m\u001b[0m\u001b[0m\n\u001b[1;32m    293\u001b[0m             \u001b[0mf\u001b[0m \u001b[0;34m=\u001b[0m \u001b[0mscope\u001b[0m\u001b[0;34m.\u001b[0m\u001b[0m_impls\u001b[0m\u001b[0;34m[\u001b[0m\u001b[0mself\u001b[0m\u001b[0;34m.\u001b[0m\u001b[0mname\u001b[0m\u001b[0;34m]\u001b[0m\u001b[0;34m\u001b[0m\u001b[0;34m\u001b[0m\u001b[0m\n",
      "\u001b[0;32m~/miniconda3/envs/test2/lib/python3.6/site-packages/hyperopt/pyll/base.py\u001b[0m in \u001b[0;36meval\u001b[0;34m(self, memo)\u001b[0m\n\u001b[1;32m    292\u001b[0m             \u001b[0mkwargs\u001b[0m \u001b[0;34m=\u001b[0m \u001b[0mdict\u001b[0m\u001b[0;34m(\u001b[0m\u001b[0;34m[\u001b[0m\u001b[0;34m(\u001b[0m\u001b[0mn\u001b[0m\u001b[0;34m,\u001b[0m \u001b[0ma\u001b[0m\u001b[0;34m.\u001b[0m\u001b[0meval\u001b[0m\u001b[0;34m(\u001b[0m\u001b[0;34m)\u001b[0m\u001b[0;34m)\u001b[0m \u001b[0;32mfor\u001b[0m \u001b[0;34m(\u001b[0m\u001b[0mn\u001b[0m\u001b[0;34m,\u001b[0m \u001b[0ma\u001b[0m\u001b[0;34m)\u001b[0m \u001b[0;32min\u001b[0m \u001b[0mself\u001b[0m\u001b[0;34m.\u001b[0m\u001b[0mnamed_args\u001b[0m\u001b[0;34m]\u001b[0m\u001b[0;34m)\u001b[0m\u001b[0;34m\u001b[0m\u001b[0;34m\u001b[0m\u001b[0m\n\u001b[1;32m    293\u001b[0m             \u001b[0mf\u001b[0m \u001b[0;34m=\u001b[0m \u001b[0mscope\u001b[0m\u001b[0;34m.\u001b[0m\u001b[0m_impls\u001b[0m\u001b[0;34m[\u001b[0m\u001b[0mself\u001b[0m\u001b[0;34m.\u001b[0m\u001b[0mname\u001b[0m\u001b[0;34m]\u001b[0m\u001b[0;34m\u001b[0m\u001b[0;34m\u001b[0m\u001b[0m\n\u001b[0;32m--> 294\u001b[0;31m             \u001b[0mmemo\u001b[0m\u001b[0;34m[\u001b[0m\u001b[0mid\u001b[0m\u001b[0;34m(\u001b[0m\u001b[0mself\u001b[0m\u001b[0;34m)\u001b[0m\u001b[0;34m]\u001b[0m \u001b[0;34m=\u001b[0m \u001b[0mrval\u001b[0m \u001b[0;34m=\u001b[0m \u001b[0mf\u001b[0m\u001b[0;34m(\u001b[0m\u001b[0;34m*\u001b[0m\u001b[0margs\u001b[0m\u001b[0;34m,\u001b[0m \u001b[0;34m**\u001b[0m\u001b[0mkwargs\u001b[0m\u001b[0;34m)\u001b[0m\u001b[0;34m\u001b[0m\u001b[0;34m\u001b[0m\u001b[0m\n\u001b[0m\u001b[1;32m    295\u001b[0m             \u001b[0;32mreturn\u001b[0m \u001b[0mrval\u001b[0m\u001b[0;34m\u001b[0m\u001b[0;34m\u001b[0m\u001b[0m\n\u001b[1;32m    296\u001b[0m \u001b[0;34m\u001b[0m\u001b[0m\n",
      "\u001b[0;32m~/miniconda3/envs/test2/lib/python3.6/site-packages/hyperopt/pyll/stochastic.py\u001b[0m in \u001b[0;36mrandint\u001b[0;34m(upper, rng, size)\u001b[0m\n\u001b[1;32m    104\u001b[0m             \u001b[0;32massert\u001b[0m \u001b[0mlen\u001b[0m\u001b[0;34m(\u001b[0m\u001b[0mupper\u001b[0m\u001b[0;34m)\u001b[0m \u001b[0;34m==\u001b[0m \u001b[0msize\u001b[0m\u001b[0;34m[\u001b[0m\u001b[0;36m0\u001b[0m\u001b[0;34m]\u001b[0m\u001b[0;34m\u001b[0m\u001b[0;34m\u001b[0m\u001b[0m\n\u001b[1;32m    105\u001b[0m             \u001b[0;32mreturn\u001b[0m \u001b[0mnp\u001b[0m\u001b[0;34m.\u001b[0m\u001b[0masarray\u001b[0m\u001b[0;34m(\u001b[0m\u001b[0;34m[\u001b[0m\u001b[0mrng\u001b[0m\u001b[0;34m.\u001b[0m\u001b[0mrandint\u001b[0m\u001b[0;34m(\u001b[0m\u001b[0muu\u001b[0m\u001b[0;34m)\u001b[0m \u001b[0;32mfor\u001b[0m \u001b[0muu\u001b[0m \u001b[0;32min\u001b[0m \u001b[0mupper\u001b[0m\u001b[0;34m]\u001b[0m\u001b[0;34m)\u001b[0m\u001b[0;34m\u001b[0m\u001b[0;34m\u001b[0m\u001b[0m\n\u001b[0;32m--> 106\u001b[0;31m     \u001b[0;32mreturn\u001b[0m \u001b[0mrng\u001b[0m\u001b[0;34m.\u001b[0m\u001b[0mrandint\u001b[0m\u001b[0;34m(\u001b[0m\u001b[0mupper\u001b[0m\u001b[0;34m,\u001b[0m \u001b[0msize\u001b[0m\u001b[0;34m=\u001b[0m\u001b[0msize\u001b[0m\u001b[0;34m)\u001b[0m\u001b[0;34m\u001b[0m\u001b[0;34m\u001b[0m\u001b[0m\n\u001b[0m\u001b[1;32m    107\u001b[0m \u001b[0;34m\u001b[0m\u001b[0m\n\u001b[1;32m    108\u001b[0m \u001b[0;34m\u001b[0m\u001b[0m\n",
      "\u001b[0;31mAttributeError\u001b[0m: 'NoneType' object has no attribute 'randint'"
     ]
    }
   ],
   "source": [
    "from sklearn.base import clone\n",
    "clone(estim)"
   ]
  },
  {
   "cell_type": "code",
   "execution_count": 12,
   "metadata": {
    "ExecuteTime": {
     "end_time": "2019-03-14T11:08:58.840986Z",
     "start_time": "2019-03-14T11:08:58.593415Z"
    }
   },
   "outputs": [
    {
     "data": {
      "text/plain": [
       "0.8044692737430168"
      ]
     },
     "execution_count": 12,
     "metadata": {},
     "output_type": "execute_result"
    }
   ],
   "source": [
    "y_pred = estim.predict(X_test)\n",
    "accuracy_score(y_test, y_pred)"
   ]
  },
  {
   "cell_type": "code",
   "execution_count": 27,
   "metadata": {
    "ExecuteTime": {
     "end_time": "2019-03-14T11:45:46.127886Z",
     "start_time": "2019-03-14T11:19:21.242548Z"
    }
   },
   "outputs": [
    {
     "name": "stdout",
     "output_type": "stream",
     "text": [
      "100%|██████████| 1/1 [01:09<00:00, 69.87s/it, best loss: 0.4195804195804196]\n",
      "100%|██████████| 1/1 [00:07<00:00,  7.50s/it, best loss: 0.21678321678321677]\n",
      "100%|██████████| 1/1 [11:36<00:00, 696.57s/it, best loss: 0.21678321678321677]\n",
      "100%|██████████| 1/1 [00:00<00:00, 16.32it/s, best loss: 0.19580419580419584]\n",
      "100%|██████████| 1/1 [00:00<00:00,  7.02it/s, best loss: 0.19580419580419584]\n",
      "100%|██████████| 1/1 [11:15<00:00, 675.23s/it, best loss: 0.19580419580419584]\n",
      "100%|██████████| 1/1 [00:00<00:00,  1.07it/s, best loss: 0.19580419580419584]\n",
      "100%|██████████| 1/1 [00:11<00:00, 11.03s/it, best loss: 0.19580419580419584]\n",
      "100%|██████████| 1/1 [00:02<00:00,  2.50s/it, best loss: 0.19580419580419584]\n",
      "100%|██████████| 1/1 [00:00<00:00,  4.60it/s, best loss: 0.19580419580419584]\n",
      "100%|██████████| 1/1 [00:00<00:00, 12.04it/s, best loss: 0.25874125874125875]\n",
      "100%|██████████| 1/1 [00:00<00:00, 12.99it/s, best loss: 0.25874125874125875]\n",
      "100%|██████████| 1/1 [00:01<00:00,  1.50s/it, best loss: 0.2447552447552448]\n",
      "100%|██████████| 1/1 [00:04<00:00,  4.27s/it, best loss: 0.19580419580419584]\n",
      "100%|██████████| 1/1 [00:00<00:00, 11.02it/s, best loss: 0.19580419580419584]\n",
      "100%|██████████| 1/1 [00:02<00:00,  2.11s/it, best loss: 0.19580419580419584]\n",
      "100%|██████████| 1/1 [00:04<00:00,  4.68s/it, best loss: 0.19580419580419584]\n",
      "100%|██████████| 1/1 [00:00<00:00,  9.83it/s, best loss: 0.19580419580419584]\n",
      "100%|██████████| 1/1 [00:00<00:00, 17.44it/s, best loss: 0.19580419580419584]\n",
      "100%|██████████| 1/1 [00:00<00:00,  1.89it/s, best loss: 0.19580419580419584]\n",
      "100%|██████████| 1/1 [01:09<00:00, 69.82s/it, best loss: 0.2027972027972028]\n",
      "100%|██████████| 1/1 [00:00<00:00,  1.70it/s, best loss: 0.2027972027972028]\n",
      "100%|██████████| 1/1 [00:00<00:00, 12.08it/s, best loss: 0.19580419580419584]\n",
      "100%|██████████| 1/1 [00:01<00:00,  1.57s/it, best loss: 0.19580419580419584]\n",
      "100%|██████████| 1/1 [00:00<00:00, 14.43it/s, best loss: 0.19580419580419584]\n",
      "100%|██████████| 1/1 [00:00<00:00, 15.50it/s, best loss: 0.19580419580419584]\n",
      "100%|██████████| 1/1 [00:00<00:00, 13.80it/s, best loss: 0.19580419580419584]\n",
      "100%|██████████| 1/1 [00:01<00:00,  1.38s/it, best loss: 0.19580419580419584]\n",
      "100%|██████████| 1/1 [00:00<00:00,  1.18it/s, best loss: 0.18181818181818177]\n",
      "100%|██████████| 1/1 [00:00<00:00, 14.46it/s, best loss: 0.18181818181818177]\n",
      "100%|██████████| 1/1 [00:00<00:00, 12.39it/s, best loss: 0.3706293706293706]\n",
      "100%|██████████| 1/1 [00:00<00:00, 10.43it/s, best loss: 0.3706293706293706]\n",
      "100%|██████████| 1/1 [00:01<00:00,  1.10s/it, best loss: 0.22377622377622375]\n",
      "100%|██████████| 1/1 [00:00<00:00, 13.42it/s, best loss: 0.22377622377622375]\n",
      "100%|██████████| 1/1 [00:00<00:00, 13.60it/s, best loss: 0.22377622377622375]\n",
      "100%|██████████| 1/1 [00:00<00:00, 15.85it/s, best loss: 0.22377622377622375]\n",
      "100%|██████████| 1/1 [00:00<00:00, 15.53it/s, best loss: 0.21678321678321677]\n",
      "100%|██████████| 1/1 [00:04<00:00,  4.61s/it, best loss: 0.2027972027972028]\n",
      "100%|██████████| 1/1 [00:00<00:00,  5.61it/s, best loss: 0.18181818181818177]\n",
      "100%|██████████| 1/1 [00:00<00:00,  8.87it/s, best loss: 0.18181818181818177]\n",
      "100%|██████████| 1/1 [00:00<00:00, 11.31it/s, best loss: 0.3426573426573427]\n",
      "100%|██████████| 1/1 [00:00<00:00,  1.72it/s, best loss: 0.11188811188811187]\n",
      "100%|██████████| 1/1 [00:02<00:00,  2.51s/it, best loss: 0.11188811188811187]\n",
      "100%|██████████| 1/1 [00:01<00:00,  1.80s/it, best loss: 0.08391608391608396]\n",
      "100%|██████████| 1/1 [00:00<00:00, 13.14it/s, best loss: 0.08391608391608396]\n",
      "100%|██████████| 1/1 [00:00<00:00, 12.77it/s, best loss: 0.08391608391608396]\n",
      "100%|██████████| 1/1 [00:00<00:00, 11.53it/s, best loss: 0.08391608391608396]\n",
      "100%|██████████| 1/1 [00:00<00:00,  3.82it/s, best loss: 0.08391608391608396]\n",
      "100%|██████████| 1/1 [00:01<00:00,  1.20s/it, best loss: 0.08391608391608396]\n",
      "100%|██████████| 1/1 [00:00<00:00,  7.07it/s, best loss: 0.08391608391608396]\n"
     ]
    },
    {
     "data": {
      "text/plain": [
       "[0.7932960893854749,\n",
       " 0.8370786516853933,\n",
       " 0.898876404494382,\n",
       " 0.8651685393258427,\n",
       " 0.8146067415730337]"
      ]
     },
     "execution_count": 27,
     "metadata": {},
     "output_type": "execute_result"
    }
   ],
   "source": [
    "from sklearn.model_selection import check_cv\n",
    "from sklearn.metrics import get_scorer\n",
    "\n",
    "def cross_val_score(est, X, y, scoring, cv):\n",
    "    cv = check_cv(cv)\n",
    "    scorer = get_scorer(scoring)\n",
    "    scores = []\n",
    "    for train, test in cv.split(X, y):\n",
    "        est.fit(X[train], y[train])\n",
    "        scores.append(scorer(est, X[test], y[test]))\n",
    "    return scores\n",
    "    \n",
    "cross_val_score(estim, X.values, y.values, scoring=\"accuracy\", cv=5)"
   ]
  },
  {
   "cell_type": "code",
   "execution_count": 29,
   "metadata": {
    "ExecuteTime": {
     "end_time": "2019-03-14T12:22:07.146878Z",
     "start_time": "2019-03-14T12:22:07.100339Z"
    },
    "scrolled": true
   },
   "outputs": [
    {
     "data": {
      "text/plain": [
       "0.8418052852928254"
      ]
     },
     "execution_count": 29,
     "metadata": {},
     "output_type": "execute_result"
    }
   ],
   "source": [
    "a = [0.7932960893854749,\n",
    " 0.8370786516853933,\n",
    " 0.898876404494382,\n",
    " 0.8651685393258427,\n",
    " 0.8146067415730337]\n",
    "import numpy as np\n",
    "np.mean([0.7932960893854749,\n",
    " 0.8370786516853933,\n",
    " 0.898876404494382,\n",
    " 0.8651685393258427,\n",
    " 0.8146067415730337])"
   ]
  },
  {
   "cell_type": "code",
   "execution_count": null,
   "metadata": {},
   "outputs": [],
   "source": []
  },
  {
   "cell_type": "code",
   "execution_count": 31,
   "metadata": {
    "ExecuteTime": {
     "end_time": "2019-03-14T12:26:44.703956Z",
     "start_time": "2019-03-14T12:23:13.520760Z"
    }
   },
   "outputs": [
    {
     "name": "stdout",
     "output_type": "stream",
     "text": [
      "100%|██████████| 1/1 [00:00<00:00,  5.23it/s, best loss: 0.4078212290502793]\n",
      "100%|██████████| 1/1 [00:00<00:00,  1.32it/s, best loss: 0.22346368715083798]\n",
      "100%|██████████| 1/1 [00:00<00:00,  1.53it/s, best loss: 0.22346368715083798]\n",
      "100%|██████████| 1/1 [00:00<00:00, 12.43it/s, best loss: 0.1955307262569832]\n",
      "100%|██████████| 1/1 [00:01<00:00,  1.48s/it, best loss: 0.1899441340782123]\n",
      "100%|██████████| 1/1 [00:04<00:00,  4.04s/it, best loss: 0.1899441340782123]\n",
      "100%|██████████| 1/1 [00:00<00:00, 13.54it/s, best loss: 0.1899441340782123]\n",
      "100%|██████████| 1/1 [00:00<00:00, 15.81it/s, best loss: 0.1899441340782123]\n",
      "100%|██████████| 1/1 [00:00<00:00, 13.24it/s, best loss: 0.1899441340782123]\n",
      "100%|██████████| 1/1 [00:00<00:00,  1.40it/s, best loss: 0.1899441340782123]\n",
      "100%|██████████| 1/1 [02:56<00:00, 176.14s/it, best loss: 0.1899441340782123]\n",
      "100%|██████████| 1/1 [00:00<00:00,  1.06it/s, best loss: 0.1899441340782123]\n",
      "100%|██████████| 1/1 [00:03<00:00,  3.44s/it, best loss: 0.1843575418994413]\n",
      "100%|██████████| 1/1 [00:00<00:00,  7.30it/s, best loss: 0.17318435754189943]\n",
      "100%|██████████| 1/1 [00:01<00:00,  1.91s/it, best loss: 0.17318435754189943]\n",
      "100%|██████████| 1/1 [00:00<00:00,  2.32it/s, best loss: 0.17318435754189943]\n",
      "100%|██████████| 1/1 [00:02<00:00,  2.39s/it, best loss: 0.17318435754189943]\n",
      "100%|██████████| 1/1 [00:00<00:00, 12.34it/s, best loss: 0.17318435754189943]\n",
      "100%|██████████| 1/1 [00:02<00:00,  2.86s/it, best loss: 0.17318435754189943]\n",
      "100%|██████████| 1/1 [00:00<00:00, 10.25it/s, best loss: 0.17318435754189943]\n",
      "100%|██████████| 1/1 [00:00<00:00, 13.84it/s, best loss: 0.17318435754189943]\n",
      "100%|██████████| 1/1 [00:00<00:00,  2.50it/s, best loss: 0.17318435754189943]\n",
      "100%|██████████| 1/1 [00:02<00:00,  2.40s/it, best loss: 0.17318435754189943]\n",
      "100%|██████████| 1/1 [00:01<00:00,  1.80s/it, best loss: 0.17318435754189943]\n",
      "100%|██████████| 1/1 [00:00<00:00,  2.75it/s, best loss: 0.17318435754189943]\n",
      "100%|██████████| 1/1 [00:00<00:00,  8.54it/s, best loss: 0.17318435754189943]\n",
      "100%|██████████| 1/1 [00:00<00:00, 12.56it/s, best loss: 0.17318435754189943]\n",
      "100%|██████████| 1/1 [00:02<00:00,  2.20s/it, best loss: 0.17318435754189943]\n",
      "100%|██████████| 1/1 [00:00<00:00, 13.12it/s, best loss: 0.17318435754189943]\n",
      "100%|██████████| 1/1 [00:00<00:00, 12.80it/s, best loss: 0.17318435754189943]\n"
     ]
    }
   ],
   "source": [
    "estim = HyperoptEstimator(max_evals=30)\n",
    "estim.fit(X.values, y.values)"
   ]
  },
  {
   "cell_type": "code",
   "execution_count": null,
   "metadata": {},
   "outputs": [],
   "source": []
  }
 ],
 "metadata": {
  "kernelspec": {
   "display_name": "Python 3",
   "language": "python",
   "name": "python3"
  },
  "language_info": {
   "codemirror_mode": {
    "name": "ipython",
    "version": 3
   },
   "file_extension": ".py",
   "mimetype": "text/x-python",
   "name": "python",
   "nbconvert_exporter": "python",
   "pygments_lexer": "ipython3",
   "version": "3.6.8"
  }
 },
 "nbformat": 4,
 "nbformat_minor": 2
}
