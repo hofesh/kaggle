{
 "cells": [
  {
   "cell_type": "code",
   "execution_count": 1,
   "metadata": {
    "ExecuteTime": {
     "end_time": "2019-03-14T20:52:48.783486Z",
     "start_time": "2019-03-14T20:52:47.700112Z"
    }
   },
   "outputs": [],
   "source": [
    "%load_ext autoreload\n",
    "%autoreload 2\n",
    "\n",
    "import sci.learn as scil\n",
    "import sci.features as scif\n",
    "\n",
    "from sklearn.model_selection import *\n",
    "\n",
    "import tpot"
   ]
  },
  {
   "cell_type": "code",
   "execution_count": 2,
   "metadata": {
    "ExecuteTime": {
     "end_time": "2019-03-14T20:52:48.830882Z",
     "start_time": "2019-03-14T20:52:48.785742Z"
    }
   },
   "outputs": [
    {
     "name": "stdout",
     "output_type": "stream",
     "text": [
      "X: (891, 16), y: (891,)\n",
      "X_score: (418, 16)\n"
     ]
    }
   ],
   "source": [
    "data = scil.load_data(\"processed_my2\")"
   ]
  },
  {
   "cell_type": "code",
   "execution_count": 15,
   "metadata": {
    "ExecuteTime": {
     "end_time": "2019-03-14T20:56:02.867015Z",
     "start_time": "2019-03-14T20:56:02.824944Z"
    }
   },
   "outputs": [],
   "source": [
    "data = scif.drop_str_features(data)\n",
    "\n",
    "X_train = data.X_train.values.astype(float)\n",
    "y_train = data.y_train.values.astype(float)\n",
    "X_test = data.X_test.values.astype(float)\n",
    "y_test = data.y_test.values.astype(float)\n",
    "X = data.X.values.astype(float)\n",
    "y = data.y.values.astype(float)\n",
    "X_score = data.X_score.values.astype(float)"
   ]
  },
  {
   "cell_type": "code",
   "execution_count": 16,
   "metadata": {
    "ExecuteTime": {
     "end_time": "2019-03-14T20:56:03.445769Z",
     "start_time": "2019-03-14T20:56:03.398899Z"
    }
   },
   "outputs": [
    {
     "name": "stdout",
     "output_type": "stream",
     "text": [
      "0.8603351955307262\n"
     ]
    }
   ],
   "source": [
    "from tpot import TPOTClassifier\n",
    "from sklearn.datasets import load_digits\n",
    "from sklearn.model_selection import train_test_split\n",
    "\n",
    "tpot = TPOTClassifier(generations=5, population_size=20, verbosity=2)\n",
    "tpot.fit(X_train, y_train)\n",
    "print(tpot.score(X_test, y_test))\n",
    "tpot.export('tpot_mnist_pipeline.py')"
   ]
  },
  {
   "cell_type": "code",
   "execution_count": 26,
   "metadata": {
    "ExecuteTime": {
     "end_time": "2019-03-14T21:00:02.670177Z",
     "start_time": "2019-03-14T21:00:02.502462Z"
    }
   },
   "outputs": [
    {
     "data": {
      "text/plain": [
       "0.8659217877094972"
      ]
     },
     "execution_count": 26,
     "metadata": {},
     "output_type": "execute_result"
    }
   ],
   "source": [
    "# %load tpot_mnist_pipeline.py\n",
    "import numpy as np\n",
    "import pandas as pd\n",
    "from sklearn.ensemble import RandomForestClassifier\n",
    "from sklearn.model_selection import train_test_split\n",
    "from sklearn.pipeline import make_pipeline\n",
    "from tpot.builtins import OneHotEncoder\n",
    "from sklearn.metrics import *\n",
    "\n",
    "training_features = X_train\n",
    "training_target = y_train\n",
    "testing_features = X_test\n",
    "\n",
    "# Average CV score on the training set was:0.8679278667591523\n",
    "exported_pipeline = make_pipeline(\n",
    "    OneHotEncoder(minimum_fraction=0.05, sparse=False, threshold=10),\n",
    "    RandomForestClassifier(bootstrap=False, criterion=\"entropy\", max_features=0.3, min_samples_leaf=6, min_samples_split=14, n_estimators=100)\n",
    ")\n",
    "\n",
    "exported_pipeline.fit(training_features, training_target)\n",
    "results = exported_pipeline.predict(testing_features)\n",
    "\n",
    "accuracy_score(y_test, results)\n"
   ]
  },
  {
   "cell_type": "code",
   "execution_count": 4,
   "metadata": {
    "ExecuteTime": {
     "end_time": "2019-03-14T20:53:57.434585Z",
     "start_time": "2019-03-14T20:52:48.876475Z"
    }
   },
   "outputs": [
    {
     "data": {
      "application/vnd.jupyter.widget-view+json": {
       "model_id": "b2341a62d9b849558bdfffe347c771ce",
       "version_major": 2,
       "version_minor": 0
      },
      "text/plain": [
       "HBox(children=(IntProgress(value=0, description='Optimization Progress', max=120, style=ProgressStyle(descript…"
      ]
     },
     "metadata": {},
     "output_type": "display_data"
    },
    {
     "name": "stdout",
     "output_type": "stream",
     "text": [
      "\n",
      "\n",
      "TPOT closed during evaluation in one generation.\n",
      "WARNING: TPOT may not provide a good pipeline if TPOT is stopped/interrupted in a early generation.\n",
      "\n",
      "\n",
      "TPOT closed prematurely. Will use the current best pipeline.\n",
      "\n",
      "Best pipeline: GradientBoostingClassifier(input_matrix, learning_rate=0.01, max_depth=9, max_features=0.2, min_samples_leaf=5, min_samples_split=20, n_estimators=100, subsample=0.7000000000000001)\n",
      "0.96\n"
     ]
    }
   ],
   "source": [
    "from tpot import TPOTClassifier\n",
    "from sklearn.datasets import load_digits\n",
    "from sklearn.model_selection import train_test_split\n",
    "\n",
    "digits = load_digits()\n",
    "X_train, X_test, y_train, y_test = train_test_split(digits.data, digits.target,\n",
    "                                                    train_size=0.75, test_size=0.25)\n",
    "\n",
    "# LB 0.77511\n",
    "tpot = TPOTClassifier(generations=5, population_size=20, verbosity=2)\n",
    "tpot.fit(X_train, y_train)\n",
    "print(tpot.score(X_test, y_test))\n",
    "tpot.export('tpot_mnist_pipeline.py')"
   ]
  },
  {
   "cell_type": "code",
   "execution_count": null,
   "metadata": {},
   "outputs": [],
   "source": []
  },
  {
   "cell_type": "code",
   "execution_count": null,
   "metadata": {},
   "outputs": [],
   "source": []
  },
  {
   "cell_type": "code",
   "execution_count": 35,
   "metadata": {
    "ExecuteTime": {
     "end_time": "2019-03-14T22:19:38.470978Z",
     "start_time": "2019-03-14T21:28:55.897153Z"
    }
   },
   "outputs": [
    {
     "data": {
      "application/vnd.jupyter.widget-view+json": {
       "model_id": "456e38e55ec44c969f68d94c02c79acc",
       "version_major": 2,
       "version_minor": 0
      },
      "text/plain": [
       "HBox(children=(IntProgress(value=0, description='Optimization Progress', max=10100, style=ProgressStyle(descri…"
      ]
     },
     "metadata": {},
     "output_type": "display_data"
    },
    {
     "name": "stdout",
     "output_type": "stream",
     "text": [
      "Generation 1 - Current best internal CV score: 0.8552868000313498\n",
      "Generation 2 - Current best internal CV score: 0.856410395536968\n",
      "Generation 3 - Current best internal CV score: 0.8564167435341747\n",
      "Generation 4 - Current best internal CV score: 0.8597875300510287\n",
      "Generation 5 - Current best internal CV score: 0.8597875300510287\n",
      "Generation 6 - Current best internal CV score: 0.8609111964839897\n",
      "Generation 7 - Current best internal CV score: 0.8620410690594715\n",
      "Generation 8 - Current best internal CV score: 0.8620410690594715\n",
      "Generation 9 - Current best internal CV score: 0.8620410690594715\n",
      "Generation 10 - Current best internal CV score: 0.8620410690594715\n",
      "Generation 11 - Current best internal CV score: 0.8620410690594715\n",
      "Generation 12 - Current best internal CV score: 0.8620410690594715\n",
      "Generation 13 - Current best internal CV score: 0.8642379016571111\n",
      "Generation 14 - Current best internal CV score: 0.8642568037940453\n",
      "Generation 15 - Current best internal CV score: 0.8642568037940453\n",
      "Generation 16 - Current best internal CV score: 0.8653741222297995\n",
      "Generation 17 - Current best internal CV score: 0.8653741222297995\n",
      "Generation 18 - Current best internal CV score: 0.8653741222297995\n",
      "Generation 19 - Current best internal CV score: 0.8665040657326244\n",
      "Generation 20 - Current best internal CV score: 0.8665040657326244\n",
      "Generation 21 - Current best internal CV score: 0.8665040657326244\n",
      "Generation 22 - Current best internal CV score: 0.8665040657326244\n",
      "Generation 23 - Current best internal CV score: 0.8665040657326244\n",
      "Generation 24 - Current best internal CV score: 0.8665040657326244\n",
      "Generation 25 - Current best internal CV score: 0.8665040657326244\n",
      "Generation 26 - Current best internal CV score: 0.8665040657326244\n",
      "Generation 27 - Current best internal CV score: 0.8665040657326244\n",
      "Generation 28 - Current best internal CV score: 0.8665040657326244\n",
      "Generation 29 - Current best internal CV score: 0.8665040657326244\n",
      "Generation 30 - Current best internal CV score: 0.8665229678695591\n",
      "Generation 31 - Current best internal CV score: 0.8665229678695591\n",
      "Generation 32 - Current best internal CV score: 0.8665229678695591\n",
      "Generation 33 - Current best internal CV score: 0.8665292449394227\n",
      "Generation 34 - Current best internal CV score: 0.8665292449394227\n",
      "Generation 35 - Current best internal CV score: 0.8676212423136924\n",
      "Generation 36 - Current best internal CV score: 0.868763881810931\n",
      "Generation 37 - Current best internal CV score: 0.868763881810931\n",
      "Generation 38 - Current best internal CV score: 0.868763881810931\n",
      "Generation 39 - Current best internal CV score: 0.868763881810931\n",
      "Generation 40 - Current best internal CV score: 0.868763881810931\n",
      "Generation 41 - Current best internal CV score: 0.868763881810931\n",
      "Generation 42 - Current best internal CV score: 0.868763881810931\n",
      "Generation 43 - Current best internal CV score: 0.868763881810931\n",
      "Generation 44 - Current best internal CV score: 0.868763881810931\n",
      "Generation 45 - Current best internal CV score: 0.868763881810931\n",
      "Generation 46 - Current best internal CV score: 0.868763881810931\n",
      "Generation 47 - Current best internal CV score: 0.868763881810931\n",
      "Generation 48 - Current best internal CV score: 0.868763881810931\n",
      "Generation 49 - Current best internal CV score: 0.868763881810931\n",
      "Generation 50 - Current best internal CV score: 0.868763881810931\n",
      "Generation 51 - Current best internal CV score: 0.868763881810931\n",
      "Generation 52 - Current best internal CV score: 0.868763881810931\n",
      "Generation 53 - Current best internal CV score: 0.868763881810931\n",
      "Generation 54 - Current best internal CV score: 0.868763881810931\n",
      "Generation 55 - Current best internal CV score: 0.868763881810931\n",
      "Generation 56 - Current best internal CV score: 0.868763881810931\n",
      "\n",
      "The optimized pipeline was not improved after evaluating 20 more generations. Will end the optimization process.\n",
      "\n",
      "TPOT closed prematurely. Will use the current best pipeline.\n",
      "\n",
      "Best pipeline: RandomForestClassifier(RFE(input_matrix, criterion=entropy, max_features=0.15000000000000002, n_estimators=100, step=0.45), bootstrap=True, criterion=gini, max_features=0.5, min_samples_leaf=2, min_samples_split=16, n_estimators=100)\n",
      "0.8956228956228957\n"
     ]
    }
   ],
   "source": [
    "tpot = TPOTClassifier(generations=100, population_size=100, verbosity=2, early_stop=20, n_jobs=10)\n",
    "tpot.fit(X, y)\n",
    "print(tpot.score(X, y))\n",
    "# tpot.export('tpot_mnist_pipeline.py')"
   ]
  },
  {
   "cell_type": "code",
   "execution_count": null,
   "metadata": {},
   "outputs": [],
   "source": []
  },
  {
   "cell_type": "code",
   "execution_count": 36,
   "metadata": {
    "ExecuteTime": {
     "end_time": "2019-03-15T05:05:55.174959Z",
     "start_time": "2019-03-14T22:19:38.474819Z"
    }
   },
   "outputs": [
    {
     "data": {
      "application/vnd.jupyter.widget-view+json": {
       "model_id": "",
       "version_major": 2,
       "version_minor": 0
      },
      "text/plain": [
       "HBox(children=(IntProgress(value=0, description='Optimization Progress', max=40200, style=ProgressStyle(descri…"
      ]
     },
     "metadata": {},
     "output_type": "display_data"
    },
    {
     "name": "stdout",
     "output_type": "stream",
     "text": [
      "Generation 1 - Current best internal CV score: 0.8564292976739022\n",
      "Generation 2 - Current best internal CV score: 0.8597875300510287\n",
      "Generation 3 - Current best internal CV score: 0.8597875300510287\n",
      "Generation 4 - Current best internal CV score: 0.860904848486783\n",
      "Generation 5 - Current best internal CV score: 0.860904848486783\n",
      "Generation 6 - Current best internal CV score: 0.8631457624281552\n",
      "Generation 7 - Current best internal CV score: 0.8631457624281552\n",
      "Generation 8 - Current best internal CV score: 0.8631457624281552\n",
      "Generation 9 - Current best internal CV score: 0.8631457624281552\n",
      "Generation 10 - Current best internal CV score: 0.8631457624281552\n",
      "Generation 11 - Current best internal CV score: 0.8653741222297995\n",
      "Generation 12 - Current best internal CV score: 0.8653741222297995\n",
      "Generation 13 - Current best internal CV score: 0.8653741222297995\n",
      "Generation 14 - Current best internal CV score: 0.8653741222297995\n",
      "Generation 15 - Current best internal CV score: 0.8653741222297995\n",
      "Generation 16 - Current best internal CV score: 0.8653741222297995\n",
      "Generation 17 - Current best internal CV score: 0.8653741222297995\n",
      "Generation 18 - Current best internal CV score: 0.8653741222297995\n",
      "Generation 19 - Current best internal CV score: 0.8664977177354176\n",
      "Generation 20 - Current best internal CV score: 0.8664977177354176\n",
      "Generation 21 - Current best internal CV score: 0.8664977177354176\n",
      "Generation 22 - Current best internal CV score: 0.8664977177354176\n",
      "Generation 23 - Current best internal CV score: 0.8664977177354176\n",
      "Generation 24 - Current best internal CV score: 0.8664977177354176\n",
      "Generation 25 - Current best internal CV score: 0.8664977177354176\n",
      "Generation 26 - Current best internal CV score: 0.8664977177354176\n",
      "Generation 27 - Current best internal CV score: 0.8665039948052815\n",
      "Generation 28 - Current best internal CV score: 0.8665039948052815\n",
      "Generation 29 - Current best internal CV score: 0.8665039948052815\n",
      "Generation 30 - Current best internal CV score: 0.8665355220092865\n",
      "Generation 31 - Current best internal CV score: 0.8665355220092865\n",
      "Generation 32 - Current best internal CV score: 0.8676339383081062\n",
      "Generation 33 - Current best internal CV score: 0.8676339383081062\n",
      "Generation 34 - Current best internal CV score: 0.8676339383081062\n",
      "Generation 35 - Current best internal CV score: 0.8676339383081062\n",
      "Generation 36 - Current best internal CV score: 0.8676339383081062\n",
      "Generation 37 - Current best internal CV score: 0.8676339383081062\n",
      "Generation 38 - Current best internal CV score: 0.8676339383081062\n",
      "Generation 39 - Current best internal CV score: 0.8676339383081062\n",
      "Generation 40 - Current best internal CV score: 0.8676339383081062\n",
      "Generation 41 - Current best internal CV score: 0.8687575338137241\n",
      "Generation 42 - Current best internal CV score: 0.8687575338137241\n",
      "Generation 43 - Current best internal CV score: 0.8687575338137241\n",
      "Generation 44 - Current best internal CV score: 0.8709985186824394\n",
      "Generation 45 - Current best internal CV score: 0.8709985186824394\n",
      "Generation 46 - Current best internal CV score: 0.8709985186824394\n",
      "Generation 47 - Current best internal CV score: 0.8709985186824394\n",
      "Generation 48 - Current best internal CV score: 0.8709985186824394\n",
      "Generation 49 - Current best internal CV score: 0.8709985186824394\n",
      "Generation 50 - Current best internal CV score: 0.8709985186824394\n",
      "Generation 51 - Current best internal CV score: 0.8709985186824394\n",
      "Generation 52 - Current best internal CV score: 0.8709985186824394\n",
      "Generation 53 - Current best internal CV score: 0.8709985186824394\n",
      "Generation 54 - Current best internal CV score: 0.8709985186824394\n",
      "Generation 55 - Current best internal CV score: 0.8710047957523033\n",
      "Generation 56 - Current best internal CV score: 0.8710047957523033\n",
      "Generation 57 - Current best internal CV score: 0.8710047957523033\n",
      "Generation 58 - Current best internal CV score: 0.8710047957523033\n",
      "Generation 59 - Current best internal CV score: 0.8710047957523033\n",
      "Generation 60 - Current best internal CV score: 0.8710047957523033\n",
      "Generation 61 - Current best internal CV score: 0.8710047957523033\n",
      "Generation 62 - Current best internal CV score: 0.8721094891209867\n",
      "Generation 63 - Current best internal CV score: 0.8721094891209867\n",
      "Generation 64 - Current best internal CV score: 0.8721094891209867\n",
      "Generation 65 - Current best internal CV score: 0.8721094891209867\n",
      "Generation 66 - Current best internal CV score: 0.8721094891209867\n",
      "Generation 67 - Current best internal CV score: 0.8721094891209867\n",
      "Generation 68 - Current best internal CV score: 0.8721094891209867\n",
      "Generation 69 - Current best internal CV score: 0.8721094891209867\n",
      "Generation 70 - Current best internal CV score: 0.8721094891209867\n",
      "Generation 71 - Current best internal CV score: 0.8721094891209867\n",
      "Generation 72 - Current best internal CV score: 0.8721094891209867\n",
      "Generation 73 - Current best internal CV score: 0.8721094891209867\n",
      "Generation 74 - Current best internal CV score: 0.8721094891209867\n",
      "Generation 75 - Current best internal CV score: 0.8721094891209867\n",
      "Generation 76 - Current best internal CV score: 0.8721094891209867\n",
      "Generation 77 - Current best internal CV score: 0.8721094891209867\n",
      "Generation 78 - Current best internal CV score: 0.8721094891209867\n",
      "Generation 79 - Current best internal CV score: 0.8721094891209867\n",
      "Generation 80 - Current best internal CV score: 0.8721094891209867\n",
      "Generation 81 - Current best internal CV score: 0.8721094891209867\n",
      "Generation 82 - Current best internal CV score: 0.8721094891209867\n",
      "Generation 83 - Current best internal CV score: 0.8721221141880575\n",
      "Generation 84 - Current best internal CV score: 0.8721221141880575\n",
      "Generation 85 - Current best internal CV score: 0.8721221141880575\n",
      "Generation 86 - Current best internal CV score: 0.8721221141880575\n",
      "Generation 87 - Current best internal CV score: 0.8721221141880575\n",
      "Generation 88 - Current best internal CV score: 0.8721221141880575\n",
      "Generation 89 - Current best internal CV score: 0.8721221141880575\n",
      "Generation 90 - Current best internal CV score: 0.8721221141880575\n",
      "Generation 91 - Current best internal CV score: 0.8721221141880575\n",
      "Generation 92 - Current best internal CV score: 0.8721283912579212\n",
      "Generation 93 - Current best internal CV score: 0.8721283912579212\n",
      "Generation 94 - Current best internal CV score: 0.8721283912579212\n",
      "Generation 95 - Current best internal CV score: 0.8721283912579212\n",
      "Generation 96 - Current best internal CV score: 0.8721283912579212\n",
      "Generation 97 - Current best internal CV score: 0.8721283912579212\n",
      "Generation 98 - Current best internal CV score: 0.8721283912579212\n",
      "Generation 99 - Current best internal CV score: 0.8721283912579212\n",
      "Generation 100 - Current best internal CV score: 0.8721283912579212\n",
      "Generation 101 - Current best internal CV score: 0.8721283912579212\n",
      "Generation 102 - Current best internal CV score: 0.8721283912579212\n",
      "Generation 103 - Current best internal CV score: 0.8721283912579212\n",
      "Generation 104 - Current best internal CV score: 0.8721283912579212\n",
      "Generation 105 - Current best internal CV score: 0.8721283912579212\n",
      "Generation 106 - Current best internal CV score: 0.8721283912579212\n",
      "Generation 107 - Current best internal CV score: 0.8721283912579212\n",
      "Generation 108 - Current best internal CV score: 0.8721283912579212\n",
      "Generation 109 - Current best internal CV score: 0.8721283912579212\n",
      "Generation 110 - Current best internal CV score: 0.8721283912579212\n",
      "Generation 111 - Current best internal CV score: 0.8721283912579212\n",
      "Generation 112 - Current best internal CV score: 0.8721283912579212\n",
      "Generation 113 - Current best internal CV score: 0.8721283912579212\n",
      "Generation 114 - Current best internal CV score: 0.8721283912579212\n",
      "Generation 115 - Current best internal CV score: 0.8721283912579212\n",
      "Generation 116 - Current best internal CV score: 0.8721283912579212\n",
      "Generation 117 - Current best internal CV score: 0.8721283912579212\n",
      "Generation 118 - Current best internal CV score: 0.8721283912579212\n",
      "Generation 119 - Current best internal CV score: 0.8721283912579212\n",
      "Generation 120 - Current best internal CV score: 0.8721283912579212\n",
      "Generation 121 - Current best internal CV score: 0.8721283912579212\n",
      "Generation 122 - Current best internal CV score: 0.8721283912579212\n",
      "Generation 123 - Current best internal CV score: 0.8721283912579212\n"
     ]
    },
    {
     "name": "stdout",
     "output_type": "stream",
     "text": [
      "Generation 124 - Current best internal CV score: 0.8721283912579212\n",
      "Generation 125 - Current best internal CV score: 0.8721283912579212\n",
      "Generation 126 - Current best internal CV score: 0.8721283912579212\n",
      "Generation 127 - Current best internal CV score: 0.8721283912579212\n",
      "Generation 128 - Current best internal CV score: 0.8721283912579212\n",
      "Generation 129 - Current best internal CV score: 0.8721283912579212\n",
      "Generation 130 - Current best internal CV score: 0.8721283912579212\n",
      "Generation 131 - Current best internal CV score: 0.8721283912579212\n",
      "Generation 132 - Current best internal CV score: 0.8721283912579212\n",
      "Generation 133 - Current best internal CV score: 0.8721283912579212\n",
      "Generation 134 - Current best internal CV score: 0.8721283912579212\n",
      "Generation 135 - Current best internal CV score: 0.8721283912579212\n",
      "Generation 136 - Current best internal CV score: 0.8721283912579212\n",
      "Generation 137 - Current best internal CV score: 0.8721283912579212\n",
      "Generation 138 - Current best internal CV score: 0.8721283912579212\n",
      "Generation 139 - Current best internal CV score: 0.8721283912579212\n",
      "Generation 140 - Current best internal CV score: 0.8721283912579212\n",
      "Generation 141 - Current best internal CV score: 0.8721283912579212\n",
      "Generation 142 - Current best internal CV score: 0.8721283912579212\n",
      "Generation 143 - Current best internal CV score: 0.8721283912579212\n",
      "Generation 144 - Current best internal CV score: 0.8721283912579212\n",
      "Generation 145 - Current best internal CV score: 0.8721283912579212\n",
      "Generation 146 - Current best internal CV score: 0.8721283912579212\n",
      "Generation 147 - Current best internal CV score: 0.8721283912579212\n",
      "Generation 148 - Current best internal CV score: 0.8721283912579212\n",
      "Generation 149 - Current best internal CV score: 0.8721283912579212\n",
      "Generation 150 - Current best internal CV score: 0.8721283912579212\n",
      "Generation 151 - Current best internal CV score: 0.8721283912579212\n",
      "Generation 152 - Current best internal CV score: 0.8721283912579212\n",
      "Generation 153 - Current best internal CV score: 0.8721283912579212\n",
      "Generation 154 - Current best internal CV score: 0.8721283912579212\n",
      "Generation 155 - Current best internal CV score: 0.8721283912579212\n",
      "Generation 156 - Current best internal CV score: 0.8721283912579212\n",
      "Generation 157 - Current best internal CV score: 0.8721283912579212\n",
      "Generation 158 - Current best internal CV score: 0.8721283912579212\n",
      "Generation 159 - Current best internal CV score: 0.8721283912579212\n",
      "Generation 160 - Current best internal CV score: 0.8721283912579212\n",
      "Generation 161 - Current best internal CV score: 0.8721283912579212\n",
      "Generation 162 - Current best internal CV score: 0.8721283912579212\n",
      "Generation 163 - Current best internal CV score: 0.8721283912579212\n",
      "Generation 164 - Current best internal CV score: 0.8721283912579212\n",
      "Generation 165 - Current best internal CV score: 0.8721283912579212\n",
      "Generation 166 - Current best internal CV score: 0.8721283912579212\n",
      "Generation 167 - Current best internal CV score: 0.8721283912579212\n",
      "Generation 168 - Current best internal CV score: 0.8721283912579212\n",
      "Generation 169 - Current best internal CV score: 0.8721283912579212\n",
      "Generation 170 - Current best internal CV score: 0.8721283912579212\n",
      "Generation 171 - Current best internal CV score: 0.8721283912579212\n",
      "Generation 172 - Current best internal CV score: 0.8721283912579212\n",
      "Generation 173 - Current best internal CV score: 0.8721283912579212\n",
      "Generation 174 - Current best internal CV score: 0.8721283912579212\n",
      "Generation 175 - Current best internal CV score: 0.8721283912579212\n",
      "Generation 176 - Current best internal CV score: 0.8721283912579212\n",
      "Generation 177 - Current best internal CV score: 0.8721283912579212\n",
      "Generation 178 - Current best internal CV score: 0.8721283912579212\n",
      "Generation 179 - Current best internal CV score: 0.8721283912579212\n",
      "Generation 180 - Current best internal CV score: 0.8721283912579212\n",
      "Generation 181 - Current best internal CV score: 0.8721283912579212\n",
      "Generation 182 - Current best internal CV score: 0.8721283912579212\n",
      "Generation 183 - Current best internal CV score: 0.8721283912579212\n",
      "Generation 184 - Current best internal CV score: 0.8721283912579212\n",
      "Generation 185 - Current best internal CV score: 0.8721283912579212\n",
      "Generation 186 - Current best internal CV score: 0.8721283912579212\n",
      "Generation 187 - Current best internal CV score: 0.8721283912579212\n",
      "Generation 188 - Current best internal CV score: 0.8721283912579212\n",
      "Generation 189 - Current best internal CV score: 0.8721283912579212\n",
      "Generation 190 - Current best internal CV score: 0.8721283912579212\n",
      "Generation 191 - Current best internal CV score: 0.8721283912579212\n",
      "Generation 192 - Current best internal CV score: 0.8721283912579212\n",
      "Generation 193 - Current best internal CV score: 0.8721283912579212\n",
      "Generation 194 - Current best internal CV score: 0.8721283912579212\n",
      "Generation 195 - Current best internal CV score: 0.8721283912579212\n",
      "Generation 196 - Current best internal CV score: 0.8721283912579212\n",
      "Generation 197 - Current best internal CV score: 0.8721283912579212\n",
      "Generation 198 - Current best internal CV score: 0.8721283912579212\n",
      "Generation 199 - Current best internal CV score: 0.8721283912579212\n",
      "Generation 200 - Current best internal CV score: 0.8721283912579212\n",
      "\n",
      "Best pipeline: RandomForestClassifier(RFE(XGBClassifier(input_matrix, learning_rate=0.001, max_depth=1, min_child_weight=3, n_estimators=100, nthread=1, subsample=0.4), criterion=gini, max_features=0.3, n_estimators=100, step=0.4), bootstrap=True, criterion=gini, max_features=0.5, min_samples_leaf=1, min_samples_split=20, n_estimators=100)\n",
      "0.8956228956228957\n"
     ]
    }
   ],
   "source": [
    "# LB 0.77990\n",
    "tpot2 = TPOTClassifier(generations=200, population_size=200, verbosity=2, n_jobs=10)\n",
    "tpot2.fit(X, y)\n",
    "print(tpot.score(X, y))\n",
    "# tpot.export('tpot_mnist_pipeline.py')"
   ]
  },
  {
   "cell_type": "code",
   "execution_count": 39,
   "metadata": {
    "ExecuteTime": {
     "end_time": "2019-03-15T05:50:47.690553Z",
     "start_time": "2019-03-15T05:50:47.648730Z"
    }
   },
   "outputs": [],
   "source": [
    "tpot2.export(\"my2.py\")"
   ]
  },
  {
   "cell_type": "code",
   "execution_count": 41,
   "metadata": {
    "ExecuteTime": {
     "end_time": "2019-03-15T05:51:39.179819Z",
     "start_time": "2019-03-15T05:51:39.125588Z"
    }
   },
   "outputs": [
    {
     "name": "stderr",
     "output_type": "stream",
     "text": [
      "/Users/user/miniconda3/envs/tpot/lib/python3.6/site-packages/ipykernel_launcher.py:12: ParserWarning: Falling back to the 'python' engine because the 'c' engine does not support regex separators (separators > 1 char and different from '\\s+' are interpreted as regex); you can avoid this warning by specifying engine='python'.\n",
      "  if sys.path[0] == '':\n"
     ]
    },
    {
     "ename": "FileNotFoundError",
     "evalue": "[Errno 2] No such file or directory: 'PATH/TO/DATA/FILE'",
     "output_type": "error",
     "traceback": [
      "\u001b[0;31m---------------------------------------------------------------------------\u001b[0m",
      "\u001b[0;31mFileNotFoundError\u001b[0m                         Traceback (most recent call last)",
      "\u001b[0;32m<ipython-input-41-b37f090f80f9>\u001b[0m in \u001b[0;36m<module>\u001b[0;34m\u001b[0m\n\u001b[1;32m     10\u001b[0m \u001b[0;34m\u001b[0m\u001b[0m\n\u001b[1;32m     11\u001b[0m \u001b[0;31m# NOTE: Make sure that the class is labeled 'target' in the data file\u001b[0m\u001b[0;34m\u001b[0m\u001b[0;34m\u001b[0m\u001b[0;34m\u001b[0m\u001b[0m\n\u001b[0;32m---> 12\u001b[0;31m \u001b[0mtpot_data\u001b[0m \u001b[0;34m=\u001b[0m \u001b[0mpd\u001b[0m\u001b[0;34m.\u001b[0m\u001b[0mread_csv\u001b[0m\u001b[0;34m(\u001b[0m\u001b[0;34m'PATH/TO/DATA/FILE'\u001b[0m\u001b[0;34m,\u001b[0m \u001b[0msep\u001b[0m\u001b[0;34m=\u001b[0m\u001b[0;34m'COLUMN_SEPARATOR'\u001b[0m\u001b[0;34m,\u001b[0m \u001b[0mdtype\u001b[0m\u001b[0;34m=\u001b[0m\u001b[0mnp\u001b[0m\u001b[0;34m.\u001b[0m\u001b[0mfloat64\u001b[0m\u001b[0;34m)\u001b[0m\u001b[0;34m\u001b[0m\u001b[0;34m\u001b[0m\u001b[0m\n\u001b[0m\u001b[1;32m     13\u001b[0m \u001b[0mfeatures\u001b[0m \u001b[0;34m=\u001b[0m \u001b[0mtpot_data\u001b[0m\u001b[0;34m.\u001b[0m\u001b[0mdrop\u001b[0m\u001b[0;34m(\u001b[0m\u001b[0;34m'target'\u001b[0m\u001b[0;34m,\u001b[0m \u001b[0maxis\u001b[0m\u001b[0;34m=\u001b[0m\u001b[0;36m1\u001b[0m\u001b[0;34m)\u001b[0m\u001b[0;34m.\u001b[0m\u001b[0mvalues\u001b[0m\u001b[0;34m\u001b[0m\u001b[0;34m\u001b[0m\u001b[0m\n\u001b[1;32m     14\u001b[0m \u001b[0mtraining_features\u001b[0m\u001b[0;34m,\u001b[0m \u001b[0mtesting_features\u001b[0m\u001b[0;34m,\u001b[0m \u001b[0mtraining_target\u001b[0m\u001b[0;34m,\u001b[0m \u001b[0mtesting_target\u001b[0m \u001b[0;34m=\u001b[0m\u001b[0;31m \u001b[0m\u001b[0;31m\\\u001b[0m\u001b[0;34m\u001b[0m\u001b[0;34m\u001b[0m\u001b[0m\n",
      "\u001b[0;32m~/miniconda3/envs/tpot/lib/python3.6/site-packages/pandas/io/parsers.py\u001b[0m in \u001b[0;36mparser_f\u001b[0;34m(filepath_or_buffer, sep, delimiter, header, names, index_col, usecols, squeeze, prefix, mangle_dupe_cols, dtype, engine, converters, true_values, false_values, skipinitialspace, skiprows, skipfooter, nrows, na_values, keep_default_na, na_filter, verbose, skip_blank_lines, parse_dates, infer_datetime_format, keep_date_col, date_parser, dayfirst, iterator, chunksize, compression, thousands, decimal, lineterminator, quotechar, quoting, doublequote, escapechar, comment, encoding, dialect, tupleize_cols, error_bad_lines, warn_bad_lines, delim_whitespace, low_memory, memory_map, float_precision)\u001b[0m\n\u001b[1;32m    700\u001b[0m                     skip_blank_lines=skip_blank_lines)\n\u001b[1;32m    701\u001b[0m \u001b[0;34m\u001b[0m\u001b[0m\n\u001b[0;32m--> 702\u001b[0;31m         \u001b[0;32mreturn\u001b[0m \u001b[0m_read\u001b[0m\u001b[0;34m(\u001b[0m\u001b[0mfilepath_or_buffer\u001b[0m\u001b[0;34m,\u001b[0m \u001b[0mkwds\u001b[0m\u001b[0;34m)\u001b[0m\u001b[0;34m\u001b[0m\u001b[0;34m\u001b[0m\u001b[0m\n\u001b[0m\u001b[1;32m    703\u001b[0m \u001b[0;34m\u001b[0m\u001b[0m\n\u001b[1;32m    704\u001b[0m     \u001b[0mparser_f\u001b[0m\u001b[0;34m.\u001b[0m\u001b[0m__name__\u001b[0m \u001b[0;34m=\u001b[0m \u001b[0mname\u001b[0m\u001b[0;34m\u001b[0m\u001b[0;34m\u001b[0m\u001b[0m\n",
      "\u001b[0;32m~/miniconda3/envs/tpot/lib/python3.6/site-packages/pandas/io/parsers.py\u001b[0m in \u001b[0;36m_read\u001b[0;34m(filepath_or_buffer, kwds)\u001b[0m\n\u001b[1;32m    427\u001b[0m \u001b[0;34m\u001b[0m\u001b[0m\n\u001b[1;32m    428\u001b[0m     \u001b[0;31m# Create the parser.\u001b[0m\u001b[0;34m\u001b[0m\u001b[0;34m\u001b[0m\u001b[0;34m\u001b[0m\u001b[0m\n\u001b[0;32m--> 429\u001b[0;31m     \u001b[0mparser\u001b[0m \u001b[0;34m=\u001b[0m \u001b[0mTextFileReader\u001b[0m\u001b[0;34m(\u001b[0m\u001b[0mfilepath_or_buffer\u001b[0m\u001b[0;34m,\u001b[0m \u001b[0;34m**\u001b[0m\u001b[0mkwds\u001b[0m\u001b[0;34m)\u001b[0m\u001b[0;34m\u001b[0m\u001b[0;34m\u001b[0m\u001b[0m\n\u001b[0m\u001b[1;32m    430\u001b[0m \u001b[0;34m\u001b[0m\u001b[0m\n\u001b[1;32m    431\u001b[0m     \u001b[0;32mif\u001b[0m \u001b[0mchunksize\u001b[0m \u001b[0;32mor\u001b[0m \u001b[0miterator\u001b[0m\u001b[0;34m:\u001b[0m\u001b[0;34m\u001b[0m\u001b[0;34m\u001b[0m\u001b[0m\n",
      "\u001b[0;32m~/miniconda3/envs/tpot/lib/python3.6/site-packages/pandas/io/parsers.py\u001b[0m in \u001b[0;36m__init__\u001b[0;34m(self, f, engine, **kwds)\u001b[0m\n\u001b[1;32m    893\u001b[0m             \u001b[0mself\u001b[0m\u001b[0;34m.\u001b[0m\u001b[0moptions\u001b[0m\u001b[0;34m[\u001b[0m\u001b[0;34m'has_index_names'\u001b[0m\u001b[0;34m]\u001b[0m \u001b[0;34m=\u001b[0m \u001b[0mkwds\u001b[0m\u001b[0;34m[\u001b[0m\u001b[0;34m'has_index_names'\u001b[0m\u001b[0;34m]\u001b[0m\u001b[0;34m\u001b[0m\u001b[0;34m\u001b[0m\u001b[0m\n\u001b[1;32m    894\u001b[0m \u001b[0;34m\u001b[0m\u001b[0m\n\u001b[0;32m--> 895\u001b[0;31m         \u001b[0mself\u001b[0m\u001b[0;34m.\u001b[0m\u001b[0m_make_engine\u001b[0m\u001b[0;34m(\u001b[0m\u001b[0mself\u001b[0m\u001b[0;34m.\u001b[0m\u001b[0mengine\u001b[0m\u001b[0;34m)\u001b[0m\u001b[0;34m\u001b[0m\u001b[0;34m\u001b[0m\u001b[0m\n\u001b[0m\u001b[1;32m    896\u001b[0m \u001b[0;34m\u001b[0m\u001b[0m\n\u001b[1;32m    897\u001b[0m     \u001b[0;32mdef\u001b[0m \u001b[0mclose\u001b[0m\u001b[0;34m(\u001b[0m\u001b[0mself\u001b[0m\u001b[0;34m)\u001b[0m\u001b[0;34m:\u001b[0m\u001b[0;34m\u001b[0m\u001b[0;34m\u001b[0m\u001b[0m\n",
      "\u001b[0;32m~/miniconda3/envs/tpot/lib/python3.6/site-packages/pandas/io/parsers.py\u001b[0m in \u001b[0;36m_make_engine\u001b[0;34m(self, engine)\u001b[0m\n\u001b[1;32m   1130\u001b[0m                                  ' \"c\", \"python\", or' ' \"python-fwf\")'.format(\n\u001b[1;32m   1131\u001b[0m                                      engine=engine))\n\u001b[0;32m-> 1132\u001b[0;31m             \u001b[0mself\u001b[0m\u001b[0;34m.\u001b[0m\u001b[0m_engine\u001b[0m \u001b[0;34m=\u001b[0m \u001b[0mklass\u001b[0m\u001b[0;34m(\u001b[0m\u001b[0mself\u001b[0m\u001b[0;34m.\u001b[0m\u001b[0mf\u001b[0m\u001b[0;34m,\u001b[0m \u001b[0;34m**\u001b[0m\u001b[0mself\u001b[0m\u001b[0;34m.\u001b[0m\u001b[0moptions\u001b[0m\u001b[0;34m)\u001b[0m\u001b[0;34m\u001b[0m\u001b[0;34m\u001b[0m\u001b[0m\n\u001b[0m\u001b[1;32m   1133\u001b[0m \u001b[0;34m\u001b[0m\u001b[0m\n\u001b[1;32m   1134\u001b[0m     \u001b[0;32mdef\u001b[0m \u001b[0m_failover_to_python\u001b[0m\u001b[0;34m(\u001b[0m\u001b[0mself\u001b[0m\u001b[0;34m)\u001b[0m\u001b[0;34m:\u001b[0m\u001b[0;34m\u001b[0m\u001b[0;34m\u001b[0m\u001b[0m\n",
      "\u001b[0;32m~/miniconda3/envs/tpot/lib/python3.6/site-packages/pandas/io/parsers.py\u001b[0m in \u001b[0;36m__init__\u001b[0;34m(self, f, **kwds)\u001b[0m\n\u001b[1;32m   2223\u001b[0m         f, handles = _get_handle(f, mode, encoding=self.encoding,\n\u001b[1;32m   2224\u001b[0m                                  \u001b[0mcompression\u001b[0m\u001b[0;34m=\u001b[0m\u001b[0mself\u001b[0m\u001b[0;34m.\u001b[0m\u001b[0mcompression\u001b[0m\u001b[0;34m,\u001b[0m\u001b[0;34m\u001b[0m\u001b[0;34m\u001b[0m\u001b[0m\n\u001b[0;32m-> 2225\u001b[0;31m                                  memory_map=self.memory_map)\n\u001b[0m\u001b[1;32m   2226\u001b[0m         \u001b[0mself\u001b[0m\u001b[0;34m.\u001b[0m\u001b[0mhandles\u001b[0m\u001b[0;34m.\u001b[0m\u001b[0mextend\u001b[0m\u001b[0;34m(\u001b[0m\u001b[0mhandles\u001b[0m\u001b[0;34m)\u001b[0m\u001b[0;34m\u001b[0m\u001b[0;34m\u001b[0m\u001b[0m\n\u001b[1;32m   2227\u001b[0m \u001b[0;34m\u001b[0m\u001b[0m\n",
      "\u001b[0;32m~/miniconda3/envs/tpot/lib/python3.6/site-packages/pandas/io/common.py\u001b[0m in \u001b[0;36m_get_handle\u001b[0;34m(path_or_buf, mode, encoding, compression, memory_map, is_text)\u001b[0m\n\u001b[1;32m    425\u001b[0m         \u001b[0;32melif\u001b[0m \u001b[0mis_text\u001b[0m\u001b[0;34m:\u001b[0m\u001b[0;34m\u001b[0m\u001b[0;34m\u001b[0m\u001b[0m\n\u001b[1;32m    426\u001b[0m             \u001b[0;31m# Python 3 and no explicit encoding\u001b[0m\u001b[0;34m\u001b[0m\u001b[0;34m\u001b[0m\u001b[0;34m\u001b[0m\u001b[0m\n\u001b[0;32m--> 427\u001b[0;31m             \u001b[0mf\u001b[0m \u001b[0;34m=\u001b[0m \u001b[0mopen\u001b[0m\u001b[0;34m(\u001b[0m\u001b[0mpath_or_buf\u001b[0m\u001b[0;34m,\u001b[0m \u001b[0mmode\u001b[0m\u001b[0;34m,\u001b[0m \u001b[0merrors\u001b[0m\u001b[0;34m=\u001b[0m\u001b[0;34m'replace'\u001b[0m\u001b[0;34m,\u001b[0m \u001b[0mnewline\u001b[0m\u001b[0;34m=\u001b[0m\u001b[0;34m\"\"\u001b[0m\u001b[0;34m)\u001b[0m\u001b[0;34m\u001b[0m\u001b[0;34m\u001b[0m\u001b[0m\n\u001b[0m\u001b[1;32m    428\u001b[0m         \u001b[0;32melse\u001b[0m\u001b[0;34m:\u001b[0m\u001b[0;34m\u001b[0m\u001b[0;34m\u001b[0m\u001b[0m\n\u001b[1;32m    429\u001b[0m             \u001b[0;31m# Python 3 and binary mode\u001b[0m\u001b[0;34m\u001b[0m\u001b[0;34m\u001b[0m\u001b[0;34m\u001b[0m\u001b[0m\n",
      "\u001b[0;31mFileNotFoundError\u001b[0m: [Errno 2] No such file or directory: 'PATH/TO/DATA/FILE'"
     ]
    }
   ],
   "source": [
    "# %load my2.py\n",
    "import numpy as np\n",
    "import pandas as pd\n",
    "from sklearn.ensemble import ExtraTreesClassifier, RandomForestClassifier\n",
    "from sklearn.feature_selection import RFE\n",
    "from sklearn.model_selection import train_test_split\n",
    "from sklearn.pipeline import make_pipeline, make_union\n",
    "from tpot.builtins import StackingEstimator\n",
    "from xgboost import XGBClassifier\n",
    "\n",
    "# NOTE: Make sure that the class is labeled 'target' in the data file\n",
    "tpot_data = pd.read_csv('PATH/TO/DATA/FILE', sep='COLUMN_SEPARATOR', dtype=np.float64)\n",
    "features = tpot_data.drop('target', axis=1).values\n",
    "training_features, testing_features, training_target, testing_target = \\\n",
    "            train_test_split(features, tpot_data['target'].values, random_state=None)\n",
    "\n",
    "# Average CV score on the training set was:0.8721283912579212\n",
    "exported_pipeline = make_pipeline(\n",
    "    StackingEstimator(estimator=XGBClassifier(learning_rate=0.001, max_depth=1, min_child_weight=3, n_estimators=100, nthread=1, subsample=0.4)),\n",
    "    RFE(estimator=ExtraTreesClassifier(criterion=\"gini\", max_features=0.3, n_estimators=100), step=0.4),\n",
    "    RandomForestClassifier(bootstrap=True, criterion=\"gini\", max_features=0.5, min_samples_leaf=1, min_samples_split=20, n_estimators=100)\n",
    ")\n",
    "\n",
    "exported_pipeline.fit(training_features, training_target)\n",
    "results = exported_pipeline.predict(testing_features)\n"
   ]
  },
  {
   "cell_type": "code",
   "execution_count": 37,
   "metadata": {
    "ExecuteTime": {
     "end_time": "2019-03-15T05:49:05.602293Z",
     "start_time": "2019-03-15T05:49:05.504656Z"
    }
   },
   "outputs": [],
   "source": []
  },
  {
   "cell_type": "code",
   "execution_count": 38,
   "metadata": {
    "ExecuteTime": {
     "end_time": "2019-03-15T05:49:06.069142Z",
     "start_time": "2019-03-15T05:49:06.011184Z"
    }
   },
   "outputs": [],
   "source": [
    "y_pred = tpot2.predict(X_score)\n",
    "y_pred = y_pred.astype(int)\n",
    "# save submission using samples Ids\n",
    "index = pd.read_csv('input/gender_submission.csv')[\"PassengerId\"]\n",
    "df_score = pd.DataFrame({\"PassengerId\": index, \"Survived\": y_pred})\n",
    "df_score.to_csv('input/submission.csv', index=False)"
   ]
  },
  {
   "cell_type": "code",
   "execution_count": null,
   "metadata": {},
   "outputs": [],
   "source": []
  }
 ],
 "metadata": {
  "kernelspec": {
   "display_name": "Python 3",
   "language": "python",
   "name": "python3"
  },
  "language_info": {
   "codemirror_mode": {
    "name": "ipython",
    "version": 3
   },
   "file_extension": ".py",
   "mimetype": "text/x-python",
   "name": "python",
   "nbconvert_exporter": "python",
   "pygments_lexer": "ipython3",
   "version": "3.6.8"
  }
 },
 "nbformat": 4,
 "nbformat_minor": 2
}
