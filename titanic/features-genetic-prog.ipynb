{
 "cells": [
  {
   "cell_type": "code",
   "execution_count": 1,
   "metadata": {
    "ExecuteTime": {
     "end_time": "2019-03-03T19:08:54.800550Z",
     "start_time": "2019-03-03T19:08:50.918229Z"
    }
   },
   "outputs": [
    {
     "name": "stdout",
     "output_type": "stream",
     "text": [
      "modified eli5\n",
      "modified PermutationImportance sklearn\n",
      "GPLEARN MOD\n"
     ]
    },
    {
     "name": "stderr",
     "output_type": "stream",
     "text": [
      "/Users/user/miniconda3/envs/test2/lib/python3.6/site-packages/lightgbm/__init__.py:46: UserWarning: Starting from version 2.2.1, the library file in distribution wheels for macOS is built by the Apple Clang (Xcode_8.3.1) compiler.\n",
      "This means that in case of installing LightGBM from PyPI via the ``pip install lightgbm`` command, you don't need to install the gcc compiler anymore.\n",
      "Instead of that, you need to install the OpenMP library, which is required for running LightGBM on the system with the Apple Clang compiler.\n",
      "You can install the OpenMP library by the following command: ``brew install libomp``.\n",
      "  \"You can install the OpenMP library by the following command: ``brew install libomp``.\", UserWarning)\n",
      "Using TensorFlow backend.\n"
     ]
    }
   ],
   "source": [
    "%load_ext autoreload\n",
    "%autoreload 2\n",
    "\n",
    "\n",
    "import sys\n",
    "\n",
    "# implementation of reverse_shuffle\n",
    "sys.path.insert(0, \"/Users/user/git/eli5/\")\n",
    "import eli5\n",
    "\n",
    "sys.path.insert(0, \"/Users/user/git/gplearn/\")\n",
    "import gplearn\n",
    "\n",
    "sys.path.insert(0, \"/Users/user/git/datasci\")\n",
    "from sci.metrics import rmse_score\n",
    "from plots import *\n",
    "import sci.features as scif\n",
    "import sci.learn as scil\n",
    "import sci.plots as scip\n",
    "\n",
    "import pandas as pd\n",
    "pd.set_option('display.float_format', lambda x: '{:.4f}'.format(x)) #Limiting floats output to\n",
    "pd.options.display.max_rows = 999\n",
    "\n",
    "import numpy as np\n",
    "\n",
    "import seaborn as sns\n",
    "color = sns.color_palette()\n",
    "sns.set_style('darkgrid')\n",
    "\n",
    "import gplearn\n",
    "\n",
    "random_state =1"
   ]
  },
  {
   "cell_type": "markdown",
   "metadata": {},
   "source": [
    "## Load Data"
   ]
  },
  {
   "cell_type": "code",
   "execution_count": 2,
   "metadata": {
    "ExecuteTime": {
     "end_time": "2019-03-03T19:08:54.869011Z",
     "start_time": "2019-03-03T19:08:54.803535Z"
    },
    "scrolled": true
   },
   "outputs": [
    {
     "name": "stdout",
     "output_type": "stream",
     "text": [
      "(891, 8) (891,)\n",
      "train: (712, 8)\n",
      "test: (179, 8)\n"
     ]
    }
   ],
   "source": [
    "data = scil.load_data(\"processed_min\", random_state=random_state)\n",
    "\n",
    "print(\"train:\", data.X_train.shape)\n",
    "print(\"test:\", data.X_test.shape)"
   ]
  },
  {
   "cell_type": "code",
   "execution_count": 5,
   "metadata": {
    "ExecuteTime": {
     "end_time": "2019-03-03T19:09:07.833297Z",
     "start_time": "2019-03-03T19:09:07.780242Z"
    }
   },
   "outputs": [],
   "source": [
    "# path = 'processed_min'\n",
    "# !mkdir -p $path\n",
    "# X_train.to_msgpack(f'{path}/X.msgpack')\n",
    "# y.to_msgpack(f'{path}/y.msgpack')\n",
    "# X_score.to_msgpack(f'{path}/X_score.msgpack')\n",
    "\n",
    "# # from sklearn.externals import joblib\n",
    "# # joblib.dump(y_tr, f'{path}/y_tr.joblib')\n"
   ]
  },
  {
   "cell_type": "code",
   "execution_count": 6,
   "metadata": {
    "ExecuteTime": {
     "end_time": "2019-03-03T19:09:08.596603Z",
     "start_time": "2019-03-03T19:09:08.535377Z"
    }
   },
   "outputs": [],
   "source": [
    "from sklearn.preprocessing import StandardScaler\n",
    "\n",
    "sc = StandardScaler()\n",
    "sc.fit(data.X_train)\n",
    "\n",
    "data_gp = scil.Data(pd.DataFrame(sc.transform(data.X), index=data.X.index, columns=data.X.columns), data.y)\n",
    "data_gp.X_score = pd.DataFrame(sc.transform(data.X_score), index=data.X_score.index, columns=data.X_score.columns)\n",
    "\n",
    "data_gp = data"
   ]
  },
  {
   "cell_type": "code",
   "execution_count": 138,
   "metadata": {
    "ExecuteTime": {
     "end_time": "2019-03-03T20:29:29.650163Z",
     "start_time": "2019-03-03T20:29:29.526325Z"
    }
   },
   "outputs": [],
   "source": [
    "def sigmoid(x):\n",
    "    sigm = 1. / (1. + np.exp(-x))\n",
    "    return sigm\n",
    "\n",
    "def Outputs(data):\n",
    "    return 1.-(1./(1.+np.exp(-data)))\n",
    "\n",
    "Outputs = sigmoid\n",
    "\n",
    "from sklearn.metrics import *\n",
    "def roc_auc_metric(y_true, y_score, sample_weight):\n",
    "    try:\n",
    "        y_score = Outputs(y_score)\n",
    "        return roc_auc_score(y_true, y_score, sample_weight=sample_weight)\n",
    "    except:\n",
    "        return 0\n",
    "                        \n",
    "from gplearn.fitness import make_fitness\n",
    "roc_auc_fitness = make_fitness(roc_auc_metric, greater_is_better=True)"
   ]
  },
  {
   "cell_type": "code",
   "execution_count": 139,
   "metadata": {
    "ExecuteTime": {
     "end_time": "2019-03-03T20:29:31.173159Z",
     "start_time": "2019-03-03T20:29:31.116929Z"
    }
   },
   "outputs": [],
   "source": [
    "function_set = ['add', 'sub', 'mul', 'div',\n",
    "                'sqrt', 'log', 'abs', 'neg', 'inv',\n",
    "                'max', 'min',\n",
    "                'sin', 'cos', 'tan']\n"
   ]
  },
  {
   "cell_type": "code",
   "execution_count": 140,
   "metadata": {
    "ExecuteTime": {
     "end_time": "2019-03-03T20:29:31.710158Z",
     "start_time": "2019-03-03T20:29:31.652961Z"
    }
   },
   "outputs": [],
   "source": [
    "from gplearn.genetic import SymbolicRegressor\n",
    "\n",
    "gp2 = SymbolicRegressor(generations=20, \n",
    "                         population_size=500,\n",
    "                         function_set=function_set,\n",
    "#                          metric='spearman',\n",
    "                         tournament_size=5,\n",
    "                       stopping_criteria=1.0,\n",
    "                       metric=roc_auc_fitness, \n",
    "                       const_range=(-5, 5), \n",
    "                         parsimony_coefficient=0.0005,\n",
    "#                          parsimony_coefficient=0.0005,\n",
    "#                          parsimony_coefficient='auto', #0.0005,\n",
    "                         max_samples=0.9, \n",
    "                        feature_names=data.X.columns,\n",
    "#                         feature_names = data_gp.X.columns,\n",
    "                         verbose=1,\n",
    "                         random_state=1, \n",
    "                       n_jobs=3,\n",
    "                       warm_start=True)"
   ]
  },
  {
   "cell_type": "code",
   "execution_count": 223,
   "metadata": {
    "ExecuteTime": {
     "end_time": "2019-03-04T06:15:24.617643Z",
     "start_time": "2019-03-03T21:07:18.177219Z"
    }
   },
   "outputs": [
    {
     "data": {
      "image/png": "[encoded data removed]",
      "text/plain": [
       "<Figure size 432x288 with 1 Axes>"
      ]
     },
     "metadata": {
      "needs_background": "light"
     },
     "output_type": "display_data"
    },
    {
     "name": "stdout",
     "output_type": "stream",
     "text": [
      "parsimony_coefficient: 5e-05\n",
      "sub(sub(inv(add(min(Embarked, Pclass), add(add(div(div(Sex, add(Pclass, sub(sub(div(add(add(div(div(Sex, div(sin(Cabin), Fare)), Age), div(Embarked, Fare)), inv(Age)), Fare), Sex), Sex))), Fare), Pclass), inv(add(sub(sub(div(add(add(inv(Age), div(Sex, add(div(div(Sex, div(sin(Cabin), Fare)), Fare), add(inv(Age), Pclass)))), div(Sex, Fare)), Fare), Sex), Sex), Embarked))))), div(mul(sub(div(Sex, add(div(div(Sex, Fare), Fare), Sex)), sub(sub(sub(sub(div(mul(sub(div(Sex, add(div(div(Sex, div(inv(Age), add(div(inv(Age), div(div(div(Sex, div(inv(add(div(sin(Cabin), Fare), Embarked)), Fare)), inv(Age)), Fare)), div(div(div(Sex, Fare), Fare), Fare)))), Fare), Sex)), sub(sub(sub(sub(div(Sex, add(div(Sex, Fare), add(inv(Age), Pclass))), Sex), inv(Age)), Cabin), add(Embarked, Cabin))), sin(Cabin)), Fare), Sex), inv(Age)), Cabin), add(Embarked, Cabin))), sin(Cabin)), Fare)), Sex)\n",
      "    |   Population Average    |             Best Individual              |\n",
      "---- ------------------------- ------------------------------------------ ----------\n",
      " Gen   Length          Fitness   Length          Fitness      OOB Fitness  Time Left\n",
      "5400   153.30       0.84234223      143       0.88452308       0.74179237     19.17s\n",
      "5401   159.18       0.84677609      216       0.88855744       0.72765957     14.50s\n"
     ]
    },
    {
     "ename": "KeyboardInterrupt",
     "evalue": "",
     "output_type": "error",
     "traceback": [
      "\u001b[0;31m---------------------------------------------------------------------------\u001b[0m",
      "\u001b[0;31mKeyboardInterrupt\u001b[0m                         Traceback (most recent call last)",
      "\u001b[0;32m<ipython-input-223-77614c57eb94>\u001b[0m in \u001b[0;36m<module>\u001b[0;34m\u001b[0m\n\u001b[1;32m     12\u001b[0m \u001b[0;31m#     gp2.parsimony_coefficient = 1/(gp2.generations*1000)\u001b[0m\u001b[0;34m\u001b[0m\u001b[0;34m\u001b[0m\u001b[0;34m\u001b[0m\u001b[0m\n\u001b[1;32m     13\u001b[0m     \u001b[0mgp2\u001b[0m\u001b[0;34m.\u001b[0m\u001b[0mgenerations\u001b[0m \u001b[0;34m+=\u001b[0m \u001b[0;36m5\u001b[0m\u001b[0;34m\u001b[0m\u001b[0;34m\u001b[0m\u001b[0m\n\u001b[0;32m---> 14\u001b[0;31m     \u001b[0mgp2\u001b[0m\u001b[0;34m.\u001b[0m\u001b[0mfit\u001b[0m\u001b[0;34m(\u001b[0m\u001b[0mdata_gp\u001b[0m\u001b[0;34m.\u001b[0m\u001b[0mX_train\u001b[0m\u001b[0;34m,\u001b[0m \u001b[0mdata_gp\u001b[0m\u001b[0;34m.\u001b[0m\u001b[0my_train\u001b[0m\u001b[0;34m)\u001b[0m\u001b[0;34m\u001b[0m\u001b[0;34m\u001b[0m\u001b[0m\n\u001b[0m\u001b[1;32m     15\u001b[0m \u001b[0;34m\u001b[0m\u001b[0m\n\u001b[1;32m     16\u001b[0m     \u001b[0my_preds\u001b[0m \u001b[0;34m=\u001b[0m \u001b[0;34m[\u001b[0m\u001b[0mp\u001b[0m\u001b[0;34m.\u001b[0m\u001b[0mexecute\u001b[0m\u001b[0;34m(\u001b[0m\u001b[0mdata_gp\u001b[0m\u001b[0;34m.\u001b[0m\u001b[0mX_test\u001b[0m\u001b[0;34m.\u001b[0m\u001b[0mvalues\u001b[0m\u001b[0;34m)\u001b[0m \u001b[0;32mfor\u001b[0m \u001b[0mp\u001b[0m \u001b[0;32min\u001b[0m \u001b[0mgp2\u001b[0m\u001b[0;34m.\u001b[0m\u001b[0mrun_details_\u001b[0m\u001b[0;34m[\u001b[0m\u001b[0;34m'best_program'\u001b[0m\u001b[0;34m]\u001b[0m\u001b[0;34m]\u001b[0m\u001b[0;34m\u001b[0m\u001b[0;34m\u001b[0m\u001b[0m\n",
      "\u001b[0;32m~/git/gplearn/gplearn/genetic.py\u001b[0m in \u001b[0;36mfit\u001b[0;34m(self, X, y, sample_weight)\u001b[0m\n\u001b[1;32m    434\u001b[0m                                           \u001b[0mseeds\u001b[0m\u001b[0;34m[\u001b[0m\u001b[0mstarts\u001b[0m\u001b[0;34m[\u001b[0m\u001b[0mi\u001b[0m\u001b[0;34m]\u001b[0m\u001b[0;34m:\u001b[0m\u001b[0mstarts\u001b[0m\u001b[0;34m[\u001b[0m\u001b[0mi\u001b[0m \u001b[0;34m+\u001b[0m \u001b[0;36m1\u001b[0m\u001b[0;34m]\u001b[0m\u001b[0;34m]\u001b[0m\u001b[0;34m,\u001b[0m\u001b[0;34m\u001b[0m\u001b[0;34m\u001b[0m\u001b[0m\n\u001b[1;32m    435\u001b[0m                                           params)\n\u001b[0;32m--> 436\u001b[0;31m                 for i in range(n_jobs))\n\u001b[0m\u001b[1;32m    437\u001b[0m \u001b[0;34m\u001b[0m\u001b[0m\n\u001b[1;32m    438\u001b[0m             \u001b[0;31m# Reduce, maintaining order across different n_jobs\u001b[0m\u001b[0;34m\u001b[0m\u001b[0;34m\u001b[0m\u001b[0;34m\u001b[0m\u001b[0m\n",
      "\u001b[0;32m~/miniconda3/envs/test2/lib/python3.6/site-packages/sklearn/externals/joblib/parallel.py\u001b[0m in \u001b[0;36m__call__\u001b[0;34m(self, iterable)\u001b[0m\n\u001b[1;32m    928\u001b[0m \u001b[0;34m\u001b[0m\u001b[0m\n\u001b[1;32m    929\u001b[0m             \u001b[0;32mwith\u001b[0m \u001b[0mself\u001b[0m\u001b[0;34m.\u001b[0m\u001b[0m_backend\u001b[0m\u001b[0;34m.\u001b[0m\u001b[0mretrieval_context\u001b[0m\u001b[0;34m(\u001b[0m\u001b[0;34m)\u001b[0m\u001b[0;34m:\u001b[0m\u001b[0;34m\u001b[0m\u001b[0;34m\u001b[0m\u001b[0m\n\u001b[0;32m--> 930\u001b[0;31m                 \u001b[0mself\u001b[0m\u001b[0;34m.\u001b[0m\u001b[0mretrieve\u001b[0m\u001b[0;34m(\u001b[0m\u001b[0;34m)\u001b[0m\u001b[0;34m\u001b[0m\u001b[0;34m\u001b[0m\u001b[0m\n\u001b[0m\u001b[1;32m    931\u001b[0m             \u001b[0;31m# Make sure that we get a last message telling us we are done\u001b[0m\u001b[0;34m\u001b[0m\u001b[0;34m\u001b[0m\u001b[0;34m\u001b[0m\u001b[0m\n\u001b[1;32m    932\u001b[0m             \u001b[0melapsed_time\u001b[0m \u001b[0;34m=\u001b[0m \u001b[0mtime\u001b[0m\u001b[0;34m.\u001b[0m\u001b[0mtime\u001b[0m\u001b[0;34m(\u001b[0m\u001b[0;34m)\u001b[0m \u001b[0;34m-\u001b[0m \u001b[0mself\u001b[0m\u001b[0;34m.\u001b[0m\u001b[0m_start_time\u001b[0m\u001b[0;34m\u001b[0m\u001b[0;34m\u001b[0m\u001b[0m\n",
      "\u001b[0;32m~/miniconda3/envs/test2/lib/python3.6/site-packages/sklearn/externals/joblib/parallel.py\u001b[0m in \u001b[0;36mretrieve\u001b[0;34m(self)\u001b[0m\n\u001b[1;32m    831\u001b[0m             \u001b[0;32mtry\u001b[0m\u001b[0;34m:\u001b[0m\u001b[0;34m\u001b[0m\u001b[0;34m\u001b[0m\u001b[0m\n\u001b[1;32m    832\u001b[0m                 \u001b[0;32mif\u001b[0m \u001b[0mgetattr\u001b[0m\u001b[0;34m(\u001b[0m\u001b[0mself\u001b[0m\u001b[0;34m.\u001b[0m\u001b[0m_backend\u001b[0m\u001b[0;34m,\u001b[0m \u001b[0;34m'supports_timeout'\u001b[0m\u001b[0;34m,\u001b[0m \u001b[0;32mFalse\u001b[0m\u001b[0;34m)\u001b[0m\u001b[0;34m:\u001b[0m\u001b[0;34m\u001b[0m\u001b[0;34m\u001b[0m\u001b[0m\n\u001b[0;32m--> 833\u001b[0;31m                     \u001b[0mself\u001b[0m\u001b[0;34m.\u001b[0m\u001b[0m_output\u001b[0m\u001b[0;34m.\u001b[0m\u001b[0mextend\u001b[0m\u001b[0;34m(\u001b[0m\u001b[0mjob\u001b[0m\u001b[0;34m.\u001b[0m\u001b[0mget\u001b[0m\u001b[0;34m(\u001b[0m\u001b[0mtimeout\u001b[0m\u001b[0;34m=\u001b[0m\u001b[0mself\u001b[0m\u001b[0;34m.\u001b[0m\u001b[0mtimeout\u001b[0m\u001b[0;34m)\u001b[0m\u001b[0;34m)\u001b[0m\u001b[0;34m\u001b[0m\u001b[0;34m\u001b[0m\u001b[0m\n\u001b[0m\u001b[1;32m    834\u001b[0m                 \u001b[0;32melse\u001b[0m\u001b[0;34m:\u001b[0m\u001b[0;34m\u001b[0m\u001b[0;34m\u001b[0m\u001b[0m\n\u001b[1;32m    835\u001b[0m                     \u001b[0mself\u001b[0m\u001b[0;34m.\u001b[0m\u001b[0m_output\u001b[0m\u001b[0;34m.\u001b[0m\u001b[0mextend\u001b[0m\u001b[0;34m(\u001b[0m\u001b[0mjob\u001b[0m\u001b[0;34m.\u001b[0m\u001b[0mget\u001b[0m\u001b[0;34m(\u001b[0m\u001b[0;34m)\u001b[0m\u001b[0;34m)\u001b[0m\u001b[0;34m\u001b[0m\u001b[0;34m\u001b[0m\u001b[0m\n",
      "\u001b[0;32m~/miniconda3/envs/test2/lib/python3.6/site-packages/sklearn/externals/joblib/_parallel_backends.py\u001b[0m in \u001b[0;36mwrap_future_result\u001b[0;34m(future, timeout)\u001b[0m\n\u001b[1;32m    519\u001b[0m         AsyncResults.get from multiprocessing.\"\"\"\n\u001b[1;32m    520\u001b[0m         \u001b[0;32mtry\u001b[0m\u001b[0;34m:\u001b[0m\u001b[0;34m\u001b[0m\u001b[0;34m\u001b[0m\u001b[0m\n\u001b[0;32m--> 521\u001b[0;31m             \u001b[0;32mreturn\u001b[0m \u001b[0mfuture\u001b[0m\u001b[0;34m.\u001b[0m\u001b[0mresult\u001b[0m\u001b[0;34m(\u001b[0m\u001b[0mtimeout\u001b[0m\u001b[0;34m=\u001b[0m\u001b[0mtimeout\u001b[0m\u001b[0;34m)\u001b[0m\u001b[0;34m\u001b[0m\u001b[0;34m\u001b[0m\u001b[0m\n\u001b[0m\u001b[1;32m    522\u001b[0m         \u001b[0;32mexcept\u001b[0m \u001b[0mLokyTimeoutError\u001b[0m\u001b[0;34m:\u001b[0m\u001b[0;34m\u001b[0m\u001b[0;34m\u001b[0m\u001b[0m\n\u001b[1;32m    523\u001b[0m             \u001b[0;32mraise\u001b[0m \u001b[0mTimeoutError\u001b[0m\u001b[0;34m(\u001b[0m\u001b[0;34m)\u001b[0m\u001b[0;34m\u001b[0m\u001b[0;34m\u001b[0m\u001b[0m\n",
      "\u001b[0;32m~/miniconda3/envs/test2/lib/python3.6/concurrent/futures/_base.py\u001b[0m in \u001b[0;36mresult\u001b[0;34m(self, timeout)\u001b[0m\n\u001b[1;32m    425\u001b[0m                 \u001b[0;32mreturn\u001b[0m \u001b[0mself\u001b[0m\u001b[0;34m.\u001b[0m\u001b[0m__get_result\u001b[0m\u001b[0;34m(\u001b[0m\u001b[0;34m)\u001b[0m\u001b[0;34m\u001b[0m\u001b[0;34m\u001b[0m\u001b[0m\n\u001b[1;32m    426\u001b[0m \u001b[0;34m\u001b[0m\u001b[0m\n\u001b[0;32m--> 427\u001b[0;31m             \u001b[0mself\u001b[0m\u001b[0;34m.\u001b[0m\u001b[0m_condition\u001b[0m\u001b[0;34m.\u001b[0m\u001b[0mwait\u001b[0m\u001b[0;34m(\u001b[0m\u001b[0mtimeout\u001b[0m\u001b[0;34m)\u001b[0m\u001b[0;34m\u001b[0m\u001b[0;34m\u001b[0m\u001b[0m\n\u001b[0m\u001b[1;32m    428\u001b[0m \u001b[0;34m\u001b[0m\u001b[0m\n\u001b[1;32m    429\u001b[0m             \u001b[0;32mif\u001b[0m \u001b[0mself\u001b[0m\u001b[0;34m.\u001b[0m\u001b[0m_state\u001b[0m \u001b[0;32min\u001b[0m \u001b[0;34m[\u001b[0m\u001b[0mCANCELLED\u001b[0m\u001b[0;34m,\u001b[0m \u001b[0mCANCELLED_AND_NOTIFIED\u001b[0m\u001b[0;34m]\u001b[0m\u001b[0;34m:\u001b[0m\u001b[0;34m\u001b[0m\u001b[0;34m\u001b[0m\u001b[0m\n",
      "\u001b[0;32m~/miniconda3/envs/test2/lib/python3.6/threading.py\u001b[0m in \u001b[0;36mwait\u001b[0;34m(self, timeout)\u001b[0m\n\u001b[1;32m    293\u001b[0m         \u001b[0;32mtry\u001b[0m\u001b[0;34m:\u001b[0m    \u001b[0;31m# restore state no matter what (e.g., KeyboardInterrupt)\u001b[0m\u001b[0;34m\u001b[0m\u001b[0;34m\u001b[0m\u001b[0m\n\u001b[1;32m    294\u001b[0m             \u001b[0;32mif\u001b[0m \u001b[0mtimeout\u001b[0m \u001b[0;32mis\u001b[0m \u001b[0;32mNone\u001b[0m\u001b[0;34m:\u001b[0m\u001b[0;34m\u001b[0m\u001b[0;34m\u001b[0m\u001b[0m\n\u001b[0;32m--> 295\u001b[0;31m                 \u001b[0mwaiter\u001b[0m\u001b[0;34m.\u001b[0m\u001b[0macquire\u001b[0m\u001b[0;34m(\u001b[0m\u001b[0;34m)\u001b[0m\u001b[0;34m\u001b[0m\u001b[0;34m\u001b[0m\u001b[0m\n\u001b[0m\u001b[1;32m    296\u001b[0m                 \u001b[0mgotit\u001b[0m \u001b[0;34m=\u001b[0m \u001b[0;32mTrue\u001b[0m\u001b[0;34m\u001b[0m\u001b[0;34m\u001b[0m\u001b[0m\n\u001b[1;32m    297\u001b[0m             \u001b[0;32melse\u001b[0m\u001b[0;34m:\u001b[0m\u001b[0;34m\u001b[0m\u001b[0;34m\u001b[0m\u001b[0m\n",
      "\u001b[0;31mKeyboardInterrupt\u001b[0m: "
     ]
    }
   ],
   "source": [
    "from IPython.display import clear_output\n",
    "\n",
    "# gp2.population_size=100\n",
    "gp2.parsimony_coefficient = 0.00005\n",
    "# gp2.tournament_size=50\n",
    "# gp2.p_crossover = 0.5\n",
    "# gp2.p_subtree_mutation = 0.01\n",
    "# gp2.p_point_mutation = 0.4\n",
    "# gp2.p_point_replace = 0.05\n",
    "gp2.n_jobs = 2\n",
    "for i in range(10000):\n",
    "#     gp2.parsimony_coefficient = 1/(gp2.generations*1000)\n",
    "    gp2.generations += 5\n",
    "    gp2.fit(data_gp.X_train, data_gp.y_train)\n",
    "    \n",
    "    y_preds = [p.execute(data_gp.X_test.values) for p in gp2.run_details_['best_program']]\n",
    "    y_preds = [Outputs(y_pred) for y_pred in y_preds]\n",
    "    scores = [roc_auc_score(data_gp.y_test, y_pred) for y_pred in y_preds]\n",
    "\n",
    "    clear_output()\n",
    "    plt.plot(scores, label=\"X_test\")\n",
    "    plt.plot(gp2.run_details_['best_oob_fitness'], label=\"oob\")\n",
    "#     plt.legend()\n",
    "    plt.show()\n",
    "    print(\"parsimony_coefficient:\", gp2.parsimony_coefficient)\n",
    "    print(gp2._program)"
   ]
  },
  {
   "cell_type": "code",
   "execution_count": 151,
   "metadata": {
    "ExecuteTime": {
     "end_time": "2019-03-03T15:03:00.949900Z",
     "start_time": "2019-03-03T14:05:34.135309Z"
    }
   },
   "outputs": [
    {
     "name": "stdout",
     "output_type": "stream",
     "text": [
      "    |    Population Average   |             Best Individual              |\n",
      "---- ------------------------- ------------------------------------------ ----------\n",
      " Gen   Length          Fitness   Length          Fitness      OOB Fitness  Time Left\n",
      "   0     9.79 0.5034270231906537       13 0.8186822916666665 0.7913752913752914      6.99m\n",
      "   1     9.92 0.5900868865342238        5 0.8287057607853268 0.757711038961039      7.03m\n",
      "   2     9.48 0.6644802927180057       14 0.832925797532087 0.7283950617283951      7.35m\n",
      "   3    10.69 0.684699524236363       19 0.8359075151665223 0.7761316872427984      7.49m\n",
      "   4     12.8 0.7018852163352564       31 0.839609075688945 0.771701388888889      7.99m\n",
      "   5    16.41 0.7320055884277809       20 0.8474166666666667 0.7494172494172494      8.12m\n",
      "   6    20.86 0.7503444956341853       41 0.8511604907747938 0.725752508361204      8.46m\n",
      "   7    27.54 0.7661777006044089       26 0.8473205414803776 0.6583801122694467      8.78m\n",
      "   8    34.32 0.768885373406122       33 0.8557633686385945 0.6619318181818181      9.02m\n",
      "   9    40.98 0.7844544162339386       61 0.8534536466791269 0.6841346153846154      9.35m\n",
      "  10    49.55 0.7840226323611159       64 0.8553549298948167 0.6477272727272727     10.48m\n",
      "  11     57.3 0.7894118689679142       49 0.8547514075178009 0.6840417000801924     10.91m\n",
      "  12    67.56 0.8005139122446693       80 0.8518455563453555 0.7207357859531772     11.23m\n",
      "  13    79.14 0.8059920347583345       84 0.8598391089108911 0.7266409266409266     11.70m\n",
      "  14     93.1 0.8062951414018878       78 0.8545765524022163 0.6831818181818181     12.13m\n",
      "  15    109.9 0.8163567703806652      205 0.8576204036152038 0.7662551440329218     12.84m\n",
      "  16   119.73 0.8176603065670995      259 0.8571780729054324 0.763454861111111     13.33m\n",
      "  17    131.7 0.8201958230788511       44 0.8616119865667785 0.6554383116883117     13.84m\n",
      "  18   151.96 0.8239130142189172      291 0.8634086769332671 0.7241379310344828     14.65m\n",
      "  19   179.96 0.8250170670083633      261 0.8632601394988375 0.7098214285714286     15.23m\n",
      "  20    202.4 0.8283207910675325      147 0.8647158213349091 0.7293650793650793     16.15m\n",
      "  21    210.6 0.8299143117516683      274 0.8683138578011849 0.6829787234042553     16.87m\n",
      "  22   211.28 0.8305145560533616       85 0.8668459951695329 0.7456349206349207     17.84m\n",
      "  23   207.06 0.8343462608828174       82 0.8727660053871916 0.6272727272727272     18.57m\n",
      "  24   203.69 0.8344602596970183      260 0.8660671055207012 0.7303511705685619     19.17m\n",
      "  25   180.31 0.8319900208691529       81 0.8685041556945358 0.738723404255319     19.90m\n",
      "  26   164.51 0.836239533814415      137 0.8684164298630845 0.7495941558441558     20.24m\n",
      "  27   145.51 0.8372038531604605      111 0.8694307692307693 0.733362910381544     20.64m\n",
      "  28   138.04 0.8351969207598149      109 0.8722773837667452 0.7410990712074302     20.71m\n",
      "  29   141.01 0.8363635652155269      230 0.8698002508525877 0.7623015873015874     20.93m\n",
      "  30   146.65 0.8317036652099611      125 0.873974358974359 0.7009760425909495     20.96m\n",
      "  31   150.32 0.8348269528887425      196 0.8777825075792185 0.6679779701022817     21.04m\n",
      "  32   159.89 0.8355517043176424      113 0.877209595959596 0.6724137931034483     21.31m\n",
      "  33   163.36 0.8348102146811135      308 0.8730242251661096 0.7123456790123457     21.42m\n",
      "  34   175.82 0.841596298548376      129 0.8744752308984047 0.7246031746031746     21.65m\n",
      "  35   183.63 0.8310862215144743      151 0.8748240602748798 0.6956696070569366     21.76m\n",
      "  36   190.91 0.8376986071539777      260 0.870427275387767 0.7687258687258687     22.04m\n",
      "  37   198.08 0.8398879006391488      207 0.8731340977222858 0.7086120401337792     22.19m\n",
      "  38   205.69 0.8401077895591618      373 0.8743084958432488 0.7111204013377926     22.47m\n",
      "  39   211.46 0.8393275381592555      254 0.8734575543724981 0.7378600823045268     22.63m\n",
      "  40   214.33 0.8365640356571337      228 0.8729435897435898 0.728039041703638     22.89m\n",
      "  41   204.38 0.837626576373158      243 0.8760472122487722 0.7127572016460905     23.04m\n",
      "  42   206.39 0.8445579538648949      187 0.8765586164581579       0.77421875     23.28m\n",
      "  43   215.25 0.8451048770835696      303 0.8801724227581402 0.6894531250000001     23.37m\n",
      "  44   227.46 0.8428849871018754      197 0.873755966680186 0.7613281249999999     23.61m\n",
      "  45   231.62 0.8394944401456609      195 0.8796802995391705 0.6565957446808511     23.89m\n",
      "  46   235.74 0.8442926959859931      266 0.8781978072179077 0.6644374508261212     24.05m\n",
      "  47   233.54 0.8434120684786341      334 0.8782912384961413 0.7152263374485597     24.39m\n",
      "  48   233.59 0.8435811368182635      229 0.8784190470321183 0.6844618055555555     24.51m\n",
      "  49   243.83 0.8464823477327398      206 0.8749676068455805 0.7527777777777778     24.76m\n",
      "  50   241.95 0.8428701402371671      226 0.8766895849248791 0.6599794238683128     24.86m\n",
      "  51   245.21 0.8452894166508774      250 0.8766883312083423 0.7571428571428571     25.07m\n",
      "  52   254.99 0.8464927885025909      231 0.8788306367323049 0.7173745173745174     25.29m\n",
      "  53   258.08 0.844960219225355      307 0.8859035357775911 0.6380952380952382     25.40m\n",
      "  54   256.39 0.8437774311356309      382 0.8786205203730977 0.6591970121381886     25.59m\n",
      "  55   273.73 0.8445939968724021      168       0.88196875 0.696969696969697     25.80m\n",
      "  56   272.47 0.8432068334631118      343 0.8783020833333333 0.722999222999223     25.91m\n",
      "  57   275.59 0.8463604804717316      342 0.8795700262254978 0.7123015873015873     26.13m\n",
      "  58   270.55 0.8431352914675336      224 0.8816029143897997 0.7113071371291099     26.22m\n",
      "  59   278.74 0.8459289635539861      369 0.880031909671085 0.6965452847805789     26.45m\n",
      "  60   287.73 0.8442068653916048      377 0.8796772768824659 0.6666666666666666     26.64m\n",
      "  61   279.46 0.8465911410593622      276 0.8770737897734308 0.7329218106995885     26.75m\n",
      "  62   276.95 0.8444016666791324      334 0.8841450098274732       0.67109375     26.91m\n",
      "  63   285.33 0.8424510551052533      497 0.8790032671371071 0.6886363636363637     27.06m\n",
      "  64   270.95 0.842771411751038      231 0.8800833333333333 0.7070707070707071     27.11m\n",
      "  65   273.08 0.8465956023896428      315 0.8798036683027641 0.6964285714285714     27.22m\n",
      "  66   274.55 0.8435918140228548      229 0.8790682603686637 0.6991489361702128     27.25m\n",
      "  67   282.78 0.8482263154147349      394 0.8823614378275763 0.7012345679012345     27.37m\n",
      "  68   283.23 0.8489851180031782      210 0.8781967674954873 0.71671826625387     27.49m\n",
      "  69   277.89 0.8446580843992934      440 0.8762674320656413      0.741796875     27.52m\n",
      "  70   275.52 0.8470480947174276      421 0.8805184977868996              0.7     27.64m\n",
      "  71   274.98 0.8469099014194866      348 0.8784090555711042 0.7253968253968255     27.67m\n",
      "  72   264.83 0.8481142355873512      303 0.8796313545288955 0.706896551724138     27.76m\n",
      "  73   256.36 0.8473338066729319      178 0.8790465528500793 0.7015873015873015     27.73m\n",
      "  74    253.4 0.8458561749626963      442 0.8811131167896159 0.7318111455108359     27.78m\n",
      "  75   264.25 0.8464599240809211      255 0.8779007570770243 0.7314893617021276     27.75m\n",
      "  76    259.2 0.8474994322687994      219 0.878207703639604 0.7232441471571907     27.70m\n",
      "  77   265.77 0.8445528169335266      179 0.8823633931184414 0.7127413127413127     27.72m\n",
      "  78   272.46 0.8488563353681905      234 0.8795866701110824 0.6789772727272727     27.68m\n",
      "  79   283.54 0.8456947052612648      242 0.8788220098165849 0.7256493506493507     27.72m\n",
      "  80    277.6 0.8484451501985805      252 0.8838977947589185 0.6919748229740362     27.70m\n",
      "  81   293.65 0.847377143538598      182 0.8816120906801007 0.7158730158730159     27.75m\n",
      "  82   297.44 0.8520182029502664      287 0.8857279723089285 0.6714046822742475     27.78m\n",
      "  83   297.16 0.8490663207564134      537 0.8800142379596384 0.7279835390946502     27.84m\n",
      "  84    295.3 0.8517501355237885      588 0.8806923076923077 0.6978704525288375     27.89m\n",
      "  85   318.51 0.8520833273758165      273 0.8872591061741152          0.65625     27.87m\n",
      "  86   326.42 0.8528013278259506      669 0.8822888142598811 0.7008928571428572     27.92m\n",
      "  87   317.66 0.8512165048421629      186  0.8825471503446 0.7004115226337448     27.92m\n"
     ]
    },
    {
     "name": "stdout",
     "output_type": "stream",
     "text": [
      "  88   317.36 0.8518823288946147      339 0.8813412216641503 0.7105034722222222     27.98m\n",
      "  89    307.7 0.8528344606509896      629 0.8820653457821053 0.6896701388888888     27.96m\n",
      "  90   314.14 0.8545015153291812      462 0.8834344434814907 0.6641975308641975     27.99m\n",
      "  91   317.59 0.8532073299854539      486 0.8823169657202683 0.7202380952380952     28.02m\n",
      "  92    321.6 0.8525350859086747      331 0.8834534468952464 0.7281249999999999     28.02m\n",
      "  93   322.81 0.8531156324950891      374 0.8800370234004256 0.7264239028944912     28.08m\n",
      "  94   323.85 0.8509783817915896      250 0.8819590607073583 0.7069958847736626     28.06m\n",
      "  95   310.64 0.852742741557866      171 0.8824603001279132      0.650390625     28.10m\n",
      "  96   313.84 0.8542550974183014      289 0.8837510540378539 0.5954241071428571     28.10m\n",
      "  97   338.16 0.8535094409488693      452 0.8851768293311082 0.7123745819397993     28.04m\n",
      "  98   342.04 0.854319584164569      451 0.8881855887086789 0.6880658436213992     28.05m\n",
      "  99   355.02 0.8539530077687384      489 0.8835537754595133 0.6848436246992783     28.02m\n",
      " 100   367.58 0.8551146581105268      627 0.8844919730923199 0.7213991769547324     28.05m\n",
      " 101   386.04 0.8544094486784061      695 0.8857147306781843 0.7368214004720691     28.11m\n",
      " 102   384.36 0.854809636977649      427 0.8877120186358012      0.717578125     28.13m\n",
      " 103   394.68 0.8570688981690868      374 0.8847429604753294 0.7321428571428572     28.20m\n",
      " 104   378.66 0.8536604036772817      259 0.8868020833333333 0.7334887334887334     28.19m\n",
      " 105   382.95 0.856431826256982      473 0.8961043657969516 0.632711038961039     28.24m\n",
      " 106   373.59 0.8569672065676676      427 0.8875469841170126 0.7245370370370371     28.25m\n",
      " 107   368.87 0.8533878414542742      439 0.8875309678556251 0.7154761904761905     28.22m\n",
      " 108   370.51 0.8561405614375317      481 0.8818198650427913 0.7374468085106384     28.25m\n",
      " 109   376.72 0.8555305365237075      395 0.8874788494077834 0.6950617283950618     28.27m\n",
      " 110   381.45 0.8555282369895558      418 0.8826735070206344 0.7370401337792643     28.25m\n",
      " 111   372.68 0.8577359245847292      505 0.88685680468458 0.7151848937844216     28.27m\n",
      " 112   364.42 0.8559804061309592      251 0.8890286057294253 0.7016840417000801     28.21m\n",
      " 113   357.88 0.8559115265410419      211 0.8869794254015565 0.6639935846030474     28.20m\n",
      " 114   344.33 0.8543393846250938      470 0.8847997933350555 0.7329545454545454     28.20m\n",
      " 115   366.96 0.8556177412583019      471 0.8835608628499756 0.7583333333333334     28.13m\n",
      " 116   362.65 0.853452130095367      484 0.8821582866072248 0.7129807692307693     28.10m\n",
      " 117   356.02 0.8565109979087383      343 0.8823172200060726 0.7893518518518519     28.04m\n",
      " 118   343.92 0.8560553201331834      329 0.8870800282403755 0.7187254130605821     28.02m\n",
      " 119   348.99 0.8535822445549811      510 0.8880637640074364 0.7061631944444444     27.95m\n",
      " 120   343.78 0.8558354865907668      588 0.8833409727527375 0.7001028806584361     27.92m\n",
      " 121   355.02 0.8560777280185802      456 0.8885416342735123 0.680952380952381     27.84m\n",
      " 122   351.88 0.8542703203763357      250 0.8855948717948716 0.6703637976929903     27.80m\n",
      " 123   350.72 0.8536338722996079      396 0.8854136384401345 0.7187254130605822     27.76m\n",
      " 124   363.61 0.8557435738357003      380 0.8857465239863143 0.7125000000000001     27.67m\n",
      " 125   343.87 0.8522017200346848      399 0.8845097514812377 0.7097872340425532     27.62m\n",
      " 126   347.84 0.8557879093671525      516 0.8883333333333334 0.7377622377622378     27.52m\n",
      " 127   349.06 0.8548002497049536      334 0.8827460637110153 0.776702786377709     27.47m\n",
      " 128   347.72 0.8520935808335496      226 0.8831538461538462 0.6912156166814553     27.38m\n",
      " 129   339.38 0.8563819609664078      460 0.8837297151846333 0.698476343223737     27.32m\n",
      " 130   355.41 0.8569219319642931      368 0.8859703593310151 0.7261427425821974     27.21m\n",
      " 131   353.88 0.8549959947855562      701 0.8880040699364591 0.7313139260424862     27.14m\n",
      " 132   351.73 0.85614332688415      701 0.8848681487001159 0.7401764234161989     27.03m\n",
      " 133   358.96 0.8568342760160133      237 0.8846181844653126 0.7660156250000001     26.96m\n",
      " 134   345.11 0.857117950058159      344 0.8858983528728841 0.7277777777777777     26.83m\n",
      " 135   338.23 0.8540331043439726      338 0.8833534217222445 0.7629598662207357     26.75m\n",
      " 136   328.93 0.8529293974774318      234 0.885483720496315 0.7365079365079366     26.63m\n",
      " 137   320.31 0.8552051896093306      369 0.8844897959183674 0.7236201298701299     26.56m\n",
      " 138   319.84 0.8545993149500378      341 0.8844438234807086 0.7413793103448275     26.43m\n",
      " 139   312.86 0.8549201279174221      219 0.8839028554970375 0.7531914893617022     26.29m\n",
      " 140   315.51 0.8540187930298255      461 0.8885500387581086 0.6410129096325721     26.19m\n",
      " 141   318.67 0.8537184399778819      494 0.8909309533434917 0.6984126984126985     26.05m\n",
      " 142   324.44 0.8558427726873028      320 0.8852717751283325 0.748195669607057     25.95m\n",
      " 143   320.56 0.8536582103792555      284 0.8854395236476393 0.7249163879598662     25.81m\n",
      " 144   329.13 0.8538640005250243      280 0.8856661618815094 0.7169732441471572     25.70m\n",
      " 145   323.92 0.8568763881694587      575 0.8857435897435899 0.7031943212067435     25.57m\n",
      " 146   330.52 0.8572240014164458      477 0.884608995390174 0.7470495672698663     25.47m\n",
      " 147   341.84 0.8549380358536501      387 0.8854839377380361 0.7433841218925422     25.34m\n",
      " 148   324.96 0.8542690257312552      251 0.8879772668561097 0.7386363636363636     25.21m\n",
      " 149   328.43 0.8533846808310681      267 0.8857968750000002 0.7362082362082362     25.11m\n",
      " 150   333.61 0.8541796436072903      328 0.8864169465254454 0.7504058441558441     24.96m\n",
      " 151   321.66 0.8561176540972026      184 0.8903318383805134 0.6842553191489361     24.85m\n",
      " 152   326.61 0.8575423488056579      290 0.8854735883424408 0.7169206094627105     24.69m\n",
      " 153   319.71 0.8535860742089039      345 0.8890754835197567 0.6566840277777778     24.56m\n",
      " 154   323.58 0.8555392613445956      280 0.8924895833333334 0.6942501942501942     24.41m\n",
      " 155   334.92 0.8543899175133236      221 0.8845416666666667 0.7583527583527584     24.27m\n",
      " 156   327.51 0.8533651346980332      445 0.8859054516941108 0.7403292181069958     24.17m\n",
      " 157   340.76 0.8539666405742513      338 0.8851063610928243 0.7429787234042552     24.03m\n",
      " 158   331.79 0.8526353805390806      390 0.8858693409269118 0.7452674897119341     23.92m\n",
      " 159   344.17 0.8529503464016668      267 0.884727460604495 0.7207792207792209     23.77m\n",
      " 160   348.62 0.8541564544759304      538 0.8865058910162003 0.6928104575163399     23.66m\n",
      " 161    345.8 0.8558083564043705      400 0.8887656250000001 0.71989121989122     23.52m\n",
      " 162   355.11 0.8556958216980628      243 0.88585170673052 0.7313492063492063     23.37m\n",
      " 163   350.53 0.8568803548615616      399 0.8851005043190665 0.7378472222222223     23.27m\n",
      " 164    341.6 0.8565568857066501      223 0.89288054160297              0.7     23.12m\n",
      " 165   344.11 0.8545301701118971      310 0.8867114498110387 0.7584579071597168     23.01m\n",
      " 166   326.39 0.8537048912566383      427 0.8889866088722764 0.7299382716049383     22.87m\n",
      " 167   340.98 0.8575130437225144      228 0.8872908412109111 0.7203125000000001     22.71m\n",
      " 168   334.59 0.8528638824358448      484 0.8886334280547662 0.7061688311688312     22.59m\n",
      " 169   343.58 0.8578913762201309      283 0.8888304238372332 0.7213991769547325     22.43m\n",
      " 170   333.51 0.8544586051512146      242 0.8878280758403709 0.7417802726543705     22.31m\n",
      " 171   330.26 0.8578125221388846      383 0.8890316123973423 0.7032921810699588     22.15m\n",
      " 172   328.66 0.8556717180147037      242 0.8853789499670837             0.74     21.99m\n",
      " 173   314.67 0.8526628264778738      392 0.8880153522347407 0.7267489711934156     21.87m\n",
      " 174   311.56 0.8567616597448275      401 0.8889214145584897 0.7252604166666666     21.71m\n",
      " 175   317.39 0.8556835708678546      403 0.8874554975989403 0.723336006415397     21.58m\n",
      " 176   326.08 0.8569058946987022      459 0.8842134043167842 0.7547325102880659     21.41m\n",
      " 177   331.43 0.8565146048548652      575 0.8879453999341673 0.6851063829787234     21.25m\n",
      " 178    332.9 0.8567313700767584      262 0.8880195396588839 0.7249398556535686     21.12m\n"
     ]
    },
    {
     "name": "stdout",
     "output_type": "stream",
     "text": [
      " 179   342.15 0.8575370209273337      265 0.887412306456099 0.7282608695652174     20.96m\n",
      " 180    343.0 0.8542965555334815      343 0.8855718298763359 0.703968253968254     20.83m\n",
      " 181   328.39 0.8574314281363867      421 0.88712670128847 0.7527777777777779     20.67m\n",
      " 182    322.3 0.8565611328244193      257 0.8877677355453757 0.7123456790123457     20.51m\n",
      " 183   303.15 0.8560091801371157      270 0.889476923076923 0.6818988464951198     20.37m\n",
      " 184   307.91 0.8558347025331807      391 0.8894114583333333 0.728049728049728     20.19m\n",
      " 185   306.74 0.8548496102331681      409 0.8884919768300419 0.7347656250000001     20.03m\n",
      " 186   303.42 0.8529008858146943      340 0.8910052083333333 0.7284382284382285     19.89m\n",
      " 187    316.0 0.8533870137726244      400 0.890618641680318 0.7616099071207431     19.72m\n",
      " 188   312.88 0.8519345208737689      477 0.887062220566319 0.7385725741780272     19.58m\n",
      " 189   327.37 0.8574320337117054      417 0.883838226271072       0.78515625     19.41m\n",
      " 190   322.23 0.8558268817067056      379 0.8894405043341214 0.7720588235294118     19.24m\n",
      " 191   325.91 0.8578868981536666      264 0.8871280590978499 0.7353909465020576     19.09m\n",
      " 192    327.1 0.8559607351874033      516 0.8887515323835131 0.7190635451505016     18.92m\n",
      " 193   331.92 0.8542425842408509      406 0.8873762503734379 0.7211538461538461     18.75m\n",
      " 194   330.58 0.856366570320977      426 0.886365290820412 0.7464843750000001     18.61m\n",
      " 195   347.14 0.8581509379044622      363 0.8885455954533712 0.7224025974025974     18.45m\n",
      " 196   334.99 0.859746660831929      329 0.8892760416666667 0.7125097125097125     18.29m\n",
      " 197   333.34 0.85781518653672      726 0.8863128205128206 0.7089618456078083     18.15m\n",
      " 198   324.94 0.8570459934412569      349 0.8877076923076922 0.7067435669920142     17.98m\n",
      " 199   334.45 0.8568858390228945      351 0.8846649819569672 0.7625000000000001     17.83m\n",
      " 200    313.1 0.8542048598557596      284 0.8899513843538471 0.7083333333333334     17.66m\n",
      " 201   322.63 0.8570861112381208      544 0.8878730395662946 0.7126984126984126     17.49m\n",
      " 202   318.57 0.8545327009558498      447 0.8852872992217254 0.7574178027265437     17.34m\n",
      " 203   325.04 0.857640293250007      328 0.8849059359968281 0.7879256965944272     17.16m\n",
      " 204   320.79 0.8540792194423181      391 0.8899666721527321 0.7157446808510639     17.00m\n",
      " 205   321.65 0.8552419285858043      248 0.886509062253743 0.7836687306501547     16.85m\n",
      " 206   326.87 0.8555613873111632      464 0.8877231607174532             0.75     16.67m\n",
      " 207   332.67 0.8562398660991348      447 0.8879315697963239 0.7072975140336808     16.50m\n",
      " 208   338.32 0.8566941778253108      243 0.8867068860071938 0.7166666666666667     16.34m\n",
      " 209   329.14 0.8566250969901997      384 0.8880300261638773 0.745869394177813     16.17m\n",
      " 210   337.44 0.8581327689844911      392 0.8886461538461539 0.6974267968056788     15.99m\n",
      " 211   332.11 0.857242132692075      318 0.8901113617867336 0.7081939799331104     15.84m\n",
      " 212   324.88 0.8586424759883864      263 0.8834086500763484 0.7526748971193417     15.67m\n",
      " 213   324.83 0.8561908877061206      357 0.8933628272415196 0.686532507739938     15.50m\n",
      " 214   317.34 0.8535027182909127      453 0.8861792818393179 0.7362012987012987     15.35m\n",
      " 215   330.38 0.8556641069603806      250 0.8863460765831195 0.6927257525083612     15.17m\n",
      " 216   327.21 0.8572381764944467      747 0.8859062500000001 0.7983682983682984     14.99m\n",
      " 217   330.66 0.8562182771812377      473 0.8878399570797739 0.7209876543209877     14.84m\n",
      " 218   336.59 0.8554422389439915      717 0.8893708990266505 0.7091269841269842     14.69m\n",
      " 219   339.53 0.8582871171762767      353 0.887374358974359 0.7293700088731145     14.52m\n",
      " 220   335.42 0.8553131781379131      279 0.8870558375634519 0.7345679012345679     14.37m\n",
      " 221   331.36 0.8547615793343102      197 0.8862070031214264 0.7244983277591974     14.20m\n",
      " 222   331.93 0.855612021000479      590 0.8908860759493671 0.6761363636363636     14.03m\n",
      " 223   329.38 0.8564463089370715      380 0.8872837698050984 0.6918181818181819     13.87m\n",
      " 224    323.5 0.8571485136310452      282 0.8862172893350888 0.7361702127659574     13.69m\n",
      " 225   314.91 0.8586305105379699      247 0.8858554422292753 0.7291666666666666     13.51m\n",
      " 226   300.64 0.8541297735621115      348 0.8916625269084286 0.6872493985565357     13.35m\n",
      " 227   306.24 0.8569852414397581      289 0.8863718309278775 0.7332775919732442     13.17m\n",
      " 228   317.57 0.8561077842577894      385 0.8888710079322231 0.7265932336742722     12.99m\n",
      " 229   313.84 0.8560806678825201      320 0.8869133824299757 0.6948784722222222     12.83m\n",
      " 230   298.23 0.8573269068764225      362 0.8868560791015625 0.7213903743315508     12.64m\n",
      " 231   300.96 0.8553459741296167      431 0.8881114531828218 0.7238095238095238     12.46m\n",
      " 232   302.32 0.8559389652959981      215 0.8838925687512309 0.7825396825396825     12.29m\n",
      " 233   295.24 0.8556326674182008      280 0.887486545785726 0.7522052927024859     12.11m\n",
      " 234   290.34 0.8572946850753712      200 0.8872122868024507 0.7173215717722534     11.93m\n",
      " 235   293.85 0.8565229636094461      216 0.8876916379015455 0.7079365079365079     11.76m\n",
      " 236   296.64 0.8555251024061424      426 0.8876153846153846 0.7000887311446318     11.58m\n",
      " 237   293.74 0.8519240358357187      637 0.8861911193475096          0.78125     11.39m\n",
      " 238   300.58 0.852899330678609      636 0.8862500000000001 0.7696192696192696     11.21m\n",
      " 239   284.89 0.852555935996215      309 0.8864120883120665        0.7515625     11.04m\n",
      " 240   281.31 0.8518597396338189      232 0.8883905967450272 0.7625811688311689     10.85m\n",
      " 241   279.52 0.8550343843121252      345 0.891070891770584 0.7293650793650793     10.67m\n",
      " 242    277.3 0.8534545644992095      282 0.8942367215550329 0.7094650205761317     10.48m\n",
      " 243   288.44 0.8550147904984957      304 0.8900752740958926 0.6904761904761906     10.31m\n",
      " 244   281.92 0.8540041093471502      339 0.8886343939581528 0.7551440329218106     10.12m\n",
      " 245   284.58 0.8570397600376068      289 0.8914614394285477 0.7533438237608182      9.94m\n",
      " 246   304.51 0.8598120197852924      343 0.893402221648153 0.6956168831168831      9.76m\n",
      " 247   303.23 0.8543901022459062      278 0.8908532097728852 0.7468253968253967      9.58m\n",
      " 248   307.52 0.8557836814933455      325 0.8900563892398238 0.7599826388888888      9.40m\n",
      " 249   314.57 0.8578216010964427      238 0.8978942264041929 0.6703703703703704      9.21m\n",
      " 250    311.5 0.8597206338838658      341 0.895219901158686 0.6876475216365068      9.04m\n",
      " 251   314.23 0.8593232236400227      313 0.8905903925992315 0.7382943143812708      8.86m\n",
      " 252   311.58 0.8595000282068533      441 0.8895419348819853 0.7559523809523809      8.68m\n",
      " 253   305.24 0.855968524050212      230 0.8863756135365538 0.744724025974026      8.50m\n",
      " 254   317.68 0.8594608882497592      327 0.8914097643514505 0.7102880658436214      8.32m\n",
      " 255   317.96 0.8586170193532963      572 0.8941858174995594 0.7091269841269842      8.14m\n",
      " 256   324.33 0.8599961786525634      348 0.8914166666666666 0.7521367521367522      7.95m\n",
      " 257   332.68 0.8576148163249275      516 0.8887305818549499 0.7254807692307692      7.78m\n",
      " 258   331.02 0.8600918146280043      286 0.890203258722844 0.7472340425531915      7.60m\n",
      " 259   331.69 0.8603291543499204      301 0.8902289746543779 0.7021276595744681      7.42m\n",
      " 260   332.48 0.8620964742040508      321 0.8912497038250353 0.7324414715719064      7.24m\n",
      " 261   332.56 0.8594223524713072      199 0.8909181616194864 0.7046808510638298      7.06m\n",
      " 262   330.92 0.8604724727803041      205 0.8891376683148302 0.7472222222222222      6.88m\n",
      " 263   335.84 0.8601139785849219      350 0.890946245281253       0.74140625      6.70m\n",
      " 264   342.64 0.8598452298409983      387 0.8909473178977243 0.7577399380804954      6.52m\n",
      " 265   344.19 0.8579392604015131      197 0.8897751655938054 0.7678571428571428      6.34m\n",
      " 266   335.81 0.8590828077536733      574 0.8915422371480237 0.7357954545454546      6.16m\n",
      " 267   330.69 0.8605459397164001      384 0.8929006231686683 0.7271604938271605      5.98m\n",
      " 268   343.29 0.8606260325565224      375 0.8890421840377942 0.7239382239382238      5.79m\n",
      " 269   335.29 0.8588181764443791      404 0.8885518550616978 0.725925925925926      5.61m\n"
     ]
    },
    {
     "name": "stdout",
     "output_type": "stream",
     "text": [
      " 270   336.25 0.8601012113560501      460 0.8911064425770308 0.7729729729729728      5.43m\n",
      " 271   330.45 0.858764187067442      335 0.8904354469060352 0.6754115226337448      5.24m\n",
      " 272   326.56 0.8572584919989058      385 0.8882591342988808 0.7353191489361702      5.06m\n",
      " 273   319.47 0.8584971027406078      376 0.8895856592827556 0.78328173374613      4.88m\n",
      " 274   320.27 0.8594925956607188      359 0.8916972358563678 0.7236201298701299      4.70m\n",
      " 275   323.27 0.8607346687230638      439 0.8891345905450788 0.7495941558441558      4.51m\n",
      " 276   315.93 0.8618318616626074      323 0.8883674571203124 0.80330448465775      4.33m\n",
      " 277   313.76 0.8598560338419066      242 0.8986473938343446 0.6580246913580247      4.15m\n",
      " 278   314.13 0.8546406935452214      543 0.8930577271231073 0.703404255319149      3.96m\n",
      " 279   330.48 0.8594068132244337      357 0.8943282051282051 0.6894409937888198      3.77m\n",
      " 280   333.46 0.8599283265295251      295 0.8912686280015392 0.7652343749999999      3.59m\n",
      " 281   327.51 0.8584820244257378      327 0.8896340453717504 0.7546110665597434      3.40m\n",
      " 282   327.51 0.8612633029669133      279 0.8900749160423662 0.7686688311688311      3.21m\n",
      " 283   315.04 0.8612611714639902      311 0.8931843506252322 0.7283950617283951      3.03m\n",
      " 284   317.22 0.862754950301493      245 0.8928464732000287 0.7408026755852843      2.84m\n",
      " 285   322.35 0.8612845660755565      418 0.8911673063431143 0.7489711934156379      2.65m\n",
      " 286   320.86 0.8606859677134933      296 0.8904621041711603 0.7387152777777778      2.46m\n",
      " 287   323.06 0.8591915643236469      264 0.8894747241547853      0.748046875      2.28m\n",
      " 288   332.17 0.8582399755423455      433 0.8901742492562532 0.788888888888889      2.09m\n",
      " 289   323.51 0.8604680457139405      329 0.8952848153667826 0.7233360064153971      1.90m\n",
      " 290   325.04 0.8608721340021471      359 0.8941868433074462 0.7081038552321007      1.71m\n",
      " 291   317.57 0.8631625484796916      351 0.8912446916182347 0.7546439628482973      1.52m\n",
      " 292   322.62 0.8616496638884554      325 0.892717720835583 0.7269866247049568      1.33m\n",
      " 293   331.32 0.8606967945868477      461 0.8941979166666667 0.7315462315462314      1.14m\n",
      " 294    319.2 0.861846043424538      418 0.8938741013574849 0.7457430340557275     57.21s\n",
      " 295   332.58 0.8620353555205684      291 0.8899767432202333 0.7686860739575136     45.83s\n",
      " 296   328.64 0.8625693282550163      383 0.8978958333333333 0.7482517482517483     34.39s\n",
      " 297    340.0 0.8595659886422752      294 0.891124358337473 0.7574178027265437     22.93s\n",
      " 298    331.6 0.8603186748728353      625 0.8902364441127386 0.7480158730158729     11.47s\n",
      " 299   342.96 0.8623656418810809      240 0.8960061491477859 0.7061728395061728      0.00s\n"
     ]
    },
    {
     "data": {
      "text/plain": [
       "SymbolicRegressor(const_range=(-100, 100),\n",
       "         function_set=['add', 'sub', 'mul', 'div', 'sqrt', 'log', 'abs', 'neg', 'inv', 'max', 'min', 'sin', 'cos', 'tan'],\n",
       "         generations=300, init_depth=(2, 6), init_method='half and half',\n",
       "         max_samples=0.9,\n",
       "         metric=<gplearn.fitness._Fitness object at 0x1a3a6f5c50>,\n",
       "         n_jobs=3, p_crossover=0.9, p_hoist_mutation=0.01,\n",
       "         p_point_mutation=0.01, p_point_replace=0.05,\n",
       "         p_subtree_mutation=0.01, parsimony_coefficient=1e-05,\n",
       "         population_size=1000, random_state=1, stopping_criteria=1.0,\n",
       "         tournament_size=10, verbose=1, warm_start=False)"
      ]
     },
     "execution_count": 151,
     "metadata": {},
     "output_type": "execute_result"
    }
   ],
   "source": [
    "from gplearn.genetic import SymbolicRegressor\n",
    "\n",
    "gp = SymbolicRegressor(generations=300, \n",
    "                         population_size=1000,\n",
    "                         function_set=function_set,\n",
    "#                          metric='spearman',\n",
    "                         tournament_size=10,\n",
    "                       stopping_criteria=1.0,\n",
    "                       metric=roc_auc_fitness, \n",
    "                       const_range=(-100, 100), \n",
    "                         parsimony_coefficient=0.00001,\n",
    "#                          parsimony_coefficient=0.0005,\n",
    "#                          parsimony_coefficient='auto', #0.0005,\n",
    "                         max_samples=0.9, \n",
    "                        feature_names = data_gp.X.columns,\n",
    "                         verbose=1,\n",
    "                         random_state=1, \n",
    "                       n_jobs=3)\n",
    "\n",
    "gp.fit(data_gp.X_train, data_gp.y_train)"
   ]
  },
  {
   "cell_type": "code",
   "execution_count": 15,
   "metadata": {
    "ExecuteTime": {
     "end_time": "2019-03-03T18:30:18.735964Z",
     "start_time": "2019-03-03T18:30:18.518849Z"
    }
   },
   "outputs": [
    {
     "data": {
      "text/plain": [
       "0.8701581027667984"
      ]
     },
     "execution_count": 15,
     "metadata": {},
     "output_type": "execute_result"
    }
   ],
   "source": [
    "roc_auc_score(data_gp.y_test, Outputs(gp2.predict(data_gp.X_test)))"
   ]
  },
  {
   "cell_type": "code",
   "execution_count": 44,
   "metadata": {
    "ExecuteTime": {
     "end_time": "2019-03-03T19:20:25.542792Z",
     "start_time": "2019-03-03T19:20:25.488759Z"
    }
   },
   "outputs": [
    {
     "name": "stdout",
     "output_type": "stream",
     "text": [
      "log(add(add(sin(Fare), add(add(add(add(log(add(log(sin(Fare)), Pclass)), Pclass), add(Sex, add(add(Sex, Pclass), add(add(Sex, Pclass), add(add(add(Sex, Sex), add(log(log(sin(Fare))), Sex)), Sex))))), Sex), sqrt(add(add(log(log(add(add(add(Sex, Sex), add(log(log(sin(Fare))), Sex)), Sex))), Sex), add(add(add(Sex, Sex), add(log(log(sin(Fare))), Sex)), Sex))))), add(add(add(log(sin(Fare)), Pclass), add(add(add(sqrt(log(Sex)), Sex), log(sin(Fare))), add(add(add(Sex, Sex), add(Embarked, Sex)), Sex))), add(log(Sex), Sex))))\n"
     ]
    }
   ],
   "source": [
    "print(gp2._program)"
   ]
  },
  {
   "cell_type": "code",
   "execution_count": 25,
   "metadata": {
    "ExecuteTime": {
     "end_time": "2019-03-03T18:34:05.387150Z",
     "start_time": "2019-03-03T18:34:05.330674Z"
    }
   },
   "outputs": [
    {
     "data": {
      "text/html": [
       "[0.7606489403711991, 0.8046776232616941, 0.7910943046766475, 0.8134995723061769, 0.8219336888476698, 0.8213375377742741, 0.8176520825121536, 0.8186309289186703, 0.8152494405686457, 0.8231112862961503, 0.8271561221277934, 0.8316866619618913, 0.8384018264840183, 0.8341591353522542, 0.8255691952575805, 0.8299062751512318, 0.8403662008281574, 0.8360594023418231, 0.8396688864224936, 0.8336185336316968]"
      ],
      "text/plain": [
       "[0.7606489403711991,\n",
       " 0.8046776232616941,\n",
       " 0.7910943046766475,\n",
       " 0.8134995723061769,\n",
       " 0.8219336888476698,\n",
       " 0.8213375377742741,\n",
       " 0.8176520825121536,\n",
       " 0.8186309289186703,\n",
       " 0.8152494405686457,\n",
       " 0.8231112862961503,\n",
       " 0.8271561221277934,\n",
       " 0.8316866619618913,\n",
       " 0.8384018264840183,\n",
       " 0.8341591353522542,\n",
       " 0.8255691952575805,\n",
       " 0.8299062751512318,\n",
       " 0.8403662008281574,\n",
       " 0.8360594023418231,\n",
       " 0.8396688864224936,\n",
       " 0.8336185336316968]"
      ]
     },
     "execution_count": 25,
     "metadata": {},
     "output_type": "execute_result"
    }
   ],
   "source": [
    "gp2.run_details_['best_fitness']\n",
    "# gp2._programs[]"
   ]
  },
  {
   "cell_type": "code",
   "execution_count": 137,
   "metadata": {
    "ExecuteTime": {
     "end_time": "2019-03-03T20:27:27.091018Z",
     "start_time": "2019-03-03T20:27:27.002806Z"
    }
   },
   "outputs": [
    {
     "data": {
      "text/plain": [
       "0.8609328935899709"
      ]
     },
     "execution_count": 137,
     "metadata": {},
     "output_type": "execute_result"
    }
   ],
   "source": [
    "y_preds = [p.execute(data_gp.X_test.values) for p in gp2.run_details_['best_program'][-20:]]\n",
    "y_preds = [Outputs(y_pred) for y_pred in y_preds]\n",
    "y_pred = np.array(y_preds).mean(axis=0)\n",
    "accuracy_score(data_gp.y_test, np.zeros_like(y_pred))\n",
    "accuracy_score(data_gp.y_test, np.round(y_pred))\n",
    "average_precision_score(data_gp.y_test, y_pred)\n",
    "# roc_auc_score(data_gp.y_test, np.zeros(y_pred.shape[0])+0.5)"
   ]
  },
  {
   "cell_type": "code",
   "execution_count": 148,
   "metadata": {
    "ExecuteTime": {
     "end_time": "2019-03-03T20:36:02.467483Z",
     "start_time": "2019-03-03T20:36:02.412703Z"
    }
   },
   "outputs": [
    {
     "data": {
      "text/plain": [
       "0.8975625823451912"
      ]
     },
     "execution_count": 148,
     "metadata": {},
     "output_type": "execute_result"
    }
   ],
   "source": [
    "y_preds = [p.execute(data_gp.X_test.values) for p in gp2.run_details_['best_program'][-20:]]\n",
    "y_preds = [Outputs(y_pred) for y_pred in y_preds]\n",
    "y_pred = np.array(y_preds).mean(axis=0)\n",
    "roc_auc_score(data_gp.y_test, y_pred)"
   ]
  },
  {
   "cell_type": "code",
   "execution_count": 147,
   "metadata": {
    "ExecuteTime": {
     "end_time": "2019-03-03T20:35:42.759562Z",
     "start_time": "2019-03-03T20:35:42.699599Z"
    }
   },
   "outputs": [
    {
     "data": {
      "text/plain": [
       "0.8970355731225297"
      ]
     },
     "execution_count": 147,
     "metadata": {},
     "output_type": "execute_result"
    }
   ],
   "source": [
    "y_preds = [p.execute(data_gp.X_test.values) for p in gp2.run_details_['best_program'][-20:]]\n",
    "y_pred = np.array(y_preds).mean(axis=0)\n",
    "y_pred = Outputs(y_pred)\n",
    "roc_auc_score(data_gp.y_test, y_pred)"
   ]
  },
  {
   "cell_type": "code",
   "execution_count": 209,
   "metadata": {
    "ExecuteTime": {
     "end_time": "2019-03-03T20:57:38.485328Z",
     "start_time": "2019-03-03T20:57:38.405526Z"
    }
   },
   "outputs": [
    {
     "data": {
      "text/plain": [
       "0.5333760241344012"
      ]
     },
     "execution_count": 209,
     "metadata": {},
     "output_type": "execute_result"
    }
   ],
   "source": [
    "import numpy as np\n",
    "\n",
    "\n",
    "# Definition : we predict True if y_score > threshold\n",
    "def ROC_curve_data(y_true, y_score):\n",
    "    y_true  = np.asarray(y_true,  dtype=np.bool_)\n",
    "    y_score = np.asarray(y_score, dtype=np.float_)\n",
    "    assert(y_score.size == y_true.size)\n",
    "\n",
    "    order = np.argsort(y_score) # Just ordering stuffs\n",
    "    y_true  = y_true[order]\n",
    "    # The thresholds to consider are just the values of score, and 0 (accept everything)\n",
    "    thresholds = np.insert(y_score[order],0,0)\n",
    "    TP = [sum(y_true)] # Number of True Positives (For Threshold = 0 => We accept everything => TP[0] = # of postive in true y)\n",
    "    FP = [sum(~y_true)] # Number of True Positives (For Threshold = 0 => We accept everything => TP[0] = # of postive in true y)\n",
    "    TN = [0] # Number of True Negatives (For Threshold = 0 => We accept everything => we don't have negatives !)\n",
    "    FN = [0] # Number of True Negatives (For Threshold = 0 => We accept everything => we don't have negatives !)\n",
    "\n",
    "    for i in range(1, thresholds.size) : # \"-1\" because the last threshold\n",
    "        # At this step, we stop predicting y_score[i-1] as True, but as False.... what y_true value say about it ?\n",
    "        # if y_true was True, that step was a mistake !\n",
    "        TP.append(TP[-1] - int(y_true[i-1]))\n",
    "        FN.append(FN[-1] + int(y_true[i-1]))\n",
    "        # if y_true was False, that step was good !\n",
    "        FP.append(FP[-1] - int(~y_true[i-1]))\n",
    "        TN.append(TN[-1] + int(~y_true[i-1]))\n",
    "\n",
    "    TP = np.asarray(TP, dtype=np.int_)\n",
    "    FP = np.asarray(FP, dtype=np.int_)\n",
    "    TN = np.asarray(TN, dtype=np.int_)\n",
    "    FN = np.asarray(FN, dtype=np.int_)\n",
    "\n",
    "    accuracy    = (TP + TN) / (TP + FP + TN + FN)\n",
    "    sensitivity = TP / (TP + FN)\n",
    "    specificity = TN / (FP + TN)\n",
    "    return((thresholds, TP, FP, TN, FN))\n",
    "\n",
    "def max_accuracy(thresholds, TP, FP, TN, FN) :\n",
    "    accuracy    = (TP + TN) / (TP + FP + TN + FN)\n",
    "    return(max(accuracy))\n",
    "\n",
    "def max_min_sensitivity_specificity(thresholds, TP, FP, TN, FN) :\n",
    "    sensitivity = TP / (TP + FN)\n",
    "    specificity = TN / (FP + TN)\n",
    "    return(max(np.minimum(sensitivity, specificity)))\n",
    "\n",
    "y_preds = [p.execute(data_gp.X.values) for p in gp2.run_details_['best_program'][-20:]]\n",
    "y_preds = [Outputs(y_pred) for y_pred in y_preds]\n",
    "y_pred = np.array(y_preds).mean(axis=0)\n",
    "\n",
    "thresholds, TP, FP, TN, FN = ROC_curve_data(data_gp.y, y_pred)\n",
    "\n",
    "ratio = data_gp.y.mean()\n",
    "pred_thresh = np.quantile(thresholds, 1-ratio)\n",
    "\n",
    "accuracy    = (TP + TN) / (TP + FP + TN + FN)\n",
    "pred_thresh = thresholds[np.argmax(accuracy)]\n",
    "\n",
    "pred_thresh\n",
    "\n"
   ]
  },
  {
   "cell_type": "code",
   "execution_count": 214,
   "metadata": {
    "ExecuteTime": {
     "end_time": "2019-03-03T20:59:29.680502Z",
     "start_time": "2019-03-03T20:59:29.621614Z"
    }
   },
   "outputs": [],
   "source": [
    "y_preds = [p.execute(data_gp.X_score.values) for p in gp2.run_details_['best_program'][-20:]]\n",
    "y_preds = [Outputs(y_pred) for y_pred in y_preds]\n",
    "y_pred = np.array(y_preds).mean(axis=0)\n",
    "# accuracy_score(data_gp.y_test, np.zeros_like(y_pred))\n",
    "# accuracy_score(data_gp.y_test, np.round(y_pred))\n",
    "y_pred_bin = (y_pred >= pred_thresh) * 1\n",
    "# average_precision_score(data_gp.y_test, y_pred_bin)\n",
    "# accuracy_score(data_gp.y_test, y_pred_bin)\n",
    "# roc_auc_score(data_gp.y_test, np.zeros(y_pred.shape[0])+0.5)"
   ]
  },
  {
   "cell_type": "code",
   "execution_count": 217,
   "metadata": {
    "ExecuteTime": {
     "end_time": "2019-03-03T21:00:09.278830Z",
     "start_time": "2019-03-03T21:00:09.114471Z"
    }
   },
   "outputs": [],
   "source": [
    "y_pred_bin = y_pred_bin.astype(int)\n",
    "# save submission using samples Ids\n",
    "index = pd.read_csv('input/gender_submission.csv')[\"PassengerId\"]\n",
    "df_score = pd.DataFrame({\"PassengerId\": index, \"Survived\": y_pred_bin})\n",
    "df_score.to_csv('input/submission.csv', index=False)"
   ]
  },
  {
   "cell_type": "code",
   "execution_count": 202,
   "metadata": {
    "ExecuteTime": {
     "end_time": "2019-03-03T20:55:25.754770Z",
     "start_time": "2019-03-03T20:55:25.691688Z"
    }
   },
   "outputs": [
    {
     "data": {
      "text/plain": [
       "0.8379888268156425"
      ]
     },
     "execution_count": 202,
     "metadata": {},
     "output_type": "execute_result"
    }
   ],
   "source": [
    "y_preds = [p.execute(data_gp.X_test.values) for p in gp2.run_details_['best_program'][-20:]]\n",
    "y_preds = [Outputs(y_pred) for y_pred in y_preds]\n",
    "y_pred = np.array(y_preds).mean(axis=0)\n",
    "# accuracy_score(data_gp.y_test, np.zeros_like(y_pred))\n",
    "# accuracy_score(data_gp.y_test, np.round(y_pred))\n",
    "y_pred_bin = (y_pred >= pred_thresh) * 1\n",
    "average_precision_score(data_gp.y_test, y_pred_bin)\n",
    "accuracy_score(data_gp.y_test, y_pred_bin)\n",
    "# roc_auc_score(data_gp.y_test, np.zeros(y_pred.shape[0])+0.5)"
   ]
  },
  {
   "cell_type": "code",
   "execution_count": 213,
   "metadata": {
    "ExecuteTime": {
     "end_time": "2019-03-03T20:58:26.839407Z",
     "start_time": "2019-03-03T20:58:26.435437Z"
    }
   },
   "outputs": [
    {
     "data": {
      "text/html": [
       "[<matplotlib.lines.Line2D object at 0x1a519c0048>]"
      ],
      "text/plain": [
       "[<matplotlib.lines.Line2D at 0x1a519c0048>]"
      ]
     },
     "execution_count": 213,
     "metadata": {},
     "output_type": "execute_result"
    },
    {
     "data": {
      "image/png": "[encoded data removed]",
      "text/plain": [
       "<Figure size 432x288 with 1 Axes>"
      ]
     },
     "metadata": {
      "needs_background": "light"
     },
     "output_type": "display_data"
    }
   ],
   "source": [
    "res = []\n",
    "for yp in sorted(y_pred):\n",
    "    y_pred_bin = (y_pred >= yp) * 1\n",
    "    res.append(accuracy_score(data_gp.y, y_pred_bin))\n",
    "plt.plot(sorted(y_pred), res)"
   ]
  },
  {
   "cell_type": "code",
   "execution_count": 59,
   "metadata": {
    "ExecuteTime": {
     "end_time": "2019-03-03T19:26:14.471391Z",
     "start_time": "2019-03-03T19:26:13.769653Z"
    },
    "scrolled": true
   },
   "outputs": [
    {
     "data": {
      "text/plain": [
       "<matplotlib.legend.Legend at 0x1a472ff1d0>"
      ]
     },
     "execution_count": 59,
     "metadata": {},
     "output_type": "execute_result"
    },
    {
     "data": {
      "image/png": "[encoded data removed]",
      "text/plain": [
       "<Figure size 432x288 with 1 Axes>"
      ]
     },
     "metadata": {
      "needs_background": "light"
     },
     "output_type": "display_data"
    }
   ],
   "source": [
    "y_preds = [p.execute(data_gp.X_test.values) for p in gp2.run_details_['best_program']]\n",
    "y_preds = [Outputs(y_pred) for y_pred in y_preds]\n",
    "scores = [roc_auc_score(data_gp.y_test, y_pred) for y_pred in y_preds]\n",
    "\n",
    "plt.plot(scores, label=\"X_test\")\n",
    "plt.plot(gp2.run_details_['best_oob_fitness'], label=\"oob\")\n",
    "plt.legend()"
   ]
  },
  {
   "cell_type": "code",
   "execution_count": 53,
   "metadata": {
    "ExecuteTime": {
     "end_time": "2019-03-03T18:42:02.148945Z",
     "start_time": "2019-03-03T18:42:01.918363Z"
    }
   },
   "outputs": [
    {
     "data": {
      "text/html": [
       "[<matplotlib.lines.Line2D object at 0x1a34c5c0b8>]"
      ],
      "text/plain": [
       "[<matplotlib.lines.Line2D at 0x1a34c5c0b8>]"
      ]
     },
     "execution_count": 53,
     "metadata": {},
     "output_type": "execute_result"
    },
    {
     "data": {
      "image/png": "[encoded data removed]",
      "text/plain": [
       "<Figure size 432x288 with 1 Axes>"
      ]
     },
     "metadata": {
      "needs_background": "light"
     },
     "output_type": "display_data"
    }
   ],
   "source": []
  },
  {
   "cell_type": "code",
   "execution_count": 171,
   "metadata": {
    "ExecuteTime": {
     "end_time": "2019-03-03T16:34:11.304202Z",
     "start_time": "2019-03-03T16:34:04.661257Z"
    }
   },
   "outputs": [
    {
     "name": "stdout",
     "output_type": "stream",
     "text": [
      "    |    Population Average   |             Best Individual              |\n",
      "---- ------------------------- ------------------------------------------ ----------\n",
      " Gen   Length          Fitness   Length          Fitness      OOB Fitness  Time Left\n",
      "   0    10.05 0.49704558749609784        7 0.7999979201114822      0.751953125      8.37s\n",
      "   1    10.79 0.5362179503417571        8 0.7999384615384615 0.8700088731144632      4.53s\n",
      "   2    10.28 0.5577054359702336        5 0.8128349452166972 0.8484126984126985      2.77s\n",
      "   3     9.89 0.5924578850981147       10 0.8238460041581745 0.7968181818181818      1.35s\n",
      "   4     8.83 0.6195839897388035        5 0.8276143112255493 0.7812745869394178      0.00s\n"
     ]
    },
    {
     "data": {
      "text/plain": [
       "SymbolicTransformer(const_range=(-100, 100),\n",
       "          function_set=['add', 'sub', 'mul', 'div', 'sqrt', 'log', 'abs', 'neg', 'inv', 'max', 'min', 'sin', 'cos', 'tan'],\n",
       "          generations=5, hall_of_fame=100, init_depth=(2, 6),\n",
       "          init_method='half and half', max_samples=0.9,\n",
       "          metric=<gplearn.fitness._Fitness object at 0x1a3a6f5c50>,\n",
       "          n_components=10, n_jobs=3, p_crossover=0.9,\n",
       "          p_hoist_mutation=0.01, p_point_mutation=0.01,\n",
       "          p_point_replace=0.05, p_subtree_mutation=0.01,\n",
       "          parsimony_coefficient='auto', population_size=500,\n",
       "          random_state=1, stopping_criteria=1.0, tournament_size=3,\n",
       "          verbose=1, warm_start=False)"
      ]
     },
     "execution_count": 171,
     "metadata": {},
     "output_type": "execute_result"
    }
   ],
   "source": [
    "from gplearn.genetic import SymbolicTransformer\n",
    "\n",
    "gp = SymbolicTransformer(generations=5, \n",
    "                         population_size=500,\n",
    "                         hall_of_fame=100, \n",
    "                         n_components=10,\n",
    "                         function_set=function_set, \n",
    "                         const_range=(-100, 100),\n",
    "#                          metric='spearman',\n",
    "                         tournament_size=3,\n",
    "#                          parsimony_coefficient=0.0001,\n",
    "                         parsimony_coefficient='auto', #0.0005,\n",
    "                         max_samples=0.9, \n",
    "                         metric=roc_auc_fitness,\n",
    "                         stopping_criteria=1.0,\n",
    "                         verbose=1,\n",
    "                         random_state=1, \n",
    "                         n_jobs=3)\n",
    "gp.fit(data_gp.X_train, data_gp.y_train)"
   ]
  },
  {
   "cell_type": "code",
   "execution_count": 186,
   "metadata": {
    "ExecuteTime": {
     "end_time": "2019-03-03T16:38:03.032985Z",
     "start_time": "2019-03-03T16:38:02.964884Z"
    }
   },
   "outputs": [
    {
     "ename": "AttributeError",
     "evalue": "'SymbolicRegressor' object has no attribute 'run_details_'",
     "output_type": "error",
     "traceback": [
      "\u001b[0;31m---------------------------------------------------------------------------\u001b[0m",
      "\u001b[0;31mAttributeError\u001b[0m                            Traceback (most recent call last)",
      "\u001b[0;32m<ipython-input-186-20bed4a5508b>\u001b[0m in \u001b[0;36m<module>\u001b[0;34m\u001b[0m\n\u001b[1;32m      1\u001b[0m \u001b[0;31m# print(gp._programs[5][0])\u001b[0m\u001b[0;34m\u001b[0m\u001b[0;34m\u001b[0m\u001b[0;34m\u001b[0m\u001b[0m\n\u001b[0;32m----> 2\u001b[0;31m \u001b[0mgp2\u001b[0m\u001b[0;34m.\u001b[0m\u001b[0mrun_details_\u001b[0m\u001b[0;34m\u001b[0m\u001b[0;34m\u001b[0m\u001b[0m\n\u001b[0m",
      "\u001b[0;31mAttributeError\u001b[0m: 'SymbolicRegressor' object has no attribute 'run_details_'"
     ]
    }
   ],
   "source": [
    "# print(gp._programs[5][0])\n",
    "gp2.run_details_"
   ]
  },
  {
   "cell_type": "code",
   "execution_count": 133,
   "metadata": {
    "ExecuteTime": {
     "end_time": "2019-03-03T13:47:45.356101Z",
     "start_time": "2019-03-03T13:47:45.300363Z"
    }
   },
   "outputs": [
    {
     "name": "stdout",
     "output_type": "stream",
     "text": [
      "add(X6, div(add(X6, X5), X3))\n",
      "0.8335580500857059\n",
      "add(X6, add(X6, div(X5, X3)))\n",
      "0.8318745979690185\n",
      "add(X6, add(X6, add(X6, add(X6, X5))))\n",
      "0.8315615402787621\n",
      "add(X6, add(X6, X5))\n",
      "0.8313669481702267\n",
      "add(X6, add(X6, add(X6, X5)))\n",
      "0.8293902238314681\n",
      "add(X6, div(X2, X3))\n",
      "0.8285573323567709\n",
      "add(add(X6, add(X6, X5)), log(X5))\n",
      "0.8260780118499013\n",
      "add(X6, log(add(X6, div(X5, X3))))\n",
      "0.824051914580265\n",
      "add(X6, log(add(X6, X5)))\n",
      "0.8215879727507635\n",
      "add(add(X6, div(X5, X3)), div(X5, X3))\n",
      "0.8214852671575908\n"
     ]
    }
   ],
   "source": [
    "for program in gp:\n",
    "    print(program)\n",
    "    print(program.raw_fitness_)\n"
   ]
  },
  {
   "cell_type": "code",
   "execution_count": 110,
   "metadata": {
    "ExecuteTime": {
     "end_time": "2019-03-03T13:31:15.882140Z",
     "start_time": "2019-03-03T13:31:15.814316Z"
    }
   },
   "outputs": [],
   "source": [
    "gp_features = pd.DataFrame(gp.transform(data_gp.X), index=data.X.index)\n",
    "new_X = pd.concat([data_gp.X, gp_features], axis=1)\n",
    "new_X.columns = list(map(str, new_X.columns))\n",
    "\n",
    "gp_features = pd.DataFrame(gp.transform(data_gp.X_score), index=data.X_score.index)\n",
    "new_X_score = pd.concat([data_gp.X_score, gp_features], axis=1)\n",
    "new_X_score.columns = list(map(str, new_X_score.columns))\n",
    "\n",
    "data_new = scil.Data(new_X, data_gp.y)\n",
    "data_new.X_score = new_X_score"
   ]
  },
  {
   "cell_type": "code",
   "execution_count": 111,
   "metadata": {
    "ExecuteTime": {
     "end_time": "2019-03-03T13:31:16.521749Z",
     "start_time": "2019-03-03T13:31:16.333684Z"
    },
    "scrolled": true
   },
   "outputs": [
    {
     "data": {
      "text/html": [
       "<div>\n",
       "<style scoped>\n",
       "    .dataframe tbody tr th:only-of-type {\n",
       "        vertical-align: middle;\n",
       "    }\n",
       "\n",
       "    .dataframe tbody tr th {\n",
       "        vertical-align: top;\n",
       "    }\n",
       "\n",
       "    .dataframe thead th {\n",
       "        text-align: right;\n",
       "    }\n",
       "</style>\n",
       "<table border=\"1\" class=\"dataframe\">\n",
       "  <thead>\n",
       "    <tr style=\"text-align: right;\">\n",
       "      <th></th>\n",
       "      <th>count</th>\n",
       "      <th>missing</th>\n",
       "      <th>percent</th>\n",
       "      <th>dtype</th>\n",
       "      <th>types</th>\n",
       "      <th>uniq</th>\n",
       "      <th>values</th>\n",
       "      <th>freq</th>\n",
       "    </tr>\n",
       "  </thead>\n",
       "  <tbody>\n",
       "    <tr>\n",
       "      <th>Age</th>\n",
       "      <td>891</td>\n",
       "      <td>0</td>\n",
       "      <td>0.0000</td>\n",
       "      <td>float64</td>\n",
       "      <td>float</td>\n",
       "      <td>89</td>\n",
       "      <td>-1.0, 0.42, 0.67, 0.75, 0.83, 0.92, 1.0, ...</td>\n",
       "      <td>'-1.0':177, '24.0':30, '22.0':27, '18.0':2...</td>\n",
       "    </tr>\n",
       "    <tr>\n",
       "      <th>Cabin</th>\n",
       "      <td>891</td>\n",
       "      <td>0</td>\n",
       "      <td>0.0000</td>\n",
       "      <td>float64</td>\n",
       "      <td>float</td>\n",
       "      <td>9</td>\n",
       "      <td>0.0, 1.0, 2.0, 3.0, 4.0, 5.0, 6.0, 7.0, ...</td>\n",
       "      <td>'0.0':687, '3.0':59, '2.0':47, '5.0':33, '4...</td>\n",
       "    </tr>\n",
       "    <tr>\n",
       "      <th>8</th>\n",
       "      <td>891</td>\n",
       "      <td>0</td>\n",
       "      <td>0.0000</td>\n",
       "      <td>float64</td>\n",
       "      <td>float</td>\n",
       "      <td>369</td>\n",
       "      <td>0.2282049114186687, 1.1602829343291396, ...</td>\n",
       "      <td>'4.6498978251':41, '4.6678491154':32, '3....</td>\n",
       "    </tr>\n",
       "    <tr>\n",
       "      <th>7</th>\n",
       "      <td>891</td>\n",
       "      <td>0</td>\n",
       "      <td>0.0000</td>\n",
       "      <td>float64</td>\n",
       "      <td>float</td>\n",
       "      <td>367</td>\n",
       "      <td>2.16028293432914, 2.179463811342123, ...</td>\n",
       "      <td>'39.3905972401':41, '39.6453162458':32, '...</td>\n",
       "    </tr>\n",
       "    <tr>\n",
       "      <th>6</th>\n",
       "      <td>891</td>\n",
       "      <td>0</td>\n",
       "      <td>0.0000</td>\n",
       "      <td>float64</td>\n",
       "      <td>float</td>\n",
       "      <td>226</td>\n",
       "      <td>1.4142135623730951, 1.6817928305074292, ...</td>\n",
       "      <td>'1.8612097182':144, '1.4142135624':94, '1...</td>\n",
       "    </tr>\n",
       "    <tr>\n",
       "      <th>5</th>\n",
       "      <td>891</td>\n",
       "      <td>0</td>\n",
       "      <td>0.0000</td>\n",
       "      <td>float64</td>\n",
       "      <td>float</td>\n",
       "      <td>19</td>\n",
       "      <td>3.250091011337539, 4.250091011337539, ...</td>\n",
       "      <td>'16.7320508076':265, '13.7320508076':97, ...</td>\n",
       "    </tr>\n",
       "    <tr>\n",
       "      <th>4</th>\n",
       "      <td>891</td>\n",
       "      <td>0</td>\n",
       "      <td>0.0000</td>\n",
       "      <td>float64</td>\n",
       "      <td>float</td>\n",
       "      <td>365</td>\n",
       "      <td>0.16028293432913965, 0.17946381134212294, ...</td>\n",
       "      <td>'4.8655619875':41, '4.9017441359':32, '3....</td>\n",
       "    </tr>\n",
       "    <tr>\n",
       "      <th>3</th>\n",
       "      <td>891</td>\n",
       "      <td>0</td>\n",
       "      <td>0.0000</td>\n",
       "      <td>float64</td>\n",
       "      <td>float</td>\n",
       "      <td>212</td>\n",
       "      <td>0.0, 0.6931471805599453, ...</td>\n",
       "      <td>'1.0986122887':144, '0.0':94, '0.69314718...</td>\n",
       "    </tr>\n",
       "    <tr>\n",
       "      <th>2</th>\n",
       "      <td>891</td>\n",
       "      <td>0</td>\n",
       "      <td>0.0000</td>\n",
       "      <td>float64</td>\n",
       "      <td>float</td>\n",
       "      <td>337</td>\n",
       "      <td>1.0, 1.6411317373165586, ...</td>\n",
       "      <td>'1.0':81, '51.9336989056':40, '52.4974358...</td>\n",
       "    </tr>\n",
       "    <tr>\n",
       "      <th>1</th>\n",
       "      <td>891</td>\n",
       "      <td>0</td>\n",
       "      <td>0.0000</td>\n",
       "      <td>float64</td>\n",
       "      <td>float</td>\n",
       "      <td>307</td>\n",
       "      <td>0.0, 0.2682691245498961, ...</td>\n",
       "      <td>'0.0':94, '10.256234426':41, '10.31627742...</td>\n",
       "    </tr>\n",
       "    <tr>\n",
       "      <th>0</th>\n",
       "      <td>891</td>\n",
       "      <td>0</td>\n",
       "      <td>0.0000</td>\n",
       "      <td>float64</td>\n",
       "      <td>float</td>\n",
       "      <td>312</td>\n",
       "      <td>3.0, 4.0, 4.414213562373095, ...</td>\n",
       "      <td>'4.7320508076':48, '4.0':43, '22.61553517...</td>\n",
       "    </tr>\n",
       "    <tr>\n",
       "      <th>SibSp</th>\n",
       "      <td>891</td>\n",
       "      <td>0</td>\n",
       "      <td>0.0000</td>\n",
       "      <td>float64</td>\n",
       "      <td>float</td>\n",
       "      <td>7</td>\n",
       "      <td>0.0, 1.0, 2.0, 3.0, 4.0, 5.0, 8.0</td>\n",
       "      <td>'0.0':608, '1.0':209, '2.0':28, '4.0':18, '...</td>\n",
       "    </tr>\n",
       "    <tr>\n",
       "      <th>Sex</th>\n",
       "      <td>891</td>\n",
       "      <td>0</td>\n",
       "      <td>0.0000</td>\n",
       "      <td>float64</td>\n",
       "      <td>float</td>\n",
       "      <td>2</td>\n",
       "      <td>0.0, 1.0</td>\n",
       "      <td>'1.0':577, '0.0':314...</td>\n",
       "    </tr>\n",
       "    <tr>\n",
       "      <th>Pclass</th>\n",
       "      <td>891</td>\n",
       "      <td>0</td>\n",
       "      <td>0.0000</td>\n",
       "      <td>float64</td>\n",
       "      <td>float</td>\n",
       "      <td>3</td>\n",
       "      <td>1.0, 2.0, 3.0</td>\n",
       "      <td>'3.0':491, '1.0':216, '2.0':184...</td>\n",
       "    </tr>\n",
       "    <tr>\n",
       "      <th>Parch</th>\n",
       "      <td>891</td>\n",
       "      <td>0</td>\n",
       "      <td>0.0000</td>\n",
       "      <td>float64</td>\n",
       "      <td>float</td>\n",
       "      <td>7</td>\n",
       "      <td>0.0, 1.0, 2.0, 3.0, 4.0, 5.0, 6.0</td>\n",
       "      <td>'0.0':678, '1.0':118, '2.0':80, '5.0':5, '3...</td>\n",
       "    </tr>\n",
       "    <tr>\n",
       "      <th>Fare</th>\n",
       "      <td>891</td>\n",
       "      <td>0</td>\n",
       "      <td>0.0000</td>\n",
       "      <td>float64</td>\n",
       "      <td>float</td>\n",
       "      <td>248</td>\n",
       "      <td>0.0, 4.0125, 5.0, 6.2375, 6.4375, 6.45, ...</td>\n",
       "      <td>'8.05':43, '13.0':42, '7.8958':38, '7.75':...</td>\n",
       "    </tr>\n",
       "    <tr>\n",
       "      <th>Embarked</th>\n",
       "      <td>891</td>\n",
       "      <td>0</td>\n",
       "      <td>0.0000</td>\n",
       "      <td>float64</td>\n",
       "      <td>float</td>\n",
       "      <td>4</td>\n",
       "      <td>0.0, 1.0, 2.0, 3.0</td>\n",
       "      <td>'3.0':644, '1.0':168, '2.0':77, '0.0':2...</td>\n",
       "    </tr>\n",
       "    <tr>\n",
       "      <th>9</th>\n",
       "      <td>891</td>\n",
       "      <td>0</td>\n",
       "      <td>0.0000</td>\n",
       "      <td>float64</td>\n",
       "      <td>float</td>\n",
       "      <td>217</td>\n",
       "      <td>-1.0, 0.0, 0.41421356237309515, ...</td>\n",
       "      <td>'2.1961524227':88, '0.0':73, '1.464101615...</td>\n",
       "    </tr>\n",
       "  </tbody>\n",
       "</table>\n",
       "</div>"
      ],
      "text/plain": [
       "          count  missing  percent    dtype  types  uniq  \\\n",
       "Age         891        0   0.0000  float64  float    89   \n",
       "Cabin       891        0   0.0000  float64  float     9   \n",
       "8           891        0   0.0000  float64  float   369   \n",
       "7           891        0   0.0000  float64  float   367   \n",
       "6           891        0   0.0000  float64  float   226   \n",
       "5           891        0   0.0000  float64  float    19   \n",
       "4           891        0   0.0000  float64  float   365   \n",
       "3           891        0   0.0000  float64  float   212   \n",
       "2           891        0   0.0000  float64  float   337   \n",
       "1           891        0   0.0000  float64  float   307   \n",
       "0           891        0   0.0000  float64  float   312   \n",
       "SibSp       891        0   0.0000  float64  float     7   \n",
       "Sex         891        0   0.0000  float64  float     2   \n",
       "Pclass      891        0   0.0000  float64  float     3   \n",
       "Parch       891        0   0.0000  float64  float     7   \n",
       "Fare        891        0   0.0000  float64  float   248   \n",
       "Embarked    891        0   0.0000  float64  float     4   \n",
       "9           891        0   0.0000  float64  float   217   \n",
       "\n",
       "                                                 values  \\\n",
       "Age        -1.0, 0.42, 0.67, 0.75, 0.83, 0.92, 1.0, ...   \n",
       "Cabin       0.0, 1.0, 2.0, 3.0, 4.0, 5.0, 6.0, 7.0, ...   \n",
       "8           0.2282049114186687, 1.1602829343291396, ...   \n",
       "7              2.16028293432914, 2.179463811342123, ...   \n",
       "6           1.4142135623730951, 1.6817928305074292, ...   \n",
       "5             3.250091011337539, 4.250091011337539, ...   \n",
       "4         0.16028293432913965, 0.17946381134212294, ...   \n",
       "3                          0.0, 0.6931471805599453, ...   \n",
       "2                          1.0, 1.6411317373165586, ...   \n",
       "1                          0.0, 0.2682691245498961, ...   \n",
       "0                      3.0, 4.0, 4.414213562373095, ...   \n",
       "SibSp                 0.0, 1.0, 2.0, 3.0, 4.0, 5.0, 8.0   \n",
       "Sex                                            0.0, 1.0   \n",
       "Pclass                                    1.0, 2.0, 3.0   \n",
       "Parch                 0.0, 1.0, 2.0, 3.0, 4.0, 5.0, 6.0   \n",
       "Fare        0.0, 4.0125, 5.0, 6.2375, 6.4375, 6.45, ...   \n",
       "Embarked                             0.0, 1.0, 2.0, 3.0   \n",
       "9                   -1.0, 0.0, 0.41421356237309515, ...   \n",
       "\n",
       "                                                    freq  \n",
       "Age        '-1.0':177, '24.0':30, '22.0':27, '18.0':2...  \n",
       "Cabin     '0.0':687, '3.0':59, '2.0':47, '5.0':33, '4...  \n",
       "8           '4.6498978251':41, '4.6678491154':32, '3....  \n",
       "7           '39.3905972401':41, '39.6453162458':32, '...  \n",
       "6           '1.8612097182':144, '1.4142135624':94, '1...  \n",
       "5           '16.7320508076':265, '13.7320508076':97, ...  \n",
       "4           '4.8655619875':41, '4.9017441359':32, '3....  \n",
       "3           '1.0986122887':144, '0.0':94, '0.69314718...  \n",
       "2           '1.0':81, '51.9336989056':40, '52.4974358...  \n",
       "1           '0.0':94, '10.256234426':41, '10.31627742...  \n",
       "0           '4.7320508076':48, '4.0':43, '22.61553517...  \n",
       "SibSp     '0.0':608, '1.0':209, '2.0':28, '4.0':18, '...  \n",
       "Sex                              '1.0':577, '0.0':314...  \n",
       "Pclass                '3.0':491, '1.0':216, '2.0':184...  \n",
       "Parch     '0.0':678, '1.0':118, '2.0':80, '5.0':5, '3...  \n",
       "Fare       '8.05':43, '13.0':42, '7.8958':38, '7.75':...  \n",
       "Embarked      '3.0':644, '1.0':168, '2.0':77, '0.0':2...  \n",
       "9           '2.1961524227':88, '0.0':73, '1.464101615...  "
      ]
     },
     "execution_count": 111,
     "metadata": {},
     "output_type": "execute_result"
    }
   ],
   "source": [
    "scif.df_summary(new_X)"
   ]
  },
  {
   "cell_type": "code",
   "execution_count": 118,
   "metadata": {
    "ExecuteTime": {
     "end_time": "2019-03-03T13:32:06.143149Z",
     "start_time": "2019-03-03T13:32:04.926821Z"
    }
   },
   "outputs": [
    {
     "name": "stdout",
     "output_type": "stream",
     "text": [
      "CV for XGBClassifier ..\n"
     ]
    },
    {
     "data": {
      "text/html": [
       "<div>\n",
       "<style scoped>\n",
       "    .dataframe tbody tr th:only-of-type {\n",
       "        vertical-align: middle;\n",
       "    }\n",
       "\n",
       "    .dataframe tbody tr th {\n",
       "        vertical-align: top;\n",
       "    }\n",
       "\n",
       "    .dataframe thead th {\n",
       "        text-align: right;\n",
       "    }\n",
       "</style>\n",
       "<table border=\"1\" class=\"dataframe\">\n",
       "  <thead>\n",
       "    <tr style=\"text-align: right;\">\n",
       "      <th></th>\n",
       "      <th>mean</th>\n",
       "      <th>std</th>\n",
       "    </tr>\n",
       "  </thead>\n",
       "  <tbody>\n",
       "    <tr>\n",
       "      <th>XGBClassifier</th>\n",
       "      <td>0.8115</td>\n",
       "      <td>0.0175</td>\n",
       "    </tr>\n",
       "  </tbody>\n",
       "</table>\n",
       "</div>"
      ],
      "text/plain": [
       "                mean    std\n",
       "XGBClassifier 0.8115 0.0175"
      ]
     },
     "metadata": {},
     "output_type": "display_data"
    },
    {
     "name": "stderr",
     "output_type": "stream",
     "text": [
      "Can't plot with only a single or no samples\n"
     ]
    }
   ],
   "source": [
    "import xgboost\n",
    "\n",
    "model = xgboost.XGBClassifier()\n",
    "scil.score_cv(data_new, model, scoring='accuracy')"
   ]
  },
  {
   "cell_type": "code",
   "execution_count": 113,
   "metadata": {
    "ExecuteTime": {
     "end_time": "2019-03-03T13:31:18.023831Z",
     "start_time": "2019-03-03T13:31:17.899336Z"
    }
   },
   "outputs": [
    {
     "name": "stdout",
     "output_type": "stream",
     "text": [
      "fitting XGBClassifier ..\n"
     ]
    }
   ],
   "source": [
    "scil.fit(data_new, model)"
   ]
  },
  {
   "cell_type": "code",
   "execution_count": 116,
   "metadata": {
    "ExecuteTime": {
     "end_time": "2019-03-03T13:31:32.363636Z",
     "start_time": "2019-03-03T13:31:31.626641Z"
    }
   },
   "outputs": [
    {
     "name": "stdout",
     "output_type": "stream",
     "text": [
      "inverse_shuffle base_score: 0.5521 +/- 0.0035\n"
     ]
    },
    {
     "data": {
      "text/plain": [
       "0          98.6835\n",
       "Cabin       7.8442\n",
       "1           7.7345\n",
       "2           6.5826\n",
       "6           5.0466\n",
       "Age         2.9073\n",
       "8           2.0296\n",
       "SibSp       1.4262\n",
       "9           1.1519\n",
       "3          -0.5485\n",
       "Sex        -0.9874\n",
       "Fare       -2.0296\n",
       "5          -3.2913\n",
       "7          -3.7850\n",
       "Embarked   -4.7175\n",
       "Parch      -4.8272\n",
       "4          -5.5403\n",
       "Pclass     -7.6796\n",
       "dtype: float64"
      ]
     },
     "execution_count": 116,
     "metadata": {},
     "output_type": "execute_result"
    }
   ],
   "source": [
    "scil.get_top_features_by_permutation_importance(data_new, model, True, 'accuracy')"
   ]
  },
  {
   "cell_type": "code",
   "execution_count": 32,
   "metadata": {
    "ExecuteTime": {
     "end_time": "2019-03-03T12:33:12.308581Z",
     "start_time": "2019-03-03T12:33:12.117163Z"
    }
   },
   "outputs": [],
   "source": [
    "ds = data_new\n",
    "path = 'processed_min_gp'\n",
    "!mkdir -p $path\n",
    "ds.X.to_msgpack(f'{path}/X.msgpack')\n",
    "ds.y.to_msgpack(f'{path}/y.msgpack')\n",
    "ds.X_score.to_msgpack(f'{path}/X_score.msgpack')\n",
    "\n",
    "# from sklearn.externals import joblib\n",
    "# joblib.dump(y_tr, f'{path}/y_tr.joblib')\n"
   ]
  },
  {
   "cell_type": "markdown",
   "metadata": {},
   "source": [
    "## Quick Test"
   ]
  },
  {
   "cell_type": "code",
   "execution_count": 26,
   "metadata": {
    "ExecuteTime": {
     "end_time": "2019-03-03T12:15:26.957077Z",
     "start_time": "2019-03-03T12:15:26.902734Z"
    }
   },
   "outputs": [],
   "source": [
    "import sklearn.utils\n",
    "from sklearn.linear_model import *\n"
   ]
  },
  {
   "cell_type": "code",
   "execution_count": 29,
   "metadata": {
    "ExecuteTime": {
     "end_time": "2019-03-03T11:22:36.317985Z",
     "start_time": "2019-03-03T11:22:35.835495Z"
    }
   },
   "outputs": [
    {
     "name": "stdout",
     "output_type": "stream",
     "text": [
      "(891, 8) (891,)\n",
      "CV for XGBClassifier ..\n"
     ]
    },
    {
     "name": "stderr",
     "output_type": "stream",
     "text": [
      "[Parallel(n_jobs=11)]: Using backend LokyBackend with 11 concurrent workers.\n",
      "[Parallel(n_jobs=11)]: Done  10 out of  10 | elapsed:    0.4s finished\n"
     ]
    },
    {
     "data": {
      "text/html": [
       "<div>\n",
       "<style scoped>\n",
       "    .dataframe tbody tr th:only-of-type {\n",
       "        vertical-align: middle;\n",
       "    }\n",
       "\n",
       "    .dataframe tbody tr th {\n",
       "        vertical-align: top;\n",
       "    }\n",
       "\n",
       "    .dataframe thead th {\n",
       "        text-align: right;\n",
       "    }\n",
       "</style>\n",
       "<table border=\"1\" class=\"dataframe\">\n",
       "  <thead>\n",
       "    <tr style=\"text-align: right;\">\n",
       "      <th></th>\n",
       "      <th>mean</th>\n",
       "      <th>std</th>\n",
       "    </tr>\n",
       "  </thead>\n",
       "  <tbody>\n",
       "    <tr>\n",
       "      <th>XGBClassifier</th>\n",
       "      <td>0.8160</td>\n",
       "      <td>0.0125</td>\n",
       "    </tr>\n",
       "  </tbody>\n",
       "</table>\n",
       "</div>"
      ],
      "text/plain": [
       "                mean    std\n",
       "XGBClassifier 0.8160 0.0125"
      ]
     },
     "metadata": {},
     "output_type": "display_data"
    },
    {
     "name": "stderr",
     "output_type": "stream",
     "text": [
      "Can't plot with only a single or no samples\n"
     ]
    }
   ],
   "source": [
    "import xgboost\n",
    "from sklearn.svm import SVC, LinearSVC, NuSVC\n",
    "\n",
    "# model = ElasticNetCV(l1_ratio=0.5)\n",
    "model = xgboost.XGBClassifier()\n",
    "# model = SVC(kernel=\"linear\", C=0.025, probability=True)\n",
    "\n",
    "# sci.metric_global = roc_auc_score\n",
    "scil.scoring_global = 'accuracy'\n",
    "\n",
    "path = 'processed_min'\n",
    "\n",
    "data = scil.load_data(path)\n",
    "cv_scores = scil.score_cv(data, model, scoring=scil.scoring_global, verbose=2, cv=10)"
   ]
  },
  {
   "cell_type": "code",
   "execution_count": null,
   "metadata": {},
   "outputs": [],
   "source": []
  }
 ],
 "metadata": {
  "kernelspec": {
   "display_name": "Python 3",
   "language": "python",
   "name": "python3"
  }
 },
 "nbformat": 4,
 "nbformat_minor": 2
}
