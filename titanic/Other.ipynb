{
 "cells": [
  {
   "cell_type": "code",
   "execution_count": 486,
   "metadata": {
    "ExecuteTime": {
     "end_time": "2019-02-27T19:24:37.315440Z",
     "start_time": "2019-02-27T19:24:37.240197Z"
    }
   },
   "outputs": [
    {
     "name": "stdout",
     "output_type": "stream",
     "text": [
      "The autoreload extension is already loaded. To reload it, use:\n",
      "  %reload_ext autoreload\n"
     ]
    }
   ],
   "source": [
    "%load_ext autoreload\n",
    "%autoreload 2\n",
    "\n",
    "import sys\n",
    "\n",
    "# implementation of reverse_shuffle\n",
    "sys.path.insert(0, \"/Users/user/git/eli5/\")\n",
    "import eli5\n",
    "\n",
    "sys.path.insert(0, \"/Users/user/git/datasci\")\n",
    "from sci.metrics import rmse, rmse_score, neg_rmse_score\n",
    "import sci.plots as scip\n",
    "import sci.learn as scil\n",
    "\n",
    "%matplotlib inline\n",
    "import matplotlib\n",
    "matplotlib.rcParams['figure.figsize'] = (10, 6)\n",
    "\n",
    "\n",
    "import scikitplot as skplt\n",
    "\n",
    "import warnings\n",
    "warnings.filterwarnings('ignore')\n",
    "\n",
    "import pandas as pd\n",
    "pd.set_option('display.float_format', lambda x: '{:.5f}'.format(x)) #Limiting floats output to 3 decimal points\n",
    "pd.options.display.max_rows = 1000\n",
    "\n",
    "random_state = 7"
   ]
  },
  {
   "cell_type": "markdown",
   "metadata": {},
   "source": [
    "## Load Data"
   ]
  },
  {
   "cell_type": "code",
   "execution_count": 3,
   "metadata": {
    "ExecuteTime": {
     "end_time": "2019-02-25T10:23:20.921596Z",
     "start_time": "2019-02-25T10:23:20.690095Z"
    }
   },
   "outputs": [
    {
     "name": "stdout",
     "output_type": "stream",
     "text": [
      "(250, 300) (250,)\n",
      "train: (200, 300)\n",
      "test: (50, 300)\n"
     ]
    }
   ],
   "source": [
    "data = scil.load_data(\"processed_min\", random_state=random_state)\n",
    "\n",
    "print(\"train:\", data.X_train.shape)\n",
    "print(\"test:\", data.X_test.shape)"
   ]
  },
  {
   "cell_type": "markdown",
   "metadata": {
    "ExecuteTime": {
     "end_time": "2019-02-06T10:44:10.162284Z",
     "start_time": "2019-02-06T10:44:10.160107Z"
    }
   },
   "source": [
    "## Choose Model"
   ]
  },
  {
   "cell_type": "code",
   "execution_count": 4,
   "metadata": {
    "ExecuteTime": {
     "end_time": "2019-02-25T10:23:21.065708Z",
     "start_time": "2019-02-25T10:23:21.010810Z"
    }
   },
   "outputs": [],
   "source": [
    "from sklearn.model_selection import *\n",
    "\n",
    "from sklearn.pipeline import make_pipeline\n",
    "from sklearn.preprocessing import RobustScaler, StandardScaler\n",
    "from sklearn.linear_model import *\n",
    "from sklearn import svm\n",
    "from sklearn.svm import SVC\n",
    "from sklearn.neighbors import KNeighborsClassifier\n",
    "from sklearn import tree\n",
    "from sklearn.kernel_ridge import KernelRidge\n",
    "from sklearn.ensemble import *\n",
    "from sklearn.ensemble import RandomForestClassifier\n",
    "\n",
    "import xgboost\n",
    "from xgboost import XGBClassifier, XGBRegressor\n",
    "\n",
    "import lightgbm as lgb\n",
    "from lightgbm import LGBMRegressor\n",
    "\n",
    "from MeanModels import MeanModelsClassifier, MeanModelsRegressor\n",
    "from StackingAveragedModels import StackingAveragedModels"
   ]
  },
  {
   "cell_type": "markdown",
   "metadata": {},
   "source": [
    "## Setup"
   ]
  },
  {
   "cell_type": "code",
   "execution_count": 73,
   "metadata": {
    "ExecuteTime": {
     "end_time": "2019-02-25T11:34:35.753439Z",
     "start_time": "2019-02-25T11:34:35.646908Z"
    }
   },
   "outputs": [],
   "source": [
    "from mlxtend.evaluate import BootstrapOutOfBag, RandomHoldoutSplit\n",
    "from sklearn.metrics import *\n",
    "\n",
    "metric = roc_auc_score\n",
    "scoring = 'roc_auc'\n",
    "\n",
    "scil.metric_global = metric\n",
    "scil.scoring_global = 'roc_auc' # make_scorer(scil.metric_global, needs_proba=True)\n",
    "\n",
    "# format\n",
    "# cv_{total_splits}_{train/test-fold}\n",
    "cv_1_10 = RandomHoldoutSplit(valid_size=0.1, stratify=True, random_seed=None)\n",
    "cv_5_5 = 5\n",
    "cv_10_10 = 10\n",
    "cv_1000_10 = RepeatedStratifiedKFold(n_splits=10, n_repeats=100)\n",
    "cv_1000_20 = RepeatedStratifiedKFold(n_splits=20, n_repeats=50)\n",
    "\n",
    "cv_single = cv_1_10\n",
    "cv_fast = cv_10_10\n",
    "cv_slow = cv_1000_20"
   ]
  },
  {
   "cell_type": "markdown",
   "metadata": {},
   "source": [
    "## Bias-Variance Decomposition"
   ]
  },
  {
   "cell_type": "code",
   "execution_count": 83,
   "metadata": {
    "ExecuteTime": {
     "end_time": "2019-02-25T16:00:24.249266Z",
     "start_time": "2019-02-25T15:56:17.124112Z"
    }
   },
   "outputs": [
    {
     "name": "stdout",
     "output_type": "stream",
     "text": [
      "fitting KNeighborsClassifier ..\n",
      "fitting SVC ..\n",
      "fitting SVC ..\n",
      "fitting SVC ..\n",
      "fitting SVC ..\n",
      "fitting GaussianProcessClassifier ..\n",
      "fitting DecisionTreeClassifier ..\n",
      "fitting DecisionTreeClassifier ..\n",
      "fitting RandomForestClassifier ..\n",
      "fitting RandomForestClassifier ..\n",
      "fitting MLPClassifier ..\n",
      "fitting AdaBoostClassifier ..\n",
      "fitting SGDClassifier ..\n",
      "fitting GaussianNB ..\n",
      "fitting BernoulliNB ..\n",
      "fitting LinearDiscriminantAnalysis ..\n",
      "fitting QuadraticDiscriminantAnalysis ..\n",
      "fitting LogisticRegression ..\n",
      "fitting GradientBoostingClassifier ..\n",
      "fitting NuSVC ..\n"
     ]
    }
   ],
   "source": [
    "from mlxtend.evaluate import bias_variance_decomp\n",
    "def bv(model):\n",
    "    scil.fit(data, model, as_numpy=True)\n",
    "    avg_expected_loss, avg_bias, avg_var = bias_variance_decomp(model, data.X_train.values, data.y_train.values, data.X_test.values, data.y_test.values)\n",
    "    return avg_expected_loss, avg_bias, avg_var\n",
    "\n",
    "res = []\n",
    "for name, model in models_sk.items():\n",
    "    res.append(bv(model))"
   ]
  },
  {
   "cell_type": "code",
   "execution_count": 84,
   "metadata": {
    "ExecuteTime": {
     "end_time": "2019-02-25T16:00:32.609391Z",
     "start_time": "2019-02-25T16:00:32.530906Z"
    }
   },
   "outputs": [],
   "source": [
    "df = pd.DataFrame(res)\n",
    "\n",
    "df.columns = ['avg_expected_loss', 'avg_bias', 'avg_var']\n",
    "df.index = list(models_sk.keys())"
   ]
  },
  {
   "cell_type": "code",
   "execution_count": 85,
   "metadata": {
    "ExecuteTime": {
     "end_time": "2019-02-25T16:00:34.788908Z",
     "start_time": "2019-02-25T16:00:34.743949Z"
    }
   },
   "outputs": [
    {
     "data": {
      "text/html": [
       "<div>\n",
       "<style scoped>\n",
       "    .dataframe tbody tr th:only-of-type {\n",
       "        vertical-align: middle;\n",
       "    }\n",
       "\n",
       "    .dataframe tbody tr th {\n",
       "        vertical-align: top;\n",
       "    }\n",
       "\n",
       "    .dataframe thead th {\n",
       "        text-align: right;\n",
       "    }\n",
       "</style>\n",
       "<table border=\"1\" class=\"dataframe\">\n",
       "  <thead>\n",
       "    <tr style=\"text-align: right;\">\n",
       "      <th></th>\n",
       "      <th>avg_expected_loss</th>\n",
       "      <th>avg_bias</th>\n",
       "      <th>avg_var</th>\n",
       "    </tr>\n",
       "  </thead>\n",
       "  <tbody>\n",
       "    <tr>\n",
       "      <th>KNN</th>\n",
       "      <td>0.45020</td>\n",
       "      <td>0.44000</td>\n",
       "      <td>0.25480</td>\n",
       "    </tr>\n",
       "    <tr>\n",
       "      <th>SVC-linear</th>\n",
       "      <td>0.40000</td>\n",
       "      <td>0.40000</td>\n",
       "      <td>0.00000</td>\n",
       "    </tr>\n",
       "    <tr>\n",
       "      <th>SVC-rbf-def</th>\n",
       "      <td>0.39470</td>\n",
       "      <td>0.40000</td>\n",
       "      <td>0.00990</td>\n",
       "    </tr>\n",
       "    <tr>\n",
       "      <th>SVC-rbf1</th>\n",
       "      <td>0.40000</td>\n",
       "      <td>0.40000</td>\n",
       "      <td>0.00000</td>\n",
       "    </tr>\n",
       "    <tr>\n",
       "      <th>SVC-rbf2</th>\n",
       "      <td>0.40000</td>\n",
       "      <td>0.40000</td>\n",
       "      <td>0.00000</td>\n",
       "    </tr>\n",
       "    <tr>\n",
       "      <th>GaussianProcessClassifier</th>\n",
       "      <td>0.44860</td>\n",
       "      <td>0.44000</td>\n",
       "      <td>0.17420</td>\n",
       "    </tr>\n",
       "    <tr>\n",
       "      <th>DecisionTreeClassifier-def</th>\n",
       "      <td>0.42150</td>\n",
       "      <td>0.30000</td>\n",
       "      <td>0.36790</td>\n",
       "    </tr>\n",
       "    <tr>\n",
       "      <th>DecisionTreeClassifier-5</th>\n",
       "      <td>0.42340</td>\n",
       "      <td>0.38000</td>\n",
       "      <td>0.34420</td>\n",
       "    </tr>\n",
       "    <tr>\n",
       "      <th>RandomForestClassifier-def</th>\n",
       "      <td>0.42060</td>\n",
       "      <td>0.42000</td>\n",
       "      <td>0.28600</td>\n",
       "    </tr>\n",
       "    <tr>\n",
       "      <th>RandomForestClassifier-1</th>\n",
       "      <td>0.41800</td>\n",
       "      <td>0.40000</td>\n",
       "      <td>0.09940</td>\n",
       "    </tr>\n",
       "    <tr>\n",
       "      <th>MLP</th>\n",
       "      <td>0.33720</td>\n",
       "      <td>0.32000</td>\n",
       "      <td>0.18200</td>\n",
       "    </tr>\n",
       "    <tr>\n",
       "      <th>AdaBoostClassifier</th>\n",
       "      <td>0.34600</td>\n",
       "      <td>0.24000</td>\n",
       "      <td>0.28720</td>\n",
       "    </tr>\n",
       "    <tr>\n",
       "      <th>SGDClassifier</th>\n",
       "      <td>0.33620</td>\n",
       "      <td>0.26000</td>\n",
       "      <td>0.22220</td>\n",
       "    </tr>\n",
       "    <tr>\n",
       "      <th>GaussianNB</th>\n",
       "      <td>0.36190</td>\n",
       "      <td>0.38000</td>\n",
       "      <td>0.11210</td>\n",
       "    </tr>\n",
       "    <tr>\n",
       "      <th>BernoulliNB</th>\n",
       "      <td>0.35200</td>\n",
       "      <td>0.30000</td>\n",
       "      <td>0.20940</td>\n",
       "    </tr>\n",
       "    <tr>\n",
       "      <th>LDA</th>\n",
       "      <td>0.39880</td>\n",
       "      <td>0.38000</td>\n",
       "      <td>0.27120</td>\n",
       "    </tr>\n",
       "    <tr>\n",
       "      <th>QDA</th>\n",
       "      <td>0.58010</td>\n",
       "      <td>0.60000</td>\n",
       "      <td>0.09590</td>\n",
       "    </tr>\n",
       "    <tr>\n",
       "      <th>LogisticRegression</th>\n",
       "      <td>0.32000</td>\n",
       "      <td>0.32000</td>\n",
       "      <td>0.13820</td>\n",
       "    </tr>\n",
       "    <tr>\n",
       "      <th>GradientBoostingClassifier</th>\n",
       "      <td>0.36840</td>\n",
       "      <td>0.42000</td>\n",
       "      <td>0.20580</td>\n",
       "    </tr>\n",
       "    <tr>\n",
       "      <th>NuSVC</th>\n",
       "      <td>0.39030</td>\n",
       "      <td>0.40000</td>\n",
       "      <td>0.02030</td>\n",
       "    </tr>\n",
       "  </tbody>\n",
       "</table>\n",
       "</div>"
      ],
      "text/plain": [
       "                            avg_expected_loss  avg_bias  avg_var\n",
       "KNN                                   0.45020   0.44000  0.25480\n",
       "SVC-linear                            0.40000   0.40000  0.00000\n",
       "SVC-rbf-def                           0.39470   0.40000  0.00990\n",
       "SVC-rbf1                              0.40000   0.40000  0.00000\n",
       "SVC-rbf2                              0.40000   0.40000  0.00000\n",
       "GaussianProcessClassifier             0.44860   0.44000  0.17420\n",
       "DecisionTreeClassifier-def            0.42150   0.30000  0.36790\n",
       "DecisionTreeClassifier-5              0.42340   0.38000  0.34420\n",
       "RandomForestClassifier-def            0.42060   0.42000  0.28600\n",
       "RandomForestClassifier-1              0.41800   0.40000  0.09940\n",
       "MLP                                   0.33720   0.32000  0.18200\n",
       "AdaBoostClassifier                    0.34600   0.24000  0.28720\n",
       "SGDClassifier                         0.33620   0.26000  0.22220\n",
       "GaussianNB                            0.36190   0.38000  0.11210\n",
       "BernoulliNB                           0.35200   0.30000  0.20940\n",
       "LDA                                   0.39880   0.38000  0.27120\n",
       "QDA                                   0.58010   0.60000  0.09590\n",
       "LogisticRegression                    0.32000   0.32000  0.13820\n",
       "GradientBoostingClassifier            0.36840   0.42000  0.20580\n",
       "NuSVC                                 0.39030   0.40000  0.02030"
      ]
     },
     "execution_count": 85,
     "metadata": {},
     "output_type": "execute_result"
    }
   ],
   "source": [
    "df"
   ]
  },
  {
   "cell_type": "markdown",
   "metadata": {},
   "source": [
    "## bootstrap"
   ]
  },
  {
   "cell_type": "code",
   "execution_count": 87,
   "metadata": {
    "ExecuteTime": {
     "end_time": "2019-02-25T16:04:39.796953Z",
     "start_time": "2019-02-25T16:04:39.731337Z"
    }
   },
   "outputs": [
    {
     "name": "stdout",
     "output_type": "stream",
     "text": [
      "Mean: 5.03, SE: +/- 0.11, CI95: [4.80, 5.26]\n"
     ]
    }
   ],
   "source": [
    "from mlxtend.evaluate import bootstrap\n",
    "rng = np.random.RandomState(123)\n",
    "x = rng.normal(loc=5., size=100)\n",
    "original, std_err, ci_bounds = bootstrap(x,\n",
    "                                         num_rounds=1000,\n",
    "                                         func=np.mean,\n",
    "                                         ci=0.95,\n",
    "                                         seed=123)\n",
    "print('Mean: %.2f, SE: +/- %.2f, CI95: [%.2f, %.2f]' % (original,\n",
    "                                                        std_err,\n",
    "                                                        ci_bounds[0],\n",
    "                                                        ci_bounds[1]))"
   ]
  }
 ],
 "metadata": {
  "kernelspec": {
   "display_name": "Python 3",
   "language": "python",
   "name": "python3"
  },
  "language_info": {
   "codemirror_mode": {
    "name": "ipython",
    "version": 3
   },
   "file_extension": ".py",
   "mimetype": "text/x-python",
   "name": "python",
   "nbconvert_exporter": "python",
   "pygments_lexer": "ipython3",
   "version": "3.6.8"
  }
 },
 "nbformat": 4,
 "nbformat_minor": 2
}
