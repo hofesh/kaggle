{
 "cells": [
  {
   "cell_type": "markdown",
   "metadata": {},
   "source": [
    "dummy_na=True"
   ]
  },
  {
   "cell_type": "code",
   "execution_count": 70,
   "metadata": {
    "ExecuteTime": {
     "end_time": "2019-02-23T21:21:44.333453Z",
     "start_time": "2019-02-23T21:21:43.959422Z"
    }
   },
   "outputs": [
    {
     "name": "stdout",
     "output_type": "stream",
     "text": [
      "The autoreload extension is already loaded. To reload it, use:\n",
      "  %reload_ext autoreload\n"
     ]
    }
   ],
   "source": [
    "%load_ext autoreload\n",
    "%autoreload 2\n",
    "\n",
    "import sys\n",
    "sys.path.insert(0, \"/Users/user/git/datasci\")\n",
    "from sci.metrics import rmse_score\n",
    "from plots import *\n",
    "import sci.features as scif\n",
    "import sci.learn as sci\n",
    "import sci.plots as scip\n",
    "\n",
    "\n",
    "import pandas as pd\n",
    "pd.set_option('display.float_format', lambda x: '{:.4f}'.format(x)) #Limiting floats output to\n",
    "pd.options.display.max_rows = 999\n",
    "\n",
    "import numpy as np\n",
    "\n",
    "import seaborn as sns\n",
    "color = sns.color_palette()\n",
    "sns.set_style('darkgrid')\n"
   ]
  },
  {
   "cell_type": "markdown",
   "metadata": {},
   "source": [
    "## Load Data"
   ]
  },
  {
   "cell_type": "code",
   "execution_count": 71,
   "metadata": {
    "ExecuteTime": {
     "end_time": "2019-02-23T21:21:44.562427Z",
     "start_time": "2019-02-23T21:21:44.338802Z"
    }
   },
   "outputs": [],
   "source": [
    "# raw data\n",
    "df_train = pd.read_csv('data/train.csv')\n",
    "df_test = pd.read_csv('data/test.csv')\n",
    "\n",
    "train_df = df_train\n",
    "test_df = df_test"
   ]
  },
  {
   "cell_type": "markdown",
   "metadata": {},
   "source": [
    "## Starts"
   ]
  },
  {
   "cell_type": "code",
   "execution_count": 72,
   "metadata": {
    "ExecuteTime": {
     "end_time": "2019-02-23T21:21:44.640025Z",
     "start_time": "2019-02-23T21:21:44.564840Z"
    }
   },
   "outputs": [],
   "source": [
    "scif.normalize_feature_names(df_train, df_test)\n",
    "# switch target price to log scale, it's more normal and scoring is easier for rmsle\n",
    "# df_train['SalePrice'] = np.log1p(df_train['SalePrice'])"
   ]
  },
  {
   "cell_type": "markdown",
   "metadata": {},
   "source": [
    "## Normalize Target"
   ]
  },
  {
   "cell_type": "code",
   "execution_count": 73,
   "metadata": {
    "ExecuteTime": {
     "end_time": "2019-02-23T21:21:44.736658Z",
     "start_time": "2019-02-23T21:21:44.642817Z"
    }
   },
   "outputs": [],
   "source": [
    "df_train['SalePrice'] = np.log1p(df_train['SalePrice'])"
   ]
  },
  {
   "cell_type": "markdown",
   "metadata": {},
   "source": [
    "## Clean Data Types"
   ]
  },
  {
   "cell_type": "code",
   "execution_count": 74,
   "metadata": {
    "ExecuteTime": {
     "end_time": "2019-02-23T21:21:45.633918Z",
     "start_time": "2019-02-23T21:21:44.738983Z"
    }
   },
   "outputs": [
    {
     "data": {
      "text/html": [
       "<div>\n",
       "<style scoped>\n",
       "    .dataframe tbody tr th:only-of-type {\n",
       "        vertical-align: middle;\n",
       "    }\n",
       "\n",
       "    .dataframe tbody tr th {\n",
       "        vertical-align: top;\n",
       "    }\n",
       "\n",
       "    .dataframe thead th {\n",
       "        text-align: right;\n",
       "    }\n",
       "</style>\n",
       "<table border=\"1\" class=\"dataframe\">\n",
       "  <thead>\n",
       "    <tr style=\"text-align: right;\">\n",
       "      <th></th>\n",
       "      <th>types</th>\n",
       "      <th>n_types</th>\n",
       "    </tr>\n",
       "  </thead>\n",
       "  <tbody>\n",
       "  </tbody>\n",
       "</table>\n",
       "</div>"
      ],
      "text/plain": [
       "Empty DataFrame\n",
       "Columns: [types, n_types]\n",
       "Index: []"
      ]
     },
     "metadata": {},
     "output_type": "display_data"
    },
    {
     "data": {
      "text/html": [
       "<div>\n",
       "<style scoped>\n",
       "    .dataframe tbody tr th:only-of-type {\n",
       "        vertical-align: middle;\n",
       "    }\n",
       "\n",
       "    .dataframe tbody tr th {\n",
       "        vertical-align: top;\n",
       "    }\n",
       "\n",
       "    .dataframe thead th {\n",
       "        text-align: right;\n",
       "    }\n",
       "</style>\n",
       "<table border=\"1\" class=\"dataframe\">\n",
       "  <thead>\n",
       "    <tr style=\"text-align: right;\">\n",
       "      <th></th>\n",
       "      <th>types</th>\n",
       "      <th>n_types</th>\n",
       "    </tr>\n",
       "  </thead>\n",
       "  <tbody>\n",
       "  </tbody>\n",
       "</table>\n",
       "</div>"
      ],
      "text/plain": [
       "Empty DataFrame\n",
       "Columns: [types, n_types]\n",
       "Index: []"
      ]
     },
     "metadata": {},
     "output_type": "display_data"
    }
   ],
   "source": [
    "# columsn with more than one data type (excluding NaN values)\n",
    "display(scif.types_of_df(df_train, more_than_one=True))\n",
    "display(scif.types_of_df(df_test, more_than_one=True))"
   ]
  },
  {
   "cell_type": "markdown",
   "metadata": {},
   "source": [
    "## Main Processing"
   ]
  },
  {
   "cell_type": "code",
   "execution_count": 75,
   "metadata": {
    "ExecuteTime": {
     "end_time": "2019-02-23T21:21:45.722704Z",
     "start_time": "2019-02-23T21:21:45.637471Z"
    }
   },
   "outputs": [],
   "source": [
    "# def process(df):\n",
    "    \n",
    "#     # Fill LotFrontage based on median LotFrontage by Neighborhood\n",
    "#     # we could do it based on the data in the given DF\n",
    "#     # but the more correct way is to use the train data\n",
    "#     # df[\"LotFrontage\"] = df.groupby(\"Neighborhood\")[\"LotFrontage\"].transform(lambda x: x.fillna(x.median())) \n",
    "#     df[\"LotFrontage\"] = df.groupby(\"Neighborhood\")[\"LotFrontage\"].transform(lambda x: x.fillna(lot_frontage_by_neighborhood[x.name])) \n",
    "    \n",
    "#     # fill NA with '0'\n",
    "#     cols = ['MasVnrArea', 'BsmtFullBath', 'BsmtHalfBath', 'BsmtUnfSF', 'BsmtFinSF1', 'BsmtFinSF2', 'TotalBsmtSF']\n",
    "#     df[cols] = df[cols].fillna(0)\n",
    "    \n",
    "#     # fill NA with median\n",
    "#     cols = ['GarageYrBlt', ]\n",
    "#     df[cols] = df[cols].transform(lambda x: x.fillna(x.median()))\n",
    "    \n",
    "#     # fill NA with mode\n",
    "#     cols = ['MSZoning', ]\n",
    "#     df[cols] = df[cols].transform(lambda x: x.fillna(x.mode()[0]))\n",
    "    \n",
    "    \n",
    "#     fmap = \"\"\"20\t1-STORY 1946 & NEWER ALL STYLES\n",
    "#     30\t1-STORY 1945 & OLDER\n",
    "#     40\t1-STORY W/FINISHED ATTIC ALL AGES\n",
    "#     45\t1-1/2 STORY - UNFINISHED ALL AGES\n",
    "#     50\t1-1/2 STORY FINISHED ALL AGES\n",
    "#     60\t2-STORY 1946 & NEWER\n",
    "#     70\t2-STORY 1945 & OLDER\n",
    "#     75\t2-1/2 STORY ALL AGES\n",
    "#     80\tSPLIT OR MULTI-LEVEL\n",
    "#     85\tSPLIT FOYER\n",
    "#     90\tDUPLEX - ALL STYLES AND AGES\n",
    "#     120\t1-STORY PUD (Planned Unit Development) - 1946 & NEWER\n",
    "#     150\t1-1/2 STORY PUD - ALL AGES\n",
    "#     160\t2-STORY PUD - 1946 & NEWER\n",
    "#     180\tPUD - MULTILEVEL - INCL SPLIT LEV/FOYER\n",
    "#     190\t2 FAMILY CONVERSION - ALL STYLES AND AGES\"\"\"\n",
    "\n",
    "#     fmap = [x.split('\\t') for x in fmap.split('\\n')]\n",
    "#     fmap = dict((int(x[0]), x[1]) for x in fmap)\n",
    "#     df['MSSubClass_'] = df['MSSubClass'].apply(lambda x: fmap[x])    \n",
    "    \n",
    "#     df['is_PUD'] = df['MSSubClass_'].str.contains(\"PUD\")\n",
    "#     # we already have Duplex and 2-family-conv covered in BldgType\n",
    "# #     df['is_Duplex'] = df['MSSubClass_'].str.startswith(\"DUPLEX\")\n",
    "# #     df['is_2FamConv'] = df['MSSubClass_'].str.startswith(\"2 FAMILY CONVERSION\")\n",
    "#     df.drop(['MSSubClass', 'MSSubClass_'], axis=1, inplace=True)\n",
    "\n",
    "    \n",
    "#     # stories feature\n",
    "#     # we have two features indicating num of stories, some of them are conflicting, and some don't have exact story count\n",
    "# #     display(pd.crosstab(df['MSSubClass'], df['HouseStyle']))\n",
    "#     # we use the HouseStyle feature to deduce exact floors count, and keep np.nan when it's unclear\n",
    "#     # the nan values will be filled later on with the final imputation\n",
    "#     fmap = {'1Story': 1, '1.5Fin': 1.5, '1.5Unf': 1.5, '2Story': 2, '2.5Fin': 2.5, '2.5Unf': 2.5, 'SFoyer': np.nan, 'SLvl': np.nan}\n",
    "#     df['floors'] = df['HouseStyle'].apply(lambda x: fmap[x])\n",
    "#     df['is_split_floor'] = (df['HouseStyle'] == 'SFoyer') | (df['HouseStyle'] == 'SLvl')\n",
    "#     df['is_unfinished'] = df['HouseStyle'].str.endswith(\"Unf\")\n",
    "#     # we then drop the HouseStyle which is no longer needed\n",
    "#     df.drop('HouseStyle', axis=1, inplace=True)\n",
    "\n",
    "#     df['is_residential'] = df['MSZoning'].isin(set(['FV', 'RH', 'RL', 'RP', 'RM']))\n",
    "#     fmap = {np.nan: 0, 'A': 0, 'C (all)': 0, 'I': 0, 'FV': 1, 'RP': 2, 'RL': 3, 'RM': 4, 'RH': 5}\n",
    "#     df['residential_density'] = df['MSZoning'].apply(lambda x: fmap[x])\n",
    "#     df.drop('MSZoning', axis=1, inplace=True)\n",
    "    \n",
    "#     cond1 = pd.get_dummies(df[['Condition1']], columns=['Condition1'], prefix=\"Condition\")\n",
    "#     cond2 = pd.get_dummies(df[['Condition2']], columns=['Condition2'], prefix=\"Condition\")\n",
    "#     df = df.join(cond1|cond2)\n",
    "#     df.drop(['Condition1', 'Condition2'], axis=1, inplace=True)\n",
    "    \n",
    "#     part1 = pd.get_dummies(df[['Exterior1st']], columns=['Exterior1st'], prefix=\"Exterior\")\n",
    "#     part2 = pd.get_dummies(df[['Exterior2nd']], columns=['Exterior2nd'], prefix=\"Exterior\")\n",
    "#     df = df.join(part1|part2)\n",
    "#     df.drop(['Exterior1st', 'Exterior2nd'], axis=1, inplace=True)\n",
    "#     # hack fix for Exterior_Other in train but not test:\n",
    "#     if not 'Exterior_Other' in df.columns:\n",
    "#         df['Exterior_Other'] = 0\n",
    "    \n",
    "#     df[\"has_shed\"] = df['MiscFeature'] == 'Shed'\n",
    "#     df.drop(['MiscFeature'], axis=1, inplace=True)\n",
    "    \n",
    "#     df[\"sale_new\"] = df['SaleType'] == 'New'\n",
    "#     df[\"sale_court\"] = df['SaleType'] == 'COD'\n",
    "#     df[\"sale_deed\"] = df['SaleType'].isin(['WD', 'CWD', 'VWD'])\n",
    "#     df.drop(['SaleType'], axis=1, inplace=True)\n",
    "    \n",
    "#     df['decade_built'] = (df['YearBuilt']/10).astype(int)*10\n",
    "# #     df.drop(['YearBuilt'], axis=1, inplace=True)\n",
    "#     # should we drop YearBuilt?\n",
    "#     df['decade_remode'] = (df['YearRemodAdd']/10).astype(int)*10\n",
    "# #     df.drop(['YearRemodAdd'], axis=1, inplace=True)\n",
    "#     # should we drop YearRemodAdd?\n",
    "\n",
    "#     df['TotalSF'] = df['TotalBsmtSF'] + df['1stFlrSF'] + df['2ndFlrSF']\n",
    "    \n",
    "#     scif.from_cat_to_numeric(df, \"Alley\", 'NA,Grvl,Pave', 'NA')\n",
    "#     scif.from_cat_to_numeric(df, \"LotShape\", 'IR3,IR2,IR1,Reg')\n",
    "#     scif.from_cat_to_numeric(df, \"LandSlope\", 'Gtl,Mod,Sev')\n",
    "#     scif.from_cat_to_numeric(df, \"ExterQual\", 'Po,Fa,TA,Gd,Ex')\n",
    "#     scif.from_cat_to_numeric(df, \"ExterCond\", 'Po,Fa,TA,Gd,Ex')\n",
    "#     scif.from_cat_to_numeric(df, \"BsmtQual\", 'NA,Po,Fa,TA,Gd,Ex', 'NA')\n",
    "#     scif.from_cat_to_numeric(df, \"BsmtCond\", 'NA,Po,Fa,TA,Gd,Ex', 'NA')\n",
    "#     scif.from_cat_to_numeric(df, \"BsmtExposure\", 'NA,No,Mn,Av,Gd', 'NA')\n",
    "#     scif.from_cat_to_numeric(df, \"BsmtFinType1\", 'NA,Unf,LwQ,Rec,BLQ,ALQ,GLQ', 'NA')\n",
    "#     scif.from_cat_to_numeric(df, \"BsmtFinType2\", 'NA,Unf,LwQ,Rec,BLQ,ALQ,GLQ', 'NA')\n",
    "#     scif.from_cat_to_numeric(df, \"HeatingQC\", 'Po,Fa,TA,Gd,Ex')\n",
    "#     scif.from_cat_to_numeric(df, \"Electrical\", 'Mix,FuseP,FuseF,FuseA,SBrkr', np.nan)\n",
    "#     scif.from_cat_to_numeric(df, \"KitchenQual\", 'Po,Fa,TA,Gd,Ex', np.nan)\n",
    "#     scif.from_cat_to_numeric(df, \"Functional\", 'Sal,Sev,Maj2,Maj1,Mod,Min2,Min1,Typ', np.nan)\n",
    "#     scif.from_cat_to_numeric(df, \"FireplaceQu\", 'NA,Po,Fa,TA,Gd,Ex', 'NA')\n",
    "#     scif.from_cat_to_numeric(df, \"GarageType\", 'NA,CarPort,Basment,2Types,Detchd,Attchd,BuiltIn', \"NA\")\n",
    "#     scif.from_cat_to_numeric(df, \"GarageFinish\", 'NA,Unf,RFn,Fin', \"NA\")\n",
    "#     scif.from_cat_to_numeric(df, \"GarageQual\", 'NA,Po,Fa,TA,Gd,Ex', 'NA')\n",
    "#     scif.from_cat_to_numeric(df, \"GarageCond\", 'NA,Po,Fa,TA,Gd,Ex', 'NA')\n",
    "#     scif.from_cat_to_numeric(df, \"PavedDrive\", 'N,P,Y')\n",
    "#     scif.from_cat_to_numeric(df, \"PoolQC\", 'NA,Fa,TA,Gd,Ex', 'NA')\n",
    "#     scif.from_cat_to_numeric(df, \"Fence\", 'NA,MnWw,GdWo,MnPrv,GdPrv', 'NA')\n",
    "    \n",
    "    \n",
    "#     # one-hot-encode\n",
    "#     # we can auto-encode all 'object' features\n",
    "#     # but if we want to be careful, it's best to add them one by one, and see if we forgot something\n",
    "#     # to_one_hot_encode = df.dtypes[df.dtypes == \"object\"].index.values \n",
    "#     to_one_hot_encode = ['BldgType', 'Street', 'LandContour', 'LotConfig', 'Neighborhood', 'RoofStyle', 'MasVnrType', 'Foundation', 'CentralAir', 'SaleCondition']\n",
    "#     df = pd.get_dummies(df, columns=to_one_hot_encode, drop_first=False, prefix_sep='__')\n",
    "    \n",
    "    \n",
    "#     # features to simply drop\n",
    "#     to_drop = ['Utilities', 'RoofMatl', 'Heating']\n",
    "#     df.drop(to_drop, axis=1, inplace=True)\n",
    "    \n",
    "#     return df\n",
    "    \n",
    "    \n",
    "# df_train_proc = process(df_train.copy())\n",
    "# df_test_proc = process(df_test.copy())\n"
   ]
  },
  {
   "cell_type": "code",
   "execution_count": 76,
   "metadata": {
    "ExecuteTime": {
     "end_time": "2019-02-23T21:21:46.029152Z",
     "start_time": "2019-02-23T21:21:45.727079Z"
    }
   },
   "outputs": [],
   "source": [
    "dummy_na=False\n",
    "drop_first=True\n",
    "\n",
    "df_all = pd.concat([df_train.drop('SalePrice', axis=1), df_test], axis=0)\n",
    "df_all_dummies = pd.get_dummies(df_all, drop_first=drop_first, dummy_na=dummy_na, prefix_sep='__')\n",
    "df_train_proc = df_all_dummies.iloc[:df_train.shape[0], :].copy()\n",
    "df_test_proc = df_all_dummies.iloc[df_train.shape[0]:, :].copy()\n",
    "\n",
    "df_train_proc['SalePrice'] = df_train['SalePrice']"
   ]
  },
  {
   "cell_type": "markdown",
   "metadata": {},
   "source": [
    "## Switch all to floats"
   ]
  },
  {
   "cell_type": "code",
   "execution_count": 77,
   "metadata": {
    "ExecuteTime": {
     "end_time": "2019-02-23T21:21:46.155479Z",
     "start_time": "2019-02-23T21:21:46.032312Z"
    }
   },
   "outputs": [],
   "source": [
    "# for c in df_train_proc.columns:\n",
    "#     df_train_proc[c] = df_train_proc[c].astype(float)\n",
    "# for c in df_test_proc.columns:\n",
    "#     df_test_proc[c] = df_test_proc[c].astype(float)\n",
    "\n",
    "df_train_proc = df_train_proc.astype(float)\n",
    "df_test_proc = df_test_proc.astype(float)"
   ]
  },
  {
   "cell_type": "markdown",
   "metadata": {},
   "source": [
    "## Impute using IterativeImputer"
   ]
  },
  {
   "cell_type": "code",
   "execution_count": 78,
   "metadata": {
    "ExecuteTime": {
     "end_time": "2019-02-23T21:21:51.233091Z",
     "start_time": "2019-02-23T21:21:46.157819Z"
    }
   },
   "outputs": [
    {
     "data": {
      "text/html": [
       "<div>\n",
       "<style scoped>\n",
       "    .dataframe tbody tr th:only-of-type {\n",
       "        vertical-align: middle;\n",
       "    }\n",
       "\n",
       "    .dataframe tbody tr th {\n",
       "        vertical-align: top;\n",
       "    }\n",
       "\n",
       "    .dataframe thead th {\n",
       "        text-align: right;\n",
       "    }\n",
       "</style>\n",
       "<table border=\"1\" class=\"dataframe\">\n",
       "  <thead>\n",
       "    <tr style=\"text-align: right;\">\n",
       "      <th></th>\n",
       "      <th>count</th>\n",
       "      <th>missing</th>\n",
       "      <th>percent</th>\n",
       "      <th>dtype</th>\n",
       "      <th>types</th>\n",
       "      <th>uniq</th>\n",
       "      <th>miss-idx</th>\n",
       "      <th>values</th>\n",
       "      <th>freq</th>\n",
       "    </tr>\n",
       "  </thead>\n",
       "  <tbody>\n",
       "    <tr>\n",
       "      <th>LotFrontage</th>\n",
       "      <td>1201</td>\n",
       "      <td>259</td>\n",
       "      <td>17.7397</td>\n",
       "      <td>float64</td>\n",
       "      <td>float</td>\n",
       "      <td>110</td>\n",
       "      <td>7, 12, 14</td>\n",
       "      <td>21.0, 24.0, 30.0, 32.0, 33.0, 34.0, 35.0, ...</td>\n",
       "      <td>'60.0':143, '70.0':70, '80.0':69, '50.0':5...</td>\n",
       "    </tr>\n",
       "    <tr>\n",
       "      <th>GarageYrBlt</th>\n",
       "      <td>1379</td>\n",
       "      <td>81</td>\n",
       "      <td>5.5479</td>\n",
       "      <td>float64</td>\n",
       "      <td>float</td>\n",
       "      <td>97</td>\n",
       "      <td>39, 48, 78</td>\n",
       "      <td>1900.0, 1906.0, 1908.0, 1910.0, 1914.0, ...</td>\n",
       "      <td>'2005.0':65, '2006.0':59, '2004.0':53, '20...</td>\n",
       "    </tr>\n",
       "    <tr>\n",
       "      <th>MasVnrArea</th>\n",
       "      <td>1452</td>\n",
       "      <td>8</td>\n",
       "      <td>0.5479</td>\n",
       "      <td>float64</td>\n",
       "      <td>float</td>\n",
       "      <td>327</td>\n",
       "      <td>234, 529, 650</td>\n",
       "      <td>0.0, 1.0, 11.0, 14.0, 16.0, 18.0, 22.0, ...</td>\n",
       "      <td>'0.0':861, '72.0':8, '180.0':8, '108.0':8, ...</td>\n",
       "    </tr>\n",
       "  </tbody>\n",
       "</table>\n",
       "</div>"
      ],
      "text/plain": [
       "             count  missing  percent    dtype  types  uniq       miss-idx  \\\n",
       "LotFrontage   1201      259  17.7397  float64  float   110      7, 12, 14   \n",
       "GarageYrBlt   1379       81   5.5479  float64  float    97     39, 48, 78   \n",
       "MasVnrArea    1452        8   0.5479  float64  float   327  234, 529, 650   \n",
       "\n",
       "                                                    values  \\\n",
       "LotFrontage  21.0, 24.0, 30.0, 32.0, 33.0, 34.0, 35.0, ...   \n",
       "GarageYrBlt    1900.0, 1906.0, 1908.0, 1910.0, 1914.0, ...   \n",
       "MasVnrArea     0.0, 1.0, 11.0, 14.0, 16.0, 18.0, 22.0, ...   \n",
       "\n",
       "                                                       freq  \n",
       "LotFrontage   '60.0':143, '70.0':70, '80.0':69, '50.0':5...  \n",
       "GarageYrBlt   '2005.0':65, '2006.0':59, '2004.0':53, '20...  \n",
       "MasVnrArea   '0.0':861, '72.0':8, '180.0':8, '108.0':8, ...  "
      ]
     },
     "metadata": {},
     "output_type": "display_data"
    },
    {
     "data": {
      "text/html": [
       "<div>\n",
       "<style scoped>\n",
       "    .dataframe tbody tr th:only-of-type {\n",
       "        vertical-align: middle;\n",
       "    }\n",
       "\n",
       "    .dataframe tbody tr th {\n",
       "        vertical-align: top;\n",
       "    }\n",
       "\n",
       "    .dataframe thead th {\n",
       "        text-align: right;\n",
       "    }\n",
       "</style>\n",
       "<table border=\"1\" class=\"dataframe\">\n",
       "  <thead>\n",
       "    <tr style=\"text-align: right;\">\n",
       "      <th></th>\n",
       "      <th>count</th>\n",
       "      <th>missing</th>\n",
       "      <th>percent</th>\n",
       "      <th>dtype</th>\n",
       "      <th>types</th>\n",
       "      <th>uniq</th>\n",
       "      <th>miss-idx</th>\n",
       "      <th>values</th>\n",
       "      <th>freq</th>\n",
       "    </tr>\n",
       "  </thead>\n",
       "  <tbody>\n",
       "    <tr>\n",
       "      <th>LotFrontage</th>\n",
       "      <td>1232</td>\n",
       "      <td>227</td>\n",
       "      <td>15.5586</td>\n",
       "      <td>float64</td>\n",
       "      <td>float</td>\n",
       "      <td>115</td>\n",
       "      <td>6, 40, 41</td>\n",
       "      <td>21.0, 22.0, 24.0, 25.0, 26.0, 28.0, 30.0, ...</td>\n",
       "      <td>'60.0':133, '80.0':68, '70.0':63, '50.0':6...</td>\n",
       "    </tr>\n",
       "    <tr>\n",
       "      <th>GarageYrBlt</th>\n",
       "      <td>1381</td>\n",
       "      <td>78</td>\n",
       "      <td>5.3461</td>\n",
       "      <td>float64</td>\n",
       "      <td>float</td>\n",
       "      <td>97</td>\n",
       "      <td>53, 71, 79</td>\n",
       "      <td>1895.0, 1896.0, 1900.0, 1910.0, 1915.0, ...</td>\n",
       "      <td>'2005.0':77, '2007.0':66, '2006.0':56, '20...</td>\n",
       "    </tr>\n",
       "    <tr>\n",
       "      <th>MasVnrArea</th>\n",
       "      <td>1444</td>\n",
       "      <td>15</td>\n",
       "      <td>1.0281</td>\n",
       "      <td>float64</td>\n",
       "      <td>float</td>\n",
       "      <td>303</td>\n",
       "      <td>231, 246, 422</td>\n",
       "      <td>0.0, 1.0, 3.0, 14.0, 16.0, 18.0, 20.0, ...</td>\n",
       "      <td>'0.0':877, '176.0':10, '144.0':9, '120.0':...</td>\n",
       "    </tr>\n",
       "    <tr>\n",
       "      <th>BsmtHalfBath</th>\n",
       "      <td>1457</td>\n",
       "      <td>2</td>\n",
       "      <td>0.1371</td>\n",
       "      <td>float64</td>\n",
       "      <td>float</td>\n",
       "      <td>3</td>\n",
       "      <td>660, 728</td>\n",
       "      <td>0.0, 1.0, 2.0</td>\n",
       "      <td>'0.0':1364, '1.0':91, '2.0':2...</td>\n",
       "    </tr>\n",
       "    <tr>\n",
       "      <th>BsmtFullBath</th>\n",
       "      <td>1457</td>\n",
       "      <td>2</td>\n",
       "      <td>0.1371</td>\n",
       "      <td>float64</td>\n",
       "      <td>float</td>\n",
       "      <td>4</td>\n",
       "      <td>660, 728</td>\n",
       "      <td>0.0, 1.0, 2.0, 3.0</td>\n",
       "      <td>'0.0':849, '1.0':584, '2.0':23, '3.0':1...</td>\n",
       "    </tr>\n",
       "    <tr>\n",
       "      <th>BsmtFinSF2</th>\n",
       "      <td>1458</td>\n",
       "      <td>1</td>\n",
       "      <td>0.0685</td>\n",
       "      <td>float64</td>\n",
       "      <td>float</td>\n",
       "      <td>161</td>\n",
       "      <td>660</td>\n",
       "      <td>0.0, 6.0, 12.0, 38.0, 40.0, 42.0, 46.0, ...</td>\n",
       "      <td>'0.0':1278, '162.0':3, '294.0':3, '483.0':...</td>\n",
       "    </tr>\n",
       "    <tr>\n",
       "      <th>GarageCars</th>\n",
       "      <td>1458</td>\n",
       "      <td>1</td>\n",
       "      <td>0.0685</td>\n",
       "      <td>float64</td>\n",
       "      <td>float</td>\n",
       "      <td>6</td>\n",
       "      <td>1116</td>\n",
       "      <td>0.0, 1.0, 2.0, 3.0, 4.0, 5.0</td>\n",
       "      <td>'2.0':770, '1.0':407, '3.0':193, '0.0':76, ...</td>\n",
       "    </tr>\n",
       "    <tr>\n",
       "      <th>GarageArea</th>\n",
       "      <td>1458</td>\n",
       "      <td>1</td>\n",
       "      <td>0.0685</td>\n",
       "      <td>float64</td>\n",
       "      <td>float</td>\n",
       "      <td>459</td>\n",
       "      <td>1116</td>\n",
       "      <td>0.0, 100.0, 160.0, 162.0, 164.0, 180.0, ...</td>\n",
       "      <td>'0.0':76, '576.0':50, '440.0':47, '484.0':...</td>\n",
       "    </tr>\n",
       "    <tr>\n",
       "      <th>BsmtUnfSF</th>\n",
       "      <td>1458</td>\n",
       "      <td>1</td>\n",
       "      <td>0.0685</td>\n",
       "      <td>float64</td>\n",
       "      <td>float</td>\n",
       "      <td>793</td>\n",
       "      <td>660</td>\n",
       "      <td>0.0, 17.0, 20.0, 22.0, 25.0, 27.0, 28.0, ...</td>\n",
       "      <td>'0.0':123, '384.0':11, '624.0':8, '480.0':...</td>\n",
       "    </tr>\n",
       "    <tr>\n",
       "      <th>TotalBsmtSF</th>\n",
       "      <td>1458</td>\n",
       "      <td>1</td>\n",
       "      <td>0.0685</td>\n",
       "      <td>float64</td>\n",
       "      <td>float</td>\n",
       "      <td>736</td>\n",
       "      <td>660</td>\n",
       "      <td>0.0, 160.0, 173.0, 192.0, 216.0, 240.0, ...</td>\n",
       "      <td>'0.0':41, '864.0':39, '960.0':13, '546.0':...</td>\n",
       "    </tr>\n",
       "    <tr>\n",
       "      <th>BsmtFinSF1</th>\n",
       "      <td>1458</td>\n",
       "      <td>1</td>\n",
       "      <td>0.0685</td>\n",
       "      <td>float64</td>\n",
       "      <td>float</td>\n",
       "      <td>669</td>\n",
       "      <td>660</td>\n",
       "      <td>0.0, 16.0, 20.0, 24.0, 28.0, 32.0, 36.0, ...</td>\n",
       "      <td>'0.0':462, '24.0':15, '276.0':6, '602.0':6...</td>\n",
       "    </tr>\n",
       "  </tbody>\n",
       "</table>\n",
       "</div>"
      ],
      "text/plain": [
       "              count  missing  percent    dtype  types  uniq       miss-idx  \\\n",
       "LotFrontage    1232      227  15.5586  float64  float   115      6, 40, 41   \n",
       "GarageYrBlt    1381       78   5.3461  float64  float    97     53, 71, 79   \n",
       "MasVnrArea     1444       15   1.0281  float64  float   303  231, 246, 422   \n",
       "BsmtHalfBath   1457        2   0.1371  float64  float     3       660, 728   \n",
       "BsmtFullBath   1457        2   0.1371  float64  float     4       660, 728   \n",
       "BsmtFinSF2     1458        1   0.0685  float64  float   161            660   \n",
       "GarageCars     1458        1   0.0685  float64  float     6           1116   \n",
       "GarageArea     1458        1   0.0685  float64  float   459           1116   \n",
       "BsmtUnfSF      1458        1   0.0685  float64  float   793            660   \n",
       "TotalBsmtSF    1458        1   0.0685  float64  float   736            660   \n",
       "BsmtFinSF1     1458        1   0.0685  float64  float   669            660   \n",
       "\n",
       "                                                     values  \\\n",
       "LotFrontage   21.0, 22.0, 24.0, 25.0, 26.0, 28.0, 30.0, ...   \n",
       "GarageYrBlt     1895.0, 1896.0, 1900.0, 1910.0, 1915.0, ...   \n",
       "MasVnrArea       0.0, 1.0, 3.0, 14.0, 16.0, 18.0, 20.0, ...   \n",
       "BsmtHalfBath                                  0.0, 1.0, 2.0   \n",
       "BsmtFullBath                             0.0, 1.0, 2.0, 3.0   \n",
       "BsmtFinSF2      0.0, 6.0, 12.0, 38.0, 40.0, 42.0, 46.0, ...   \n",
       "GarageCars                     0.0, 1.0, 2.0, 3.0, 4.0, 5.0   \n",
       "GarageArea      0.0, 100.0, 160.0, 162.0, 164.0, 180.0, ...   \n",
       "BsmtUnfSF      0.0, 17.0, 20.0, 22.0, 25.0, 27.0, 28.0, ...   \n",
       "TotalBsmtSF     0.0, 160.0, 173.0, 192.0, 216.0, 240.0, ...   \n",
       "BsmtFinSF1     0.0, 16.0, 20.0, 24.0, 28.0, 32.0, 36.0, ...   \n",
       "\n",
       "                                                        freq  \n",
       "LotFrontage    '60.0':133, '80.0':68, '70.0':63, '50.0':6...  \n",
       "GarageYrBlt    '2005.0':77, '2007.0':66, '2006.0':56, '20...  \n",
       "MasVnrArea     '0.0':877, '176.0':10, '144.0':9, '120.0':...  \n",
       "BsmtHalfBath                '0.0':1364, '1.0':91, '2.0':2...  \n",
       "BsmtFullBath      '0.0':849, '1.0':584, '2.0':23, '3.0':1...  \n",
       "BsmtFinSF2     '0.0':1278, '162.0':3, '294.0':3, '483.0':...  \n",
       "GarageCars    '2.0':770, '1.0':407, '3.0':193, '0.0':76, ...  \n",
       "GarageArea     '0.0':76, '576.0':50, '440.0':47, '484.0':...  \n",
       "BsmtUnfSF      '0.0':123, '384.0':11, '624.0':8, '480.0':...  \n",
       "TotalBsmtSF    '0.0':41, '864.0':39, '960.0':13, '546.0':...  \n",
       "BsmtFinSF1     '0.0':462, '24.0':15, '276.0':6, '602.0':6...  "
      ]
     },
     "metadata": {},
     "output_type": "display_data"
    }
   ],
   "source": [
    "display(scif.df_summary(df_train_proc, missing_only=True))\n",
    "display(scif.df_summary(df_test_proc, missing_only=True))"
   ]
  },
  {
   "cell_type": "code",
   "execution_count": 79,
   "metadata": {
    "ExecuteTime": {
     "end_time": "2019-02-23T21:23:26.003268Z",
     "start_time": "2019-02-23T21:21:51.235916Z"
    }
   },
   "outputs": [],
   "source": [
    "# we are specific on the columns just to be sure we didn't miss anything\n",
    "cols_to_impute = None\n",
    "scif.impute_iterative(df_train_proc, columns=cols_to_impute)\n",
    "scif.impute_iterative(df_test_proc, columns=cols_to_impute)"
   ]
  },
  {
   "cell_type": "code",
   "execution_count": 80,
   "metadata": {
    "ExecuteTime": {
     "end_time": "2019-02-23T21:23:26.108114Z",
     "start_time": "2019-02-23T21:23:26.005707Z"
    }
   },
   "outputs": [],
   "source": [
    "scif.assert_no_missing_values(df_train_proc)\n",
    "scif.assert_no_missing_values(df_test_proc)"
   ]
  },
  {
   "cell_type": "markdown",
   "metadata": {},
   "source": [
    "### check and reduce skewness"
   ]
  },
  {
   "cell_type": "code",
   "execution_count": 81,
   "metadata": {
    "ExecuteTime": {
     "end_time": "2019-02-23T21:23:26.476538Z",
     "start_time": "2019-02-23T21:23:26.110479Z"
    }
   },
   "outputs": [
    {
     "data": {
      "text/html": [
       "<div>\n",
       "<style scoped>\n",
       "    .dataframe tbody tr th:only-of-type {\n",
       "        vertical-align: middle;\n",
       "    }\n",
       "\n",
       "    .dataframe tbody tr th {\n",
       "        vertical-align: top;\n",
       "    }\n",
       "\n",
       "    .dataframe thead th {\n",
       "        text-align: right;\n",
       "    }\n",
       "</style>\n",
       "<table border=\"1\" class=\"dataframe\">\n",
       "  <thead>\n",
       "    <tr style=\"text-align: right;\">\n",
       "      <th></th>\n",
       "      <th>Skew</th>\n",
       "    </tr>\n",
       "  </thead>\n",
       "  <tbody>\n",
       "    <tr>\n",
       "      <th>MiscFeature__TenC</th>\n",
       "      <td>38.1707</td>\n",
       "    </tr>\n",
       "    <tr>\n",
       "      <th>Exterior2nd__CBlock</th>\n",
       "      <td>38.1707</td>\n",
       "    </tr>\n",
       "    <tr>\n",
       "      <th>Exterior1st__ImStucc</th>\n",
       "      <td>38.1707</td>\n",
       "    </tr>\n",
       "    <tr>\n",
       "      <th>Exterior1st__CBlock</th>\n",
       "      <td>38.1707</td>\n",
       "    </tr>\n",
       "    <tr>\n",
       "      <th>RoofMatl__Membran</th>\n",
       "      <td>38.1707</td>\n",
       "    </tr>\n",
       "    <tr>\n",
       "      <th>Condition2__RRAn</th>\n",
       "      <td>38.1707</td>\n",
       "    </tr>\n",
       "    <tr>\n",
       "      <th>Functional__Sev</th>\n",
       "      <td>38.1707</td>\n",
       "    </tr>\n",
       "    <tr>\n",
       "      <th>Exterior1st__AsphShn</th>\n",
       "      <td>38.1707</td>\n",
       "    </tr>\n",
       "    <tr>\n",
       "      <th>RoofMatl__Roll</th>\n",
       "      <td>38.1707</td>\n",
       "    </tr>\n",
       "    <tr>\n",
       "      <th>Exterior2nd__Other</th>\n",
       "      <td>38.1707</td>\n",
       "    </tr>\n",
       "  </tbody>\n",
       "</table>\n",
       "</div>"
      ],
      "text/plain": [
       "                        Skew\n",
       "MiscFeature__TenC    38.1707\n",
       "Exterior2nd__CBlock  38.1707\n",
       "Exterior1st__ImStucc 38.1707\n",
       "Exterior1st__CBlock  38.1707\n",
       "RoofMatl__Membran    38.1707\n",
       "Condition2__RRAn     38.1707\n",
       "Functional__Sev      38.1707\n",
       "Exterior1st__AsphShn 38.1707\n",
       "RoofMatl__Roll       38.1707\n",
       "Exterior2nd__Other   38.1707"
      ]
     },
     "execution_count": 81,
     "metadata": {},
     "output_type": "execute_result"
    }
   ],
   "source": [
    "scif.skewness_check(df_train_proc).head(10)"
   ]
  },
  {
   "cell_type": "code",
   "execution_count": 82,
   "metadata": {
    "ExecuteTime": {
     "end_time": "2019-02-23T21:23:26.582693Z",
     "start_time": "2019-02-23T21:23:26.478980Z"
    }
   },
   "outputs": [],
   "source": [
    "# scif.skewness_fix(df_train_proc)"
   ]
  },
  {
   "cell_type": "code",
   "execution_count": 83,
   "metadata": {
    "ExecuteTime": {
     "end_time": "2019-02-23T21:23:27.053901Z",
     "start_time": "2019-02-23T21:23:26.586245Z"
    }
   },
   "outputs": [
    {
     "data": {
      "text/html": [
       "<div>\n",
       "<style scoped>\n",
       "    .dataframe tbody tr th:only-of-type {\n",
       "        vertical-align: middle;\n",
       "    }\n",
       "\n",
       "    .dataframe tbody tr th {\n",
       "        vertical-align: top;\n",
       "    }\n",
       "\n",
       "    .dataframe thead th {\n",
       "        text-align: right;\n",
       "    }\n",
       "</style>\n",
       "<table border=\"1\" class=\"dataframe\">\n",
       "  <thead>\n",
       "    <tr style=\"text-align: right;\">\n",
       "      <th></th>\n",
       "      <th>Skew</th>\n",
       "    </tr>\n",
       "  </thead>\n",
       "  <tbody>\n",
       "    <tr>\n",
       "      <th>MiscFeature__TenC</th>\n",
       "      <td>38.1707</td>\n",
       "    </tr>\n",
       "    <tr>\n",
       "      <th>Exterior2nd__CBlock</th>\n",
       "      <td>38.1707</td>\n",
       "    </tr>\n",
       "    <tr>\n",
       "      <th>Exterior1st__ImStucc</th>\n",
       "      <td>38.1707</td>\n",
       "    </tr>\n",
       "    <tr>\n",
       "      <th>Exterior1st__CBlock</th>\n",
       "      <td>38.1707</td>\n",
       "    </tr>\n",
       "    <tr>\n",
       "      <th>RoofMatl__Membran</th>\n",
       "      <td>38.1707</td>\n",
       "    </tr>\n",
       "    <tr>\n",
       "      <th>Condition2__RRAn</th>\n",
       "      <td>38.1707</td>\n",
       "    </tr>\n",
       "    <tr>\n",
       "      <th>Functional__Sev</th>\n",
       "      <td>38.1707</td>\n",
       "    </tr>\n",
       "    <tr>\n",
       "      <th>Exterior1st__AsphShn</th>\n",
       "      <td>38.1707</td>\n",
       "    </tr>\n",
       "    <tr>\n",
       "      <th>RoofMatl__Roll</th>\n",
       "      <td>38.1707</td>\n",
       "    </tr>\n",
       "    <tr>\n",
       "      <th>Exterior2nd__Other</th>\n",
       "      <td>38.1707</td>\n",
       "    </tr>\n",
       "  </tbody>\n",
       "</table>\n",
       "</div>"
      ],
      "text/plain": [
       "                        Skew\n",
       "MiscFeature__TenC    38.1707\n",
       "Exterior2nd__CBlock  38.1707\n",
       "Exterior1st__ImStucc 38.1707\n",
       "Exterior1st__CBlock  38.1707\n",
       "RoofMatl__Membran    38.1707\n",
       "Condition2__RRAn     38.1707\n",
       "Functional__Sev      38.1707\n",
       "Exterior1st__AsphShn 38.1707\n",
       "RoofMatl__Roll       38.1707\n",
       "Exterior2nd__Other   38.1707"
      ]
     },
     "execution_count": 83,
     "metadata": {},
     "output_type": "execute_result"
    }
   ],
   "source": [
    "scif.skewness_check(df_train_proc).head(10)"
   ]
  },
  {
   "cell_type": "markdown",
   "metadata": {},
   "source": [
    "## Categorical Features\n",
    "- text features with few values are classic categorical features\n",
    "- text features with rich content are NOT\n",
    "- numeric (integer) features with few values that represent categories can be treated as categorical, but can also be processed as numeric and let the model figure it out\n",
    "\n",
    "What do we do with them?\n",
    "- we can convert them to integers using LabelEncoder and let the model figure it out\n",
    "- we can convert them to one-hot features using get_dummie or OneHotEncoder\n",
    "\n",
    "TODO:  \n",
    "solved with (drop_first=True) ?  \n",
    "https://www.algosome.com/articles/dummy-variable-trap-regression.html"
   ]
  },
  {
   "cell_type": "markdown",
   "metadata": {},
   "source": [
    "## Drop Outliers"
   ]
  },
  {
   "cell_type": "code",
   "execution_count": 84,
   "metadata": {
    "ExecuteTime": {
     "end_time": "2019-02-23T21:23:28.018590Z",
     "start_time": "2019-02-23T21:23:27.056438Z"
    }
   },
   "outputs": [],
   "source": [
    "from sklearn.linear_model import *\n",
    "\n",
    "X = df_train_proc.drop('SalePrice', axis=1)\n",
    "y = df_train_proc['SalePrice']\n",
    "model = RidgeCV()\n",
    "model.fit(X, y)\n",
    "# from sklearn.model_selection import cross_val_score\n",
    "# cross_val_score(model, X, y, scoring=rmse_score).mean()\n",
    "\n",
    "y_pred = pd.Series(model.predict(X), index=y.index)\n",
    "y_resid = y - y_pred\n",
    "resid_mean = y_resid.mean()\n",
    "resid_std  = y_resid.std()\n",
    "resid_z = (y_resid - resid_mean) / resid_std\n",
    "outliers_idx = y.index[np.abs(resid_z) >= 3]"
   ]
  },
  {
   "cell_type": "code",
   "execution_count": 85,
   "metadata": {
    "ExecuteTime": {
     "end_time": "2019-02-23T21:23:28.425103Z",
     "start_time": "2019-02-23T21:23:28.021503Z"
    }
   },
   "outputs": [
    {
     "data": {
      "text/plain": [
       "<matplotlib.collections.PathCollection at 0x1a361c64e0>"
      ]
     },
     "execution_count": 85,
     "metadata": {},
     "output_type": "execute_result"
    },
    {
     "data": {
      "image/png": "[encoded data removed]",
      "text/plain": [
       "<Figure size 432x288 with 1 Axes>"
      ]
     },
     "metadata": {},
     "output_type": "display_data"
    }
   ],
   "source": [
    "plt.scatter(y, y_pred)\n",
    "plt.scatter(y.loc[outliers_idx], y_pred.loc[outliers_idx])"
   ]
  },
  {
   "cell_type": "code",
   "execution_count": 86,
   "metadata": {
    "ExecuteTime": {
     "end_time": "2019-02-23T21:23:28.514272Z",
     "start_time": "2019-02-23T21:23:28.427389Z"
    }
   },
   "outputs": [],
   "source": [
    "df_train_proc = df_train_proc.drop(outliers_idx)"
   ]
  },
  {
   "cell_type": "markdown",
   "metadata": {},
   "source": [
    "## Finished"
   ]
  },
  {
   "cell_type": "code",
   "execution_count": 87,
   "metadata": {
    "ExecuteTime": {
     "end_time": "2019-02-23T21:23:29.017913Z",
     "start_time": "2019-02-23T21:23:28.517988Z"
    }
   },
   "outputs": [
    {
     "name": "stdout",
     "output_type": "stream",
     "text": [
      "\n",
      "has NaN mismatch train vs test:\n",
      "===================================\n",
      "\n",
      "has NaN mismatch test vs train:\n",
      "=================================\n",
      "\n",
      "dtype mismatch:\n",
      "==============\n",
      "\n",
      "unique categorical values mismatch in train:\n",
      "==============================================\n",
      "\n",
      "unique categorical values mismatch in test:\n",
      "==============================================\n"
     ]
    }
   ],
   "source": [
    "scif.df_comp(df_train_proc.drop([\"SalePrice\"], axis=1), df_test_proc, \"train\", \"test\")"
   ]
  },
  {
   "cell_type": "markdown",
   "metadata": {},
   "source": [
    "## Split data"
   ]
  },
  {
   "cell_type": "code",
   "execution_count": 88,
   "metadata": {
    "ExecuteTime": {
     "end_time": "2019-02-23T21:23:29.118462Z",
     "start_time": "2019-02-23T21:23:29.020292Z"
    }
   },
   "outputs": [
    {
     "name": "stdout",
     "output_type": "stream",
     "text": [
      "(1441, 245) (1441,) (1459, 245)\n"
     ]
    }
   ],
   "source": [
    "X_train = df_train_proc.set_index(\"Id\")\n",
    "y = X_train['SalePrice']\n",
    "X_train = X_train.drop('SalePrice', axis=1)\n",
    "\n",
    "X_score = df_test_proc.set_index(\"Id\")\n",
    "\n",
    "print(X_train.shape, y.shape, X_score.shape)"
   ]
  },
  {
   "cell_type": "markdown",
   "metadata": {},
   "source": [
    "## Save"
   ]
  },
  {
   "cell_type": "code",
   "execution_count": 89,
   "metadata": {
    "ExecuteTime": {
     "end_time": "2019-02-23T21:23:29.393140Z",
     "start_time": "2019-02-23T21:23:29.120819Z"
    }
   },
   "outputs": [],
   "source": [
    "path = 'processed_minimal'\n",
    "!mkdir -p $path\n",
    "X_train.to_msgpack(f'{path}/X.msgpack')\n",
    "y.to_msgpack(f'{path}/y.msgpack')\n",
    "X_score.to_msgpack(f'{path}/X_score.msgpack')\n",
    "\n",
    "# from sklearn.externals import joblib\n",
    "# joblib.dump(y_tr, f'{path}/y_tr.joblib')\n"
   ]
  },
  {
   "cell_type": "markdown",
   "metadata": {},
   "source": [
    "## Quick Test"
   ]
  },
  {
   "cell_type": "code",
   "execution_count": 90,
   "metadata": {
    "ExecuteTime": {
     "end_time": "2019-02-23T21:23:29.479990Z",
     "start_time": "2019-02-23T21:23:29.396545Z"
    }
   },
   "outputs": [],
   "source": [
    "import sklearn.utils\n",
    "from sklearn.linear_model import *\n",
    "import sci"
   ]
  },
  {
   "cell_type": "code",
   "execution_count": 91,
   "metadata": {
    "ExecuteTime": {
     "end_time": "2019-02-23T21:23:38.211902Z",
     "start_time": "2019-02-23T21:23:29.482424Z"
    }
   },
   "outputs": [
    {
     "name": "stdout",
     "output_type": "stream",
     "text": [
      "(1439, 163) (1439,)\n",
      "CV for XGBRegressor ..\n"
     ]
    },
    {
     "name": "stderr",
     "output_type": "stream",
     "text": [
      "[Parallel(n_jobs=11)]: Using backend LokyBackend with 11 concurrent workers.\n",
      "[Parallel(n_jobs=11)]: Done   7 out of  10 | elapsed:    8.5s remaining:    3.6s\n",
      "[Parallel(n_jobs=11)]: Done  10 out of  10 | elapsed:    8.6s finished\n"
     ]
    },
    {
     "data": {
      "text/html": [
       "<div>\n",
       "<style scoped>\n",
       "    .dataframe tbody tr th:only-of-type {\n",
       "        vertical-align: middle;\n",
       "    }\n",
       "\n",
       "    .dataframe tbody tr th {\n",
       "        vertical-align: top;\n",
       "    }\n",
       "\n",
       "    .dataframe thead th {\n",
       "        text-align: right;\n",
       "    }\n",
       "</style>\n",
       "<table border=\"1\" class=\"dataframe\">\n",
       "  <thead>\n",
       "    <tr style=\"text-align: right;\">\n",
       "      <th></th>\n",
       "      <th>mean</th>\n",
       "      <th>std</th>\n",
       "    </tr>\n",
       "  </thead>\n",
       "  <tbody>\n",
       "    <tr>\n",
       "      <th>XGBRegressor</th>\n",
       "      <td>0.1069</td>\n",
       "      <td>0.0039</td>\n",
       "    </tr>\n",
       "  </tbody>\n",
       "</table>\n",
       "</div>"
      ],
      "text/plain": [
       "               mean    std\n",
       "XGBRegressor 0.1069 0.0039"
      ]
     },
     "metadata": {},
     "output_type": "display_data"
    },
    {
     "name": "stderr",
     "output_type": "stream",
     "text": [
      "Can't plot with only a single or no samples\n"
     ]
    }
   ],
   "source": [
    "import xgboost\n",
    "\n",
    "# model = ElasticNetCV(l1_ratio=0.5)\n",
    "model = xgboost.XGBRegressor()\n",
    "\n",
    "data = sci.load_data(path)\n",
    "cv_scores = sci.score_cv(data, model, rmse_score, verbose=2, cv=10)"
   ]
  },
  {
   "cell_type": "code",
   "execution_count": null,
   "metadata": {},
   "outputs": [],
   "source": []
  },
  {
   "cell_type": "code",
   "execution_count": null,
   "metadata": {},
   "outputs": [],
   "source": []
  },
  {
   "cell_type": "code",
   "execution_count": null,
   "metadata": {},
   "outputs": [],
   "source": []
  }
 ],
 "metadata": {
  "kernelspec": {
   "display_name": "Python 3",
   "language": "python",
   "name": "python3"
  },
  "language_info": {
   "codemirror_mode": {
    "name": "ipython",
    "version": 3
   },
   "file_extension": ".py",
   "mimetype": "text/x-python",
   "name": "python",
   "nbconvert_exporter": "python",
   "pygments_lexer": "ipython3",
   "version": "3.6.8"
  }
 },
 "nbformat": 4,
 "nbformat_minor": 2
}
