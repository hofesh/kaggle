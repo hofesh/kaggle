{
 "cells": [
  {
   "cell_type": "code",
   "execution_count": 1,
   "metadata": {
    "ExecuteTime": {
     "end_time": "2019-02-24T13:23:05.710264Z",
     "start_time": "2019-02-24T13:23:01.730376Z"
    }
   },
   "outputs": [
    {
     "name": "stderr",
     "output_type": "stream",
     "text": [
      "/Users/user/miniconda3/envs/test2/lib/python3.6/site-packages/lightgbm/__init__.py:46: UserWarning: Starting from version 2.2.1, the library file in distribution wheels for macOS is built by the Apple Clang (Xcode_8.3.1) compiler.\n",
      "This means that in case of installing LightGBM from PyPI via the ``pip install lightgbm`` command, you don't need to install the gcc compiler anymore.\n",
      "Instead of that, you need to install the OpenMP library, which is required for running LightGBM on the system with the Apple Clang compiler.\n",
      "You can install the OpenMP library by the following command: ``brew install libomp``.\n",
      "  \"You can install the OpenMP library by the following command: ``brew install libomp``.\", UserWarning)\n",
      "Using TensorFlow backend.\n"
     ]
    }
   ],
   "source": [
    "%load_ext autoreload\n",
    "%autoreload 2\n",
    "\n",
    "import sys\n",
    "sys.path.insert(0, \"/Users/user/git/datasci\")\n",
    "from sci.metrics import rmse_score\n",
    "from plots import *\n",
    "import sci.features as scif\n",
    "import sci.learn as sci\n",
    "import sci.plots as scip\n",
    "\n",
    "\n",
    "import pandas as pd\n",
    "pd.set_option('display.float_format', lambda x: '{:.4f}'.format(x)) #Limiting floats output to\n",
    "pd.options.display.max_rows = 999\n",
    "\n",
    "import numpy as np\n",
    "\n",
    "import seaborn as sns\n",
    "color = sns.color_palette()\n",
    "sns.set_style('darkgrid')\n"
   ]
  },
  {
   "cell_type": "markdown",
   "metadata": {},
   "source": [
    "## Load Data"
   ]
  },
  {
   "cell_type": "code",
   "execution_count": 10,
   "metadata": {
    "ExecuteTime": {
     "end_time": "2019-02-24T13:24:53.978623Z",
     "start_time": "2019-02-24T13:24:53.087955Z"
    }
   },
   "outputs": [],
   "source": [
    "# raw data\n",
    "df_train = pd.read_csv('data/train.csv')\n",
    "df_test = pd.read_csv('data/test.csv')"
   ]
  },
  {
   "cell_type": "code",
   "execution_count": 11,
   "metadata": {
    "ExecuteTime": {
     "end_time": "2019-02-24T13:24:54.047264Z",
     "start_time": "2019-02-24T13:24:53.980507Z"
    }
   },
   "outputs": [
    {
     "name": "stdout",
     "output_type": "stream",
     "text": [
      "(250,)\n",
      "(250, 301)\n",
      "(250, 300)\n",
      "(19750, 300)\n"
     ]
    }
   ],
   "source": [
    "df_train = df_train.set_index(\"id\")\n",
    "df_test = df_test.set_index(\"id\")\n",
    "\n",
    "y = df_train[\"target\"]\n",
    "X = df_train.drop('target', axis=1)\n",
    "\n",
    "print(y.shape)\n",
    "print(df_train.shape)\n",
    "print(X.shape)\n",
    "print(df_test.shape)"
   ]
  },
  {
   "cell_type": "code",
   "execution_count": 12,
   "metadata": {
    "ExecuteTime": {
     "end_time": "2019-02-24T13:24:54.699001Z",
     "start_time": "2019-02-24T13:24:54.611130Z"
    }
   },
   "outputs": [],
   "source": [
    "from sklearn.preprocessing import StandardScaler\n",
    "scaler = StandardScaler()\n",
    "X_proc = scaler.fit_transform(X)\n",
    "df_test_proc = scaler.transform(df_test)\n",
    "\n",
    "X_proc = pd.DataFrame(X_proc, index=X.index, columns=X.columns)\n",
    "df_test_proc = pd.DataFrame(df_test_proc, index=df_test.index, columns=df_test.columns)"
   ]
  },
  {
   "cell_type": "markdown",
   "metadata": {},
   "source": [
    "## Save"
   ]
  },
  {
   "cell_type": "code",
   "execution_count": 13,
   "metadata": {
    "ExecuteTime": {
     "end_time": "2019-02-24T13:25:04.464920Z",
     "start_time": "2019-02-24T13:25:04.152627Z"
    }
   },
   "outputs": [],
   "source": [
    "path = 'processed_min'\n",
    "!mkdir -p $path\n",
    "X_proc.to_msgpack(f'{path}/X.msgpack')\n",
    "y.to_msgpack(f'{path}/y.msgpack')\n",
    "df_test_proc.to_msgpack(f'{path}/X_score.msgpack')\n",
    "\n",
    "# from sklearn.externals import joblib\n",
    "# joblib.dump(y_tr, f'{path}/y_tr.joblib')\n"
   ]
  },
  {
   "cell_type": "markdown",
   "metadata": {},
   "source": [
    "## Quick Test"
   ]
  },
  {
   "cell_type": "code",
   "execution_count": 14,
   "metadata": {
    "ExecuteTime": {
     "end_time": "2019-02-24T13:25:09.767396Z",
     "start_time": "2019-02-24T13:25:09.706294Z"
    }
   },
   "outputs": [],
   "source": [
    "import sklearn.utils\n",
    "from sklearn.linear_model import *\n",
    "import sci\n",
    "from sklearn.metrics import roc_auc_score, make_scorer"
   ]
  },
  {
   "cell_type": "code",
   "execution_count": 15,
   "metadata": {
    "ExecuteTime": {
     "end_time": "2019-02-24T13:25:12.245956Z",
     "start_time": "2019-02-24T13:25:09.944790Z"
    }
   },
   "outputs": [
    {
     "name": "stdout",
     "output_type": "stream",
     "text": [
      "(250, 300) (250,)\n",
      "CV for SVC ..\n"
     ]
    },
    {
     "name": "stderr",
     "output_type": "stream",
     "text": [
      "[Parallel(n_jobs=11)]: Using backend LokyBackend with 11 concurrent workers.\n",
      "[Parallel(n_jobs=11)]: Done   7 out of  10 | elapsed:    2.0s remaining:    0.9s\n",
      "[Parallel(n_jobs=11)]: Done  10 out of  10 | elapsed:    2.0s finished\n"
     ]
    },
    {
     "data": {
      "text/html": [
       "<div>\n",
       "<style scoped>\n",
       "    .dataframe tbody tr th:only-of-type {\n",
       "        vertical-align: middle;\n",
       "    }\n",
       "\n",
       "    .dataframe tbody tr th {\n",
       "        vertical-align: top;\n",
       "    }\n",
       "\n",
       "    .dataframe thead th {\n",
       "        text-align: right;\n",
       "    }\n",
       "</style>\n",
       "<table border=\"1\" class=\"dataframe\">\n",
       "  <thead>\n",
       "    <tr style=\"text-align: right;\">\n",
       "      <th></th>\n",
       "      <th>mean</th>\n",
       "      <th>std</th>\n",
       "    </tr>\n",
       "  </thead>\n",
       "  <tbody>\n",
       "    <tr>\n",
       "      <th>SVC</th>\n",
       "      <td>0.7444</td>\n",
       "      <td>0.0311</td>\n",
       "    </tr>\n",
       "  </tbody>\n",
       "</table>\n",
       "</div>"
      ],
      "text/plain": [
       "      mean    std\n",
       "SVC 0.7444 0.0311"
      ]
     },
     "metadata": {},
     "output_type": "display_data"
    },
    {
     "name": "stderr",
     "output_type": "stream",
     "text": [
      "Can't plot with only a single or no samples\n"
     ]
    }
   ],
   "source": [
    "import xgboost\n",
    "from sklearn.svm import SVC, LinearSVC, NuSVC\n",
    "\n",
    "# model = ElasticNetCV(l1_ratio=0.5)\n",
    "# model = xgboost.XGBClassifier()\n",
    "model = SVC(kernel=\"linear\", C=0.025, probability=True)\n",
    "\n",
    "sci.metric_global = roc_auc_score\n",
    "sci.scoring_global = make_scorer(sci.metric_global, needs_proba=True)\n",
    "\n",
    "data = sci.load_data(path)\n",
    "cv_scores = sci.score_cv(data, model, scoring=sci.scoring_global, verbose=2, cv=10)"
   ]
  },
  {
   "cell_type": "code",
   "execution_count": null,
   "metadata": {},
   "outputs": [],
   "source": []
  },
  {
   "cell_type": "code",
   "execution_count": null,
   "metadata": {},
   "outputs": [],
   "source": []
  }
 ],
 "metadata": {
  "kernelspec": {
   "display_name": "Python 3",
   "language": "python",
   "name": "python3"
  },
  "language_info": {
   "codemirror_mode": {
    "name": "ipython",
    "version": 3
   },
   "file_extension": ".py",
   "mimetype": "text/x-python",
   "name": "python",
   "nbconvert_exporter": "python",
   "pygments_lexer": "ipython3",
   "version": "3.6.8"
  }
 },
 "nbformat": 4,
 "nbformat_minor": 2
}
