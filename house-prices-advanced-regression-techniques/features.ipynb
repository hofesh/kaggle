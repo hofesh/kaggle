{
 "cells": [
  {
   "cell_type": "code",
   "execution_count": 242,
   "metadata": {
    "ExecuteTime": {
     "end_time": "2019-02-23T18:34:28.865915Z",
     "start_time": "2019-02-23T18:34:28.537265Z"
    }
   },
   "outputs": [
    {
     "name": "stdout",
     "output_type": "stream",
     "text": [
      "The autoreload extension is already loaded. To reload it, use:\n",
      "  %reload_ext autoreload\n"
     ]
    }
   ],
   "source": [
    "%load_ext autoreload\n",
    "%autoreload 2\n",
    "\n",
    "import sys\n",
    "sys.path.insert(0, \"/Users/user/git/datasci\")\n",
    "from sci.metrics import rmse_score\n",
    "from plots import *\n",
    "import sci.features as scif\n",
    "import sci.learn as sci\n",
    "import sci.plots as scip\n",
    "\n",
    "\n",
    "import pandas as pd\n",
    "pd.set_option('display.float_format', lambda x: '{:.4f}'.format(x)) #Limiting floats output to\n",
    "pd.options.display.max_rows = 999\n",
    "\n",
    "import numpy as np\n",
    "\n",
    "import seaborn as sns\n",
    "color = sns.color_palette()\n",
    "sns.set_style('darkgrid')\n"
   ]
  },
  {
   "cell_type": "markdown",
   "metadata": {},
   "source": [
    "## Load Data"
   ]
  },
  {
   "cell_type": "code",
   "execution_count": 243,
   "metadata": {
    "ExecuteTime": {
     "end_time": "2019-02-23T18:34:29.035306Z",
     "start_time": "2019-02-23T18:34:28.869974Z"
    }
   },
   "outputs": [],
   "source": [
    "# raw data\n",
    "df_train = pd.read_csv('data/train.csv')\n",
    "df_test = pd.read_csv('data/test.csv')\n",
    "\n",
    "train_df = df_train\n",
    "test_df = df_test"
   ]
  },
  {
   "cell_type": "markdown",
   "metadata": {},
   "source": [
    "## Starts"
   ]
  },
  {
   "cell_type": "code",
   "execution_count": 244,
   "metadata": {
    "ExecuteTime": {
     "end_time": "2019-02-23T18:34:29.098368Z",
     "start_time": "2019-02-23T18:34:29.037879Z"
    }
   },
   "outputs": [],
   "source": [
    "scif.normalize_feature_names(df_train, df_test)\n",
    "# switch target price to log scale, it's more normal and scoring is easier for rmsle\n",
    "# df_train['SalePrice'] = np.log1p(df_train['SalePrice'])"
   ]
  },
  {
   "cell_type": "markdown",
   "metadata": {},
   "source": [
    "## Normalize Target"
   ]
  },
  {
   "cell_type": "code",
   "execution_count": 245,
   "metadata": {
    "ExecuteTime": {
     "end_time": "2019-02-23T18:34:29.165307Z",
     "start_time": "2019-02-23T18:34:29.100761Z"
    }
   },
   "outputs": [],
   "source": [
    "df_train['SalePrice'] = np.log1p(df_train['SalePrice'])"
   ]
  },
  {
   "cell_type": "code",
   "execution_count": 246,
   "metadata": {
    "ExecuteTime": {
     "end_time": "2019-02-23T18:34:29.228299Z",
     "start_time": "2019-02-23T18:34:29.167487Z"
    }
   },
   "outputs": [],
   "source": [
    "# from sklearn.preprocessing import QuantileTransformer\n",
    "# y_tr = QuantileTransformer(output_distribution='normal')\n",
    "# df_train['SalePrice'] = y_tr.fit_transform(df_train[['SalePrice']])[:, 0]"
   ]
  },
  {
   "cell_type": "code",
   "execution_count": 247,
   "metadata": {
    "ExecuteTime": {
     "end_time": "2019-02-23T18:34:29.290548Z",
     "start_time": "2019-02-23T18:34:29.230591Z"
    }
   },
   "outputs": [],
   "source": [
    "# from scipy.special import boxcox1p\n",
    "# from scipy.stats import boxcox_normmax\n",
    "\n",
    "# lam = boxcox_normmax(df_train['SalePrice'])\n",
    "# df_train['SalePrice'] = boxcox1p(df_train['SalePrice'], lam)\n",
    "\n",
    "# print(f'optimal lambda: {lam}')"
   ]
  },
  {
   "cell_type": "markdown",
   "metadata": {},
   "source": [
    "## Drop outliers from train data"
   ]
  },
  {
   "cell_type": "markdown",
   "metadata": {},
   "source": [
    "### Manual outlier handling"
   ]
  },
  {
   "cell_type": "code",
   "execution_count": 248,
   "metadata": {
    "ExecuteTime": {
     "end_time": "2019-02-23T18:34:29.361503Z",
     "start_time": "2019-02-23T18:34:29.295083Z"
    }
   },
   "outputs": [],
   "source": [
    "# There are a few houses with more than 4000 sq ft living area that are\n",
    "# outliers, so we drop them from the training data. (There is also one in\n",
    "# the test set but we obviously can't drop that one.)\n",
    "df_train.drop(df_train[df_train[\"GrLivArea\"] > 4000].index, inplace=True)"
   ]
  },
  {
   "cell_type": "markdown",
   "metadata": {},
   "source": [
    "### Automatic outlier handling"
   ]
  },
  {
   "cell_type": "code",
   "execution_count": null,
   "metadata": {},
   "outputs": [],
   "source": []
  },
  {
   "cell_type": "markdown",
   "metadata": {},
   "source": [
    "## Clean Data Types"
   ]
  },
  {
   "cell_type": "code",
   "execution_count": 249,
   "metadata": {
    "ExecuteTime": {
     "end_time": "2019-02-23T18:34:30.003729Z",
     "start_time": "2019-02-23T18:34:29.365114Z"
    }
   },
   "outputs": [
    {
     "data": {
      "text/html": [
       "<div>\n",
       "<style scoped>\n",
       "    .dataframe tbody tr th:only-of-type {\n",
       "        vertical-align: middle;\n",
       "    }\n",
       "\n",
       "    .dataframe tbody tr th {\n",
       "        vertical-align: top;\n",
       "    }\n",
       "\n",
       "    .dataframe thead th {\n",
       "        text-align: right;\n",
       "    }\n",
       "</style>\n",
       "<table border=\"1\" class=\"dataframe\">\n",
       "  <thead>\n",
       "    <tr style=\"text-align: right;\">\n",
       "      <th></th>\n",
       "      <th>types</th>\n",
       "      <th>n_types</th>\n",
       "    </tr>\n",
       "  </thead>\n",
       "  <tbody>\n",
       "  </tbody>\n",
       "</table>\n",
       "</div>"
      ],
      "text/plain": [
       "Empty DataFrame\n",
       "Columns: [types, n_types]\n",
       "Index: []"
      ]
     },
     "metadata": {},
     "output_type": "display_data"
    },
    {
     "data": {
      "text/html": [
       "<div>\n",
       "<style scoped>\n",
       "    .dataframe tbody tr th:only-of-type {\n",
       "        vertical-align: middle;\n",
       "    }\n",
       "\n",
       "    .dataframe tbody tr th {\n",
       "        vertical-align: top;\n",
       "    }\n",
       "\n",
       "    .dataframe thead th {\n",
       "        text-align: right;\n",
       "    }\n",
       "</style>\n",
       "<table border=\"1\" class=\"dataframe\">\n",
       "  <thead>\n",
       "    <tr style=\"text-align: right;\">\n",
       "      <th></th>\n",
       "      <th>types</th>\n",
       "      <th>n_types</th>\n",
       "    </tr>\n",
       "  </thead>\n",
       "  <tbody>\n",
       "  </tbody>\n",
       "</table>\n",
       "</div>"
      ],
      "text/plain": [
       "Empty DataFrame\n",
       "Columns: [types, n_types]\n",
       "Index: []"
      ]
     },
     "metadata": {},
     "output_type": "display_data"
    }
   ],
   "source": [
    "# columsn with more than one data type (excluding NaN values)\n",
    "display(scif.types_of_df(df_train, more_than_one=True))\n",
    "display(scif.types_of_df(df_test, more_than_one=True))"
   ]
  },
  {
   "cell_type": "markdown",
   "metadata": {},
   "source": [
    "## Missing Values\n",
    "- drop columns with mostly missing values: these might have very little value for generalization\n",
    "- columns with few missing values: we can drop the samples, or impute them. Dropping is only possible for the train_set, we can't drop from the live scoring set\n",
    "- we can drop samples with missing values, but that isn't a good option when we don't have many samples, plus they can be special cases which we do want to model\n",
    "- we can impute (fill) missing values, this makes sense sometimes, but not always as sometimes:\n",
    "- missing values can represent a special \"state\", like value is missing since for this sample it's irrelevant. Filling this value would be incorrect."
   ]
  },
  {
   "cell_type": "markdown",
   "metadata": {},
   "source": [
    "### Manual"
   ]
  },
  {
   "cell_type": "code",
   "execution_count": 250,
   "metadata": {
    "ExecuteTime": {
     "end_time": "2019-02-23T18:34:30.101624Z",
     "start_time": "2019-02-23T18:34:30.007351Z"
    }
   },
   "outputs": [],
   "source": [
    "# The test example with ID 666 has GarageArea, GarageCars, and GarageType \n",
    "# but none of the other fields, so use the mode and median to fill them in.\n",
    "test_df.loc[666, \"GarageQual\"] = \"TA\"\n",
    "test_df.loc[666, \"GarageCond\"] = \"TA\"\n",
    "test_df.loc[666, \"GarageFinish\"] = \"Unf\"\n",
    "test_df.loc[666, \"GarageYrBlt\"] = 1980\n",
    "\n",
    "# The test example 1116 only has GarageType but no other information. We'll \n",
    "# assume it does not have a garage.\n",
    "test_df.loc[1116, \"GarageType\"] = np.nan\n",
    "test_df.loc[1116, \"GarageArea\"] = 0\n",
    "test_df.loc[1116, \"GarageCars\"] = 0\n",
    "test_df.loc[1116, \"GarageYrBlt\"] = np.nan\n",
    "\n",
    "# For imputing missing values: fill in missing LotFrontage values by the median LotFrontage of the neighborhood.\n",
    "# Note that we use the \"train\" values to also fill the \"test\" values\n",
    "lot_frontage_by_neighborhood = train_df.groupby(\"Neighborhood\")[\"LotFrontage\"].median()"
   ]
  },
  {
   "cell_type": "markdown",
   "metadata": {},
   "source": [
    "### encoding string features:\n",
    "- opt-1: pd.factorize() and sklearn.LabelEncoder(): convert a single string feature to a single int features by mapping each label value to a number (and remember the mapping for later use)\n",
    "- opt-2: pd.get_dummies() and sklearn.OneHotEncoder(): convert a single string feature to many bool features, 1-per label value\n",
    "- note: get_dummies also supports drop_first which helps reduce dimensions and colinearity\n",
    "but to be 100% sure we don't have different dummies between what the model expects (train) and test, we should use OneHotEncoder\n"
   ]
  },
  {
   "cell_type": "markdown",
   "metadata": {},
   "source": [
    "## Main Processing"
   ]
  },
  {
   "cell_type": "code",
   "execution_count": 251,
   "metadata": {
    "ExecuteTime": {
     "end_time": "2019-02-23T18:34:30.942445Z",
     "start_time": "2019-02-23T18:34:30.104744Z"
    }
   },
   "outputs": [],
   "source": [
    "def process(df):\n",
    "    \n",
    "    # Fill LotFrontage based on median LotFrontage by Neighborhood\n",
    "    # we could do it based on the data in the given DF\n",
    "    # but the more correct way is to use the train data\n",
    "    # df[\"LotFrontage\"] = df.groupby(\"Neighborhood\")[\"LotFrontage\"].transform(lambda x: x.fillna(x.median())) \n",
    "    df[\"LotFrontage\"] = df.groupby(\"Neighborhood\")[\"LotFrontage\"].transform(lambda x: x.fillna(lot_frontage_by_neighborhood[x.name])) \n",
    "    \n",
    "    # fill NA with '0'\n",
    "    cols = ['MasVnrArea', 'BsmtFullBath', 'BsmtHalfBath', 'BsmtUnfSF', 'BsmtFinSF1', 'BsmtFinSF2', 'TotalBsmtSF']\n",
    "    df[cols] = df[cols].fillna(0)\n",
    "    \n",
    "    # fill NA with median\n",
    "    cols = ['GarageYrBlt', ]\n",
    "    df[cols] = df[cols].transform(lambda x: x.fillna(x.median()))\n",
    "    \n",
    "    # fill NA with mode\n",
    "    cols = ['MSZoning', ]\n",
    "    df[cols] = df[cols].transform(lambda x: x.fillna(x.mode()[0]))\n",
    "    \n",
    "    \n",
    "    fmap = \"\"\"20\t1-STORY 1946 & NEWER ALL STYLES\n",
    "    30\t1-STORY 1945 & OLDER\n",
    "    40\t1-STORY W/FINISHED ATTIC ALL AGES\n",
    "    45\t1-1/2 STORY - UNFINISHED ALL AGES\n",
    "    50\t1-1/2 STORY FINISHED ALL AGES\n",
    "    60\t2-STORY 1946 & NEWER\n",
    "    70\t2-STORY 1945 & OLDER\n",
    "    75\t2-1/2 STORY ALL AGES\n",
    "    80\tSPLIT OR MULTI-LEVEL\n",
    "    85\tSPLIT FOYER\n",
    "    90\tDUPLEX - ALL STYLES AND AGES\n",
    "    120\t1-STORY PUD (Planned Unit Development) - 1946 & NEWER\n",
    "    150\t1-1/2 STORY PUD - ALL AGES\n",
    "    160\t2-STORY PUD - 1946 & NEWER\n",
    "    180\tPUD - MULTILEVEL - INCL SPLIT LEV/FOYER\n",
    "    190\t2 FAMILY CONVERSION - ALL STYLES AND AGES\"\"\"\n",
    "\n",
    "    fmap = [x.split('\\t') for x in fmap.split('\\n')]\n",
    "    fmap = dict((int(x[0]), x[1]) for x in fmap)\n",
    "    df['MSSubClass_'] = df['MSSubClass'].apply(lambda x: fmap[x])    \n",
    "    \n",
    "    df['is_PUD'] = df['MSSubClass_'].str.contains(\"PUD\")\n",
    "    # we already have Duplex and 2-family-conv covered in BldgType\n",
    "#     df['is_Duplex'] = df['MSSubClass_'].str.startswith(\"DUPLEX\")\n",
    "#     df['is_2FamConv'] = df['MSSubClass_'].str.startswith(\"2 FAMILY CONVERSION\")\n",
    "    df.drop(['MSSubClass', 'MSSubClass_'], axis=1, inplace=True)\n",
    "\n",
    "    \n",
    "    # stories feature\n",
    "    # we have two features indicating num of stories, some of them are conflicting, and some don't have exact story count\n",
    "#     display(pd.crosstab(df['MSSubClass'], df['HouseStyle']))\n",
    "    # we use the HouseStyle feature to deduce exact floors count, and keep np.nan when it's unclear\n",
    "    # the nan values will be filled later on with the final imputation\n",
    "    fmap = {'1Story': 1, '1.5Fin': 1.5, '1.5Unf': 1.5, '2Story': 2, '2.5Fin': 2.5, '2.5Unf': 2.5, 'SFoyer': np.nan, 'SLvl': np.nan}\n",
    "    df['floors'] = df['HouseStyle'].apply(lambda x: fmap[x])\n",
    "    df['is_split_floor'] = (df['HouseStyle'] == 'SFoyer') | (df['HouseStyle'] == 'SLvl')\n",
    "    df['is_unfinished'] = df['HouseStyle'].str.endswith(\"Unf\")\n",
    "    # we then drop the HouseStyle which is no longer needed\n",
    "    df.drop('HouseStyle', axis=1, inplace=True)\n",
    "\n",
    "    df['is_residential'] = df['MSZoning'].isin(set(['FV', 'RH', 'RL', 'RP', 'RM']))\n",
    "    fmap = {np.nan: 0, 'A': 0, 'C (all)': 0, 'I': 0, 'FV': 1, 'RP': 2, 'RL': 3, 'RM': 4, 'RH': 5}\n",
    "    df['residential_density'] = df['MSZoning'].apply(lambda x: fmap[x])\n",
    "    df.drop('MSZoning', axis=1, inplace=True)\n",
    "    \n",
    "    cond1 = pd.get_dummies(df[['Condition1']], columns=['Condition1'], prefix=\"Condition\")\n",
    "    cond2 = pd.get_dummies(df[['Condition2']], columns=['Condition2'], prefix=\"Condition\")\n",
    "    df = df.join(cond1|cond2)\n",
    "    df.drop(['Condition1', 'Condition2'], axis=1, inplace=True)\n",
    "    \n",
    "    part1 = pd.get_dummies(df[['Exterior1st']], columns=['Exterior1st'], prefix=\"Exterior\")\n",
    "    part2 = pd.get_dummies(df[['Exterior2nd']], columns=['Exterior2nd'], prefix=\"Exterior\")\n",
    "    df = df.join(part1|part2)\n",
    "    df.drop(['Exterior1st', 'Exterior2nd'], axis=1, inplace=True)\n",
    "    # hack fix for Exterior_Other in train but not test:\n",
    "    if not 'Exterior_Other' in df.columns:\n",
    "        df['Exterior_Other'] = 0\n",
    "    \n",
    "    df[\"has_shed\"] = df['MiscFeature'] == 'Shed'\n",
    "    df.drop(['MiscFeature'], axis=1, inplace=True)\n",
    "    \n",
    "    df[\"sale_new\"] = df['SaleType'] == 'New'\n",
    "    df[\"sale_court\"] = df['SaleType'] == 'COD'\n",
    "    df[\"sale_deed\"] = df['SaleType'].isin(['WD', 'CWD', 'VWD'])\n",
    "    df.drop(['SaleType'], axis=1, inplace=True)\n",
    "    \n",
    "    df['decade_built'] = (df['YearBuilt']/10).astype(int)*10\n",
    "#     df.drop(['YearBuilt'], axis=1, inplace=True)\n",
    "    # should we drop YearBuilt?\n",
    "    df['decade_remode'] = (df['YearRemodAdd']/10).astype(int)*10\n",
    "#     df.drop(['YearRemodAdd'], axis=1, inplace=True)\n",
    "    # should we drop YearRemodAdd?\n",
    "\n",
    "    df['TotalSF'] = df['TotalBsmtSF'] + df['1stFlrSF'] + df['2ndFlrSF']\n",
    "    \n",
    "    scif.from_cat_to_numeric(df, \"Alley\", 'NA,Grvl,Pave', 'NA')\n",
    "    scif.from_cat_to_numeric(df, \"LotShape\", 'IR3,IR2,IR1,Reg')\n",
    "    scif.from_cat_to_numeric(df, \"LandSlope\", 'Gtl,Mod,Sev')\n",
    "    scif.from_cat_to_numeric(df, \"ExterQual\", 'Po,Fa,TA,Gd,Ex')\n",
    "    scif.from_cat_to_numeric(df, \"ExterCond\", 'Po,Fa,TA,Gd,Ex')\n",
    "    scif.from_cat_to_numeric(df, \"BsmtQual\", 'NA,Po,Fa,TA,Gd,Ex', 'NA')\n",
    "    scif.from_cat_to_numeric(df, \"BsmtCond\", 'NA,Po,Fa,TA,Gd,Ex', 'NA')\n",
    "    scif.from_cat_to_numeric(df, \"BsmtExposure\", 'NA,No,Mn,Av,Gd', 'NA')\n",
    "    scif.from_cat_to_numeric(df, \"BsmtFinType1\", 'NA,Unf,LwQ,Rec,BLQ,ALQ,GLQ', 'NA')\n",
    "    scif.from_cat_to_numeric(df, \"BsmtFinType2\", 'NA,Unf,LwQ,Rec,BLQ,ALQ,GLQ', 'NA')\n",
    "    scif.from_cat_to_numeric(df, \"HeatingQC\", 'Po,Fa,TA,Gd,Ex')\n",
    "    scif.from_cat_to_numeric(df, \"Electrical\", 'Mix,FuseP,FuseF,FuseA,SBrkr', np.nan)\n",
    "    scif.from_cat_to_numeric(df, \"KitchenQual\", 'Po,Fa,TA,Gd,Ex', np.nan)\n",
    "    scif.from_cat_to_numeric(df, \"Functional\", 'Sal,Sev,Maj2,Maj1,Mod,Min2,Min1,Typ', np.nan)\n",
    "    scif.from_cat_to_numeric(df, \"FireplaceQu\", 'NA,Po,Fa,TA,Gd,Ex', 'NA')\n",
    "    scif.from_cat_to_numeric(df, \"GarageType\", 'NA,CarPort,Basment,2Types,Detchd,Attchd,BuiltIn', \"NA\")\n",
    "    scif.from_cat_to_numeric(df, \"GarageFinish\", 'NA,Unf,RFn,Fin', \"NA\")\n",
    "    scif.from_cat_to_numeric(df, \"GarageQual\", 'NA,Po,Fa,TA,Gd,Ex', 'NA')\n",
    "    scif.from_cat_to_numeric(df, \"GarageCond\", 'NA,Po,Fa,TA,Gd,Ex', 'NA')\n",
    "    scif.from_cat_to_numeric(df, \"PavedDrive\", 'N,P,Y')\n",
    "    scif.from_cat_to_numeric(df, \"PoolQC\", 'NA,Fa,TA,Gd,Ex', 'NA')\n",
    "    scif.from_cat_to_numeric(df, \"Fence\", 'NA,MnWw,GdWo,MnPrv,GdPrv', 'NA')\n",
    "    \n",
    "    \n",
    "    # one-hot-encode\n",
    "    # we can auto-encode all 'object' features\n",
    "    # but if we want to be careful, it's best to add them one by one, and see if we forgot something\n",
    "    # to_one_hot_encode = df.dtypes[df.dtypes == \"object\"].index.values \n",
    "    to_one_hot_encode = ['BldgType', 'Street', 'LandContour', 'LotConfig', 'Neighborhood', 'RoofStyle', 'MasVnrType', 'Foundation', 'CentralAir', 'SaleCondition']\n",
    "    df = pd.get_dummies(df, columns=to_one_hot_encode, drop_first=False, prefix_sep='__')\n",
    "    \n",
    "    \n",
    "    # features to simply drop\n",
    "    to_drop = ['Utilities', 'RoofMatl', 'Heating']\n",
    "    df.drop(to_drop, axis=1, inplace=True)\n",
    "    \n",
    "    return df\n",
    "    \n",
    "    \n",
    "df_train_proc = process(df_train.copy())\n",
    "df_test_proc = process(df_test.copy())\n"
   ]
  },
  {
   "cell_type": "code",
   "execution_count": 252,
   "metadata": {
    "ExecuteTime": {
     "end_time": "2019-02-23T18:34:31.008451Z",
     "start_time": "2019-02-23T18:34:30.944593Z"
    }
   },
   "outputs": [],
   "source": [
    "# Utility for exploration\n",
    "# cols = [c for c in df.columns if df[c].dtype == \"object\"]\n",
    "# df[cols] = df[cols].fillna('MISSING')"
   ]
  },
  {
   "cell_type": "markdown",
   "metadata": {},
   "source": [
    "## Switch all to floats"
   ]
  },
  {
   "cell_type": "code",
   "execution_count": 253,
   "metadata": {
    "ExecuteTime": {
     "end_time": "2019-02-23T18:34:31.253738Z",
     "start_time": "2019-02-23T18:34:31.010985Z"
    }
   },
   "outputs": [],
   "source": [
    "for c in df_train_proc.columns:\n",
    "    df_train_proc[c] = df_train_proc[c].astype(float)\n",
    "for c in df_test_proc.columns:\n",
    "    df_test_proc[c] = df_test_proc[c].astype(float)\n"
   ]
  },
  {
   "cell_type": "markdown",
   "metadata": {},
   "source": [
    "## Impute using IterativeImputer"
   ]
  },
  {
   "cell_type": "code",
   "execution_count": 254,
   "metadata": {
    "ExecuteTime": {
     "end_time": "2019-02-23T18:34:33.555412Z",
     "start_time": "2019-02-23T18:34:31.256812Z"
    }
   },
   "outputs": [
    {
     "data": {
      "text/html": [
       "<div>\n",
       "<style scoped>\n",
       "    .dataframe tbody tr th:only-of-type {\n",
       "        vertical-align: middle;\n",
       "    }\n",
       "\n",
       "    .dataframe tbody tr th {\n",
       "        vertical-align: top;\n",
       "    }\n",
       "\n",
       "    .dataframe thead th {\n",
       "        text-align: right;\n",
       "    }\n",
       "</style>\n",
       "<table border=\"1\" class=\"dataframe\">\n",
       "  <thead>\n",
       "    <tr style=\"text-align: right;\">\n",
       "      <th></th>\n",
       "      <th>count</th>\n",
       "      <th>missing</th>\n",
       "      <th>percent</th>\n",
       "      <th>dtype</th>\n",
       "      <th>types</th>\n",
       "      <th>uniq</th>\n",
       "      <th>miss-idx</th>\n",
       "      <th>values</th>\n",
       "      <th>freq</th>\n",
       "    </tr>\n",
       "  </thead>\n",
       "  <tbody>\n",
       "    <tr>\n",
       "      <th>floors</th>\n",
       "      <td>1354</td>\n",
       "      <td>102</td>\n",
       "      <td>7.0055</td>\n",
       "      <td>float64</td>\n",
       "      <td>float</td>\n",
       "      <td>4</td>\n",
       "      <td>42, 54, 75</td>\n",
       "      <td>1.0, 1.5, 2.0, 2.5</td>\n",
       "      <td>'1.0':726, '2.0':441, '1.5':168, '2.5':19...</td>\n",
       "    </tr>\n",
       "    <tr>\n",
       "      <th>Electrical</th>\n",
       "      <td>1455</td>\n",
       "      <td>1</td>\n",
       "      <td>0.0687</td>\n",
       "      <td>float64</td>\n",
       "      <td>float</td>\n",
       "      <td>5</td>\n",
       "      <td>1379</td>\n",
       "      <td>0.0, 1.0, 2.0, 3.0, 4.0</td>\n",
       "      <td>'4.0':1330, '3.0':94, '2.0':27, '1.0':3, '0...</td>\n",
       "    </tr>\n",
       "  </tbody>\n",
       "</table>\n",
       "</div>"
      ],
      "text/plain": [
       "            count  missing  percent    dtype  types  uniq    miss-idx  \\\n",
       "floors       1354      102   7.0055  float64  float     4  42, 54, 75   \n",
       "Electrical   1455        1   0.0687  float64  float     5        1379   \n",
       "\n",
       "                             values  \\\n",
       "floors           1.0, 1.5, 2.0, 2.5   \n",
       "Electrical  0.0, 1.0, 2.0, 3.0, 4.0   \n",
       "\n",
       "                                                      freq  \n",
       "floors        '1.0':726, '2.0':441, '1.5':168, '2.5':19...  \n",
       "Electrical  '4.0':1330, '3.0':94, '2.0':27, '1.0':3, '0...  "
      ]
     },
     "metadata": {},
     "output_type": "display_data"
    },
    {
     "data": {
      "text/html": [
       "<div>\n",
       "<style scoped>\n",
       "    .dataframe tbody tr th:only-of-type {\n",
       "        vertical-align: middle;\n",
       "    }\n",
       "\n",
       "    .dataframe tbody tr th {\n",
       "        vertical-align: top;\n",
       "    }\n",
       "\n",
       "    .dataframe thead th {\n",
       "        text-align: right;\n",
       "    }\n",
       "</style>\n",
       "<table border=\"1\" class=\"dataframe\">\n",
       "  <thead>\n",
       "    <tr style=\"text-align: right;\">\n",
       "      <th></th>\n",
       "      <th>count</th>\n",
       "      <th>missing</th>\n",
       "      <th>percent</th>\n",
       "      <th>dtype</th>\n",
       "      <th>types</th>\n",
       "      <th>uniq</th>\n",
       "      <th>miss-idx</th>\n",
       "      <th>values</th>\n",
       "      <th>freq</th>\n",
       "    </tr>\n",
       "  </thead>\n",
       "  <tbody>\n",
       "    <tr>\n",
       "      <th>floors</th>\n",
       "      <td>1350</td>\n",
       "      <td>109</td>\n",
       "      <td>7.4709</td>\n",
       "      <td>float64</td>\n",
       "      <td>float</td>\n",
       "      <td>4</td>\n",
       "      <td>24, 52, 56</td>\n",
       "      <td>1.0, 1.5, 2.0, 2.5</td>\n",
       "      <td>'1.0':745, '2.0':427, '1.5':165, '2.5':13...</td>\n",
       "    </tr>\n",
       "    <tr>\n",
       "      <th>Functional</th>\n",
       "      <td>1457</td>\n",
       "      <td>2</td>\n",
       "      <td>0.1371</td>\n",
       "      <td>float64</td>\n",
       "      <td>float</td>\n",
       "      <td>7</td>\n",
       "      <td>756, 1013</td>\n",
       "      <td>1.0, 2.0, 3.0, 4.0, 5.0, 6.0, 7.0</td>\n",
       "      <td>'7.0':1357, '5.0':36, '6.0':34, '4.0':20, '...</td>\n",
       "    </tr>\n",
       "    <tr>\n",
       "      <th>KitchenQual</th>\n",
       "      <td>1458</td>\n",
       "      <td>1</td>\n",
       "      <td>0.0685</td>\n",
       "      <td>float64</td>\n",
       "      <td>float</td>\n",
       "      <td>4</td>\n",
       "      <td>95</td>\n",
       "      <td>1.0, 2.0, 3.0, 4.0</td>\n",
       "      <td>'2.0':757, '3.0':565, '4.0':105, '1.0':31...</td>\n",
       "    </tr>\n",
       "  </tbody>\n",
       "</table>\n",
       "</div>"
      ],
      "text/plain": [
       "             count  missing  percent    dtype  types  uniq    miss-idx  \\\n",
       "floors        1350      109   7.4709  float64  float     4  24, 52, 56   \n",
       "Functional    1457        2   0.1371  float64  float     7   756, 1013   \n",
       "KitchenQual   1458        1   0.0685  float64  float     4          95   \n",
       "\n",
       "                                        values  \\\n",
       "floors                      1.0, 1.5, 2.0, 2.5   \n",
       "Functional   1.0, 2.0, 3.0, 4.0, 5.0, 6.0, 7.0   \n",
       "KitchenQual                 1.0, 2.0, 3.0, 4.0   \n",
       "\n",
       "                                                       freq  \n",
       "floors         '1.0':745, '2.0':427, '1.5':165, '2.5':13...  \n",
       "Functional   '7.0':1357, '5.0':36, '6.0':34, '4.0':20, '...  \n",
       "KitchenQual    '2.0':757, '3.0':565, '4.0':105, '1.0':31...  "
      ]
     },
     "metadata": {},
     "output_type": "display_data"
    }
   ],
   "source": [
    "display(scif.df_summary(df_train_proc, missing_only=True))\n",
    "display(scif.df_summary(df_test_proc, missing_only=True))"
   ]
  },
  {
   "cell_type": "code",
   "execution_count": 255,
   "metadata": {
    "ExecuteTime": {
     "end_time": "2019-02-23T18:34:35.146273Z",
     "start_time": "2019-02-23T18:34:33.557960Z"
    }
   },
   "outputs": [],
   "source": [
    "# we are specific on the columns just to be sure we didn't miss anything\n",
    "cols_to_impute = ['floors', 'Electrical', 'Functional', 'KitchenQual']\n",
    "scif.impute_iterative(df_train_proc, columns=cols_to_impute)\n",
    "scif.impute_iterative(df_test_proc, columns=cols_to_impute)"
   ]
  },
  {
   "cell_type": "code",
   "execution_count": 256,
   "metadata": {
    "ExecuteTime": {
     "end_time": "2019-02-23T18:34:35.227270Z",
     "start_time": "2019-02-23T18:34:35.148928Z"
    }
   },
   "outputs": [],
   "source": [
    "scif.assert_no_missing_values(df_train_proc)\n",
    "scif.assert_no_missing_values(df_test_proc)"
   ]
  },
  {
   "cell_type": "markdown",
   "metadata": {},
   "source": [
    "### check and reduce skewness"
   ]
  },
  {
   "cell_type": "code",
   "execution_count": 257,
   "metadata": {
    "ExecuteTime": {
     "end_time": "2019-02-23T18:34:35.570277Z",
     "start_time": "2019-02-23T18:34:35.229656Z"
    }
   },
   "outputs": [
    {
     "data": {
      "text/html": [
       "<div>\n",
       "<style scoped>\n",
       "    .dataframe tbody tr th:only-of-type {\n",
       "        vertical-align: middle;\n",
       "    }\n",
       "\n",
       "    .dataframe tbody tr th {\n",
       "        vertical-align: top;\n",
       "    }\n",
       "\n",
       "    .dataframe thead th {\n",
       "        text-align: right;\n",
       "    }\n",
       "</style>\n",
       "<table border=\"1\" class=\"dataframe\">\n",
       "  <thead>\n",
       "    <tr style=\"text-align: right;\">\n",
       "      <th></th>\n",
       "      <th>Skew</th>\n",
       "    </tr>\n",
       "  </thead>\n",
       "  <tbody>\n",
       "    <tr>\n",
       "      <th>Exterior_CBlock</th>\n",
       "      <td>38.1182</td>\n",
       "    </tr>\n",
       "    <tr>\n",
       "      <th>Exterior_BrkComm</th>\n",
       "      <td>26.9258</td>\n",
       "    </tr>\n",
       "    <tr>\n",
       "      <th>Condition_RRNe</th>\n",
       "      <td>26.9258</td>\n",
       "    </tr>\n",
       "    <tr>\n",
       "      <th>Neighborhood__Blueste</th>\n",
       "      <td>26.9258</td>\n",
       "    </tr>\n",
       "    <tr>\n",
       "      <th>RoofStyle__Shed</th>\n",
       "      <td>26.9258</td>\n",
       "    </tr>\n",
       "    <tr>\n",
       "      <th>MiscVal</th>\n",
       "      <td>24.4182</td>\n",
       "    </tr>\n",
       "    <tr>\n",
       "      <th>Foundation__Wood</th>\n",
       "      <td>21.9621</td>\n",
       "    </tr>\n",
       "    <tr>\n",
       "      <th>Exterior_AsphShn</th>\n",
       "      <td>21.9621</td>\n",
       "    </tr>\n",
       "    <tr>\n",
       "      <th>PoolQC</th>\n",
       "      <td>21.1287</td>\n",
       "    </tr>\n",
       "    <tr>\n",
       "      <th>SaleCondition__AdjLand</th>\n",
       "      <td>19.0001</td>\n",
       "    </tr>\n",
       "  </tbody>\n",
       "</table>\n",
       "</div>"
      ],
      "text/plain": [
       "                          Skew\n",
       "Exterior_CBlock        38.1182\n",
       "Exterior_BrkComm       26.9258\n",
       "Condition_RRNe         26.9258\n",
       "Neighborhood__Blueste  26.9258\n",
       "RoofStyle__Shed        26.9258\n",
       "MiscVal                24.4182\n",
       "Foundation__Wood       21.9621\n",
       "Exterior_AsphShn       21.9621\n",
       "PoolQC                 21.1287\n",
       "SaleCondition__AdjLand 19.0001"
      ]
     },
     "execution_count": 257,
     "metadata": {},
     "output_type": "execute_result"
    }
   ],
   "source": [
    "scif.skewness_check(df_train_proc).head(10)"
   ]
  },
  {
   "cell_type": "code",
   "execution_count": 258,
   "metadata": {
    "ExecuteTime": {
     "end_time": "2019-02-23T18:34:35.652691Z",
     "start_time": "2019-02-23T18:34:35.575759Z"
    }
   },
   "outputs": [],
   "source": [
    "# scif.skewness_fix(df_train_proc)"
   ]
  },
  {
   "cell_type": "code",
   "execution_count": 259,
   "metadata": {
    "ExecuteTime": {
     "end_time": "2019-02-23T18:34:35.869151Z",
     "start_time": "2019-02-23T18:34:35.655945Z"
    }
   },
   "outputs": [
    {
     "data": {
      "text/html": [
       "<div>\n",
       "<style scoped>\n",
       "    .dataframe tbody tr th:only-of-type {\n",
       "        vertical-align: middle;\n",
       "    }\n",
       "\n",
       "    .dataframe tbody tr th {\n",
       "        vertical-align: top;\n",
       "    }\n",
       "\n",
       "    .dataframe thead th {\n",
       "        text-align: right;\n",
       "    }\n",
       "</style>\n",
       "<table border=\"1\" class=\"dataframe\">\n",
       "  <thead>\n",
       "    <tr style=\"text-align: right;\">\n",
       "      <th></th>\n",
       "      <th>Skew</th>\n",
       "    </tr>\n",
       "  </thead>\n",
       "  <tbody>\n",
       "    <tr>\n",
       "      <th>Exterior_CBlock</th>\n",
       "      <td>38.1182</td>\n",
       "    </tr>\n",
       "    <tr>\n",
       "      <th>Exterior_BrkComm</th>\n",
       "      <td>26.9258</td>\n",
       "    </tr>\n",
       "    <tr>\n",
       "      <th>Condition_RRNe</th>\n",
       "      <td>26.9258</td>\n",
       "    </tr>\n",
       "    <tr>\n",
       "      <th>Neighborhood__Blueste</th>\n",
       "      <td>26.9258</td>\n",
       "    </tr>\n",
       "    <tr>\n",
       "      <th>RoofStyle__Shed</th>\n",
       "      <td>26.9258</td>\n",
       "    </tr>\n",
       "    <tr>\n",
       "      <th>MiscVal</th>\n",
       "      <td>24.4182</td>\n",
       "    </tr>\n",
       "    <tr>\n",
       "      <th>Foundation__Wood</th>\n",
       "      <td>21.9621</td>\n",
       "    </tr>\n",
       "    <tr>\n",
       "      <th>Exterior_AsphShn</th>\n",
       "      <td>21.9621</td>\n",
       "    </tr>\n",
       "    <tr>\n",
       "      <th>PoolQC</th>\n",
       "      <td>21.1287</td>\n",
       "    </tr>\n",
       "    <tr>\n",
       "      <th>SaleCondition__AdjLand</th>\n",
       "      <td>19.0001</td>\n",
       "    </tr>\n",
       "  </tbody>\n",
       "</table>\n",
       "</div>"
      ],
      "text/plain": [
       "                          Skew\n",
       "Exterior_CBlock        38.1182\n",
       "Exterior_BrkComm       26.9258\n",
       "Condition_RRNe         26.9258\n",
       "Neighborhood__Blueste  26.9258\n",
       "RoofStyle__Shed        26.9258\n",
       "MiscVal                24.4182\n",
       "Foundation__Wood       21.9621\n",
       "Exterior_AsphShn       21.9621\n",
       "PoolQC                 21.1287\n",
       "SaleCondition__AdjLand 19.0001"
      ]
     },
     "execution_count": 259,
     "metadata": {},
     "output_type": "execute_result"
    }
   ],
   "source": [
    "scif.skewness_check(df_train_proc).head(10)"
   ]
  },
  {
   "cell_type": "markdown",
   "metadata": {},
   "source": [
    "## Categorical Features\n",
    "- text features with few values are classic categorical features\n",
    "- text features with rich content are NOT\n",
    "- numeric (integer) features with few values that represent categories can be treated as categorical, but can also be processed as numeric and let the model figure it out\n",
    "\n",
    "What do we do with them?\n",
    "- we can convert them to integers using LabelEncoder and let the model figure it out\n",
    "- we can convert them to one-hot features using get_dummie or OneHotEncoder\n",
    "\n",
    "TODO:  \n",
    "solved with (drop_first=True) ?  \n",
    "https://www.algosome.com/articles/dummy-variable-trap-regression.html"
   ]
  },
  {
   "cell_type": "markdown",
   "metadata": {},
   "source": [
    "## Drop Outliers"
   ]
  },
  {
   "cell_type": "code",
   "execution_count": 260,
   "metadata": {
    "ExecuteTime": {
     "end_time": "2019-02-23T18:34:35.986269Z",
     "start_time": "2019-02-23T18:34:35.871962Z"
    }
   },
   "outputs": [],
   "source": [
    "from sklearn.linear_model import *\n",
    "\n",
    "X = df_train_proc.drop('SalePrice', axis=1)\n",
    "y = df_train_proc['SalePrice']\n",
    "model = RidgeCV()\n",
    "model.fit(X, y)\n",
    "# from sklearn.model_selection import cross_val_score\n",
    "# cross_val_score(model, X, y, scoring=rmse_score).mean()\n",
    "\n",
    "y_pred = pd.Series(model.predict(X), index=y.index)\n",
    "y_resid = y - y_pred\n",
    "resid_mean = y_resid.mean()\n",
    "resid_std  = y_resid.std()\n",
    "resid_z = (y_resid - resid_mean) / resid_std\n",
    "outliers_idx = y.index[np.abs(resid_z) >= 3]"
   ]
  },
  {
   "cell_type": "code",
   "execution_count": 261,
   "metadata": {
    "ExecuteTime": {
     "end_time": "2019-02-23T18:34:36.298922Z",
     "start_time": "2019-02-23T18:34:35.988927Z"
    }
   },
   "outputs": [
    {
     "data": {
      "text/plain": [
       "<matplotlib.collections.PathCollection at 0x1a2e9417b8>"
      ]
     },
     "execution_count": 261,
     "metadata": {},
     "output_type": "execute_result"
    },
    {
     "data": {
      "image/png": "[encoded data removed]",
      "text/plain": [
       "<Figure size 432x288 with 1 Axes>"
      ]
     },
     "metadata": {},
     "output_type": "display_data"
    }
   ],
   "source": [
    "plt.scatter(y, y_pred)\n",
    "plt.scatter(y.loc[outliers_idx], y_pred.loc[outliers_idx])"
   ]
  },
  {
   "cell_type": "code",
   "execution_count": 262,
   "metadata": {
    "ExecuteTime": {
     "end_time": "2019-02-23T18:34:36.364872Z",
     "start_time": "2019-02-23T18:34:36.301254Z"
    }
   },
   "outputs": [],
   "source": [
    "df_train_proc = df_train_proc.drop(outliers_idx)"
   ]
  },
  {
   "cell_type": "markdown",
   "metadata": {},
   "source": [
    "## Finished"
   ]
  },
  {
   "cell_type": "code",
   "execution_count": 263,
   "metadata": {
    "ExecuteTime": {
     "end_time": "2019-02-23T18:34:36.585368Z",
     "start_time": "2019-02-23T18:34:36.367332Z"
    }
   },
   "outputs": [
    {
     "name": "stdout",
     "output_type": "stream",
     "text": [
      "\n",
      "has NaN mismatch train vs test:\n",
      "===================================\n",
      "\n",
      "has NaN mismatch test vs train:\n",
      "=================================\n",
      "\n",
      "dtype mismatch:\n",
      "==============\n",
      "\n",
      "unique categorical values mismatch in train:\n",
      "==============================================\n",
      "\n",
      "unique categorical values mismatch in test:\n",
      "==============================================\n"
     ]
    }
   ],
   "source": [
    "scif.df_comp(df_train_proc.drop([\"SalePrice\"], axis=1), df_test_proc, \"train\", \"test\")"
   ]
  },
  {
   "cell_type": "markdown",
   "metadata": {},
   "source": [
    "## Split data"
   ]
  },
  {
   "cell_type": "code",
   "execution_count": 264,
   "metadata": {
    "ExecuteTime": {
     "end_time": "2019-02-23T18:34:36.666064Z",
     "start_time": "2019-02-23T18:34:36.588308Z"
    }
   },
   "outputs": [
    {
     "name": "stdout",
     "output_type": "stream",
     "text": [
      "(1439, 163) (1439,) (1459, 163)\n"
     ]
    }
   ],
   "source": [
    "X_train = df_train_proc.set_index(\"Id\")\n",
    "y = X_train['SalePrice']\n",
    "X_train = X_train.drop('SalePrice', axis=1)\n",
    "\n",
    "X_score = df_test_proc.set_index(\"Id\")\n",
    "\n",
    "print(X_train.shape, y.shape, X_score.shape)"
   ]
  },
  {
   "cell_type": "markdown",
   "metadata": {},
   "source": [
    "## Save"
   ]
  },
  {
   "cell_type": "code",
   "execution_count": 265,
   "metadata": {
    "ExecuteTime": {
     "end_time": "2019-02-23T18:34:36.913329Z",
     "start_time": "2019-02-23T18:34:36.670869Z"
    }
   },
   "outputs": [
    {
     "data": {
      "text/html": [
       "['processed_my/y_tr.joblib']"
      ],
      "text/plain": [
       "['processed_my/y_tr.joblib']"
      ]
     },
     "execution_count": 265,
     "metadata": {},
     "output_type": "execute_result"
    }
   ],
   "source": [
    "path = 'processed_my'\n",
    "!mkdir -p $path\n",
    "X_train.to_msgpack(f'{path}/X.msgpack')\n",
    "y.to_msgpack(f'{path}/y.msgpack')\n",
    "X_score.to_msgpack(f'{path}/X_score.msgpack')\n",
    "\n",
    "from sklearn.externals import joblib\n",
    "joblib.dump(y_tr, f'{path}/y_tr.joblib')\n"
   ]
  },
  {
   "cell_type": "markdown",
   "metadata": {},
   "source": [
    "## Quick Test"
   ]
  },
  {
   "cell_type": "code",
   "execution_count": 266,
   "metadata": {
    "ExecuteTime": {
     "end_time": "2019-02-23T18:34:36.994743Z",
     "start_time": "2019-02-23T18:34:36.916445Z"
    }
   },
   "outputs": [],
   "source": [
    "import sklearn.utils\n",
    "from sklearn.linear_model import *\n",
    "import sci"
   ]
  },
  {
   "cell_type": "code",
   "execution_count": 267,
   "metadata": {
    "ExecuteTime": {
     "end_time": "2019-02-23T18:34:43.497386Z",
     "start_time": "2019-02-23T18:34:36.997548Z"
    }
   },
   "outputs": [
    {
     "name": "stdout",
     "output_type": "stream",
     "text": [
      "(1439, 163) (1439,)\n",
      "CV for XGBRegressor ..\n"
     ]
    },
    {
     "name": "stderr",
     "output_type": "stream",
     "text": [
      "[Parallel(n_jobs=11)]: Using backend LokyBackend with 11 concurrent workers.\n",
      "[Parallel(n_jobs=11)]: Done   7 out of  10 | elapsed:    6.3s remaining:    2.7s\n",
      "[Parallel(n_jobs=11)]: Done  10 out of  10 | elapsed:    6.4s finished\n"
     ]
    },
    {
     "data": {
      "text/html": [
       "<div>\n",
       "<style scoped>\n",
       "    .dataframe tbody tr th:only-of-type {\n",
       "        vertical-align: middle;\n",
       "    }\n",
       "\n",
       "    .dataframe tbody tr th {\n",
       "        vertical-align: top;\n",
       "    }\n",
       "\n",
       "    .dataframe thead th {\n",
       "        text-align: right;\n",
       "    }\n",
       "</style>\n",
       "<table border=\"1\" class=\"dataframe\">\n",
       "  <thead>\n",
       "    <tr style=\"text-align: right;\">\n",
       "      <th></th>\n",
       "      <th>mean</th>\n",
       "      <th>std</th>\n",
       "    </tr>\n",
       "  </thead>\n",
       "  <tbody>\n",
       "    <tr>\n",
       "      <th>XGBRegressor</th>\n",
       "      <td>0.1069</td>\n",
       "      <td>0.0039</td>\n",
       "    </tr>\n",
       "  </tbody>\n",
       "</table>\n",
       "</div>"
      ],
      "text/plain": [
       "               mean    std\n",
       "XGBRegressor 0.1069 0.0039"
      ]
     },
     "metadata": {},
     "output_type": "display_data"
    },
    {
     "name": "stderr",
     "output_type": "stream",
     "text": [
      "Can't plot with only a single or no samples\n"
     ]
    }
   ],
   "source": [
    "path = 'processed_my'\n",
    "import xgboost\n",
    "\n",
    "# model = ElasticNetCV(l1_ratio=0.5)\n",
    "model = xgboost.XGBRegressor()\n",
    "\n",
    "data = sci.load_data(path)\n",
    "cv_scores = sci.score_cv(data, model, rmse_score, verbose=2, cv=10)"
   ]
  },
  {
   "cell_type": "code",
   "execution_count": null,
   "metadata": {},
   "outputs": [],
   "source": []
  },
  {
   "cell_type": "code",
   "execution_count": null,
   "metadata": {},
   "outputs": [],
   "source": []
  },
  {
   "cell_type": "code",
   "execution_count": null,
   "metadata": {},
   "outputs": [],
   "source": []
  }
 ],
 "metadata": {
  "kernelspec": {
   "display_name": "Python 3",
   "language": "python",
   "name": "python3"
  },
  "language_info": {
   "codemirror_mode": {
    "name": "ipython",
    "version": 3
   },
   "file_extension": ".py",
   "mimetype": "text/x-python",
   "name": "python",
   "nbconvert_exporter": "python",
   "pygments_lexer": "ipython3",
   "version": "3.6.8"
  }
 },
 "nbformat": 4,
 "nbformat_minor": 2
}
