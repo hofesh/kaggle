{
 "cells": [
  {
   "cell_type": "code",
   "execution_count": 13,
   "metadata": {
    "ExecuteTime": {
     "end_time": "2019-02-18T14:22:30.309522Z",
     "start_time": "2019-02-18T14:22:29.796904Z"
    }
   },
   "outputs": [],
   "source": [
    "import pandas as pd\n",
    "import matplotlib.pyplot as plt\n",
    "import seaborn as sns\n",
    "\n",
    "%matplotlib inline"
   ]
  },
  {
   "cell_type": "code",
   "execution_count": 3,
   "metadata": {
    "ExecuteTime": {
     "end_time": "2019-02-18T14:17:15.614526Z",
     "start_time": "2019-02-18T14:17:15.587788Z"
    }
   },
   "outputs": [],
   "source": [
    "df = pd.read_csv('/Users/user/Downloads/publicleaderboarddata.zip', compression='zip')"
   ]
  },
  {
   "cell_type": "code",
   "execution_count": 23,
   "metadata": {
    "ExecuteTime": {
     "end_time": "2019-02-18T14:24:31.866601Z",
     "start_time": "2019-02-18T14:24:31.849319Z"
    },
    "scrolled": true
   },
   "outputs": [
    {
     "data": {
      "text/plain": [
       "TeamName\n",
       "Moradnejad                                   0.00000\n",
       "weiping                                      0.00000\n",
       "Zaman                                        0.02178\n",
       "DSXL                                         0.06626\n",
       "Reza Habibi                                  0.07300\n",
       "Zheng Pan                                    0.08021\n",
       "Bara Siffror                                 0.10575\n",
       "Pirates of the Cartesian                     0.10600\n",
       "Ehsan Arabnezhad                             0.10803\n",
       "enescnkr                                     0.10845\n",
       "DTS                                          0.10853\n",
       "FDS - Frightening Data Scientist 1676411     0.10853\n",
       "Serendipity_                                 0.10874\n",
       "Dmitry Storozhenko                           0.10915\n",
       "1836702 1735340 test-set trainers            0.10917\n",
       "massquantity                                 0.10927\n",
       "Aleksandrs Gehsbargs                         0.10943\n",
       "zengke4                                      0.10944\n",
       "Fds 1647497 1666008                          0.10947\n",
       "Edoardo Cantagallo                           0.10947\n",
       "Yann Rinkel                                  0.10952\n",
       "이구간 사실 다들 과적합인 분들임                           0.10952\n",
       "FDS_GFH                                      0.10953\n",
       "RitikranjanYadav                             0.10963\n",
       "TEAM-EDA                                     0.10963\n",
       "Husky the destroyer                          0.10968\n",
       "Full_Metal_Scientist                         0.10969\n",
       "cengo                                        0.10973\n",
       "criskiev                                     0.10977\n",
       "Kemal Salihçavuşoğlu                         0.10977\n",
       "                                              ...   \n",
       "hogehogeWhale                                9.45355\n",
       "oailnivek                                    9.45368\n",
       "kushalruia14                                 9.45369\n",
       "gongji.zhang                                 9.45371\n",
       "AI'NABLERS                                   9.45384\n",
       "dzyDMgsh                                     9.45389\n",
       "minto                                        9.45390\n",
       "Akshat Jain                                  9.45390\n",
       "各位大佬好强啊                                      9.45391\n",
       "elcee                                        9.45397\n",
       "Aditya Kulkarni                              9.45402\n",
       "Rijul Bajaj                                  9.45415\n",
       "Miveda                                       9.45416\n",
       "Gunia John                                   9.45454\n",
       "Nariman                                      9.45566\n",
       "Esm Famil                                    9.49646\n",
       "nathanto                                     9.54668\n",
       "Ana Matute                                   9.55473\n",
       "Francisco Colino                            10.74735\n",
       "amit_bahir                                  10.74753\n",
       "Knut Ørjan Gaukerud                         10.74778\n",
       "shubham3174                                 10.77009\n",
       "nishimu045                                  10.77010\n",
       "Ryan Roggenkemper                           10.80440\n",
       "Alex Guo                                    10.92954\n",
       "tony li                                     10.98122\n",
       "babanayak                                   11.32519\n",
       "derektang                                   11.44351\n",
       "leonlxy                                     11.81128\n",
       "Andre Emidio                                12.01789\n",
       "Name: Score, Length: 4094, dtype: float64"
      ]
     },
     "execution_count": 23,
     "metadata": {},
     "output_type": "execute_result"
    }
   ],
   "source": [
    "scores = df.groupby(\"TeamName\")[\"Score\"].min()\n",
    "scores = scores.sort_values()\n",
    "scores"
   ]
  },
  {
   "cell_type": "code",
   "execution_count": 31,
   "metadata": {
    "ExecuteTime": {
     "end_time": "2019-02-18T14:26:04.976189Z",
     "start_time": "2019-02-18T14:26:04.821731Z"
    }
   },
   "outputs": [
    {
     "data": {
      "text/plain": [
       "<matplotlib.lines.Line2D at 0x1a240246d8>"
      ]
     },
     "execution_count": 31,
     "metadata": {},
     "output_type": "execute_result"
    },
    {
     "data": {
      "image/png": "[encoded data removed]",
      "text/plain": [
       "<Figure size 432x288 with 1 Axes>"
      ]
     },
     "metadata": {
      "needs_background": "light"
     },
     "output_type": "display_data"
    }
   ],
   "source": [
    "scores = scores[scores>0.1]\n",
    "plt.plot(scores.values[:3000])\n",
    "# plt.ylim(0, 0.18)\n",
    "plt.axhline(0.11767, color='red')\n",
    "plt.axvline(798, color='red')"
   ]
  },
  {
   "cell_type": "code",
   "execution_count": null,
   "metadata": {},
   "outputs": [],
   "source": []
  }
 ],
 "metadata": {
  "kernelspec": {
   "display_name": "Python 3",
   "language": "python",
   "name": "python3"
  },
  "language_info": {
   "codemirror_mode": {
    "name": "ipython",
    "version": 3
   },
   "file_extension": ".py",
   "mimetype": "text/x-python",
   "name": "python",
   "nbconvert_exporter": "python",
   "pygments_lexer": "ipython3",
   "version": "3.6.8"
  }
 },
 "nbformat": 4,
 "nbformat_minor": 2
}
