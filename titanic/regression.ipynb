{
 "cells": [
  {
   "cell_type": "markdown",
   "metadata": {},
   "source": [
    "## Ideas\n",
    "\n",
    "- balance the classes with upsampling ? probably no, as we won't be able to create resonable upsamples.\n",
    "- another indication that all features are needed is that bayes_search on BaggingClassifier shows optimal results neat max_features=1.0\n",
    "- use PI feature importance to deduce coef weights for manual LogisticRegression ? Compare heavy bagging LR mean coef with PI!"
   ]
  },
  {
   "cell_type": "code",
   "execution_count": 486,
   "metadata": {
    "ExecuteTime": {
     "end_time": "2019-02-27T19:24:37.315440Z",
     "start_time": "2019-02-27T19:24:37.240197Z"
    }
   },
   "outputs": [
    {
     "name": "stdout",
     "output_type": "stream",
     "text": [
      "The autoreload extension is already loaded. To reload it, use:\n",
      "  %reload_ext autoreload\n"
     ]
    }
   ],
   "source": [
    "%load_ext autoreload\n",
    "%autoreload 2\n",
    "\n",
    "import sys\n",
    "\n",
    "# implementation of reverse_shuffle\n",
    "sys.path.insert(0, \"/Users/user/git/eli5/\")\n",
    "import eli5\n",
    "\n",
    "sys.path.insert(0, \"/Users/user/git/datasci\")\n",
    "from sci.metrics import rmse, rmse_score, neg_rmse_score\n",
    "import sci.plots as scip\n",
    "import sci.learn as scil\n",
    "\n",
    "%matplotlib inline\n",
    "import matplotlib\n",
    "matplotlib.rcParams['figure.figsize'] = (10, 6)\n",
    "\n",
    "\n",
    "import scikitplot as skplt\n",
    "\n",
    "import warnings\n",
    "warnings.filterwarnings('ignore')\n",
    "\n",
    "import pandas as pd\n",
    "pd.set_option('display.float_format', lambda x: '{:.5f}'.format(x)) #Limiting floats output to 3 decimal points\n",
    "pd.options.display.max_rows = 1000\n",
    "\n",
    "random_state = 7"
   ]
  },
  {
   "cell_type": "markdown",
   "metadata": {},
   "source": [
    "## Load Data"
   ]
  },
  {
   "cell_type": "code",
   "execution_count": 3,
   "metadata": {
    "ExecuteTime": {
     "end_time": "2019-02-25T10:23:20.921596Z",
     "start_time": "2019-02-25T10:23:20.690095Z"
    }
   },
   "outputs": [
    {
     "name": "stdout",
     "output_type": "stream",
     "text": [
      "(250, 300) (250,)\n",
      "train: (200, 300)\n",
      "test: (50, 300)\n"
     ]
    }
   ],
   "source": [
    "data = scil.load_data(\"processed_min\", random_state=random_state)\n",
    "\n",
    "print(\"train:\", data.X_train.shape)\n",
    "print(\"test:\", data.X_test.shape)"
   ]
  },
  {
   "cell_type": "markdown",
   "metadata": {
    "ExecuteTime": {
     "end_time": "2019-02-06T10:44:10.162284Z",
     "start_time": "2019-02-06T10:44:10.160107Z"
    }
   },
   "source": [
    "## Choose Model"
   ]
  },
  {
   "cell_type": "code",
   "execution_count": 4,
   "metadata": {
    "ExecuteTime": {
     "end_time": "2019-02-25T10:23:21.065708Z",
     "start_time": "2019-02-25T10:23:21.010810Z"
    }
   },
   "outputs": [],
   "source": [
    "from sklearn.model_selection import *\n",
    "\n",
    "from sklearn.pipeline import make_pipeline\n",
    "from sklearn.preprocessing import RobustScaler, StandardScaler\n",
    "from sklearn.linear_model import *\n",
    "from sklearn import svm\n",
    "from sklearn.svm import SVC\n",
    "from sklearn.neighbors import KNeighborsClassifier\n",
    "from sklearn import tree\n",
    "from sklearn.kernel_ridge import KernelRidge\n",
    "from sklearn.ensemble import *\n",
    "from sklearn.ensemble import RandomForestClassifier\n",
    "\n",
    "import xgboost\n",
    "from xgboost import XGBClassifier, XGBRegressor\n",
    "\n",
    "import lightgbm as lgb\n",
    "from lightgbm import LGBMRegressor\n",
    "\n",
    "from MeanModels import MeanModelsClassifier, MeanModelsRegressor\n",
    "from StackingAveragedModels import StackingAveragedModels"
   ]
  },
  {
   "cell_type": "markdown",
   "metadata": {},
   "source": [
    "## Setup"
   ]
  },
  {
   "cell_type": "code",
   "execution_count": 73,
   "metadata": {
    "ExecuteTime": {
     "end_time": "2019-02-25T11:34:35.753439Z",
     "start_time": "2019-02-25T11:34:35.646908Z"
    }
   },
   "outputs": [],
   "source": [
    "from mlxtend.evaluate import BootstrapOutOfBag, RandomHoldoutSplit\n",
    "from sklearn.metrics import *\n",
    "\n",
    "metric = roc_auc_score\n",
    "scoring = 'roc_auc'\n",
    "\n",
    "scil.metric_global = metric\n",
    "scil.scoring_global = 'roc_auc' # make_scorer(scil.metric_global, needs_proba=True)\n",
    "\n",
    "# format\n",
    "# cv_{total_splits}_{train/test-fold}\n",
    "cv_1_10 = RandomHoldoutSplit(valid_size=0.1, stratify=True, random_seed=None)\n",
    "cv_5_5 = 5\n",
    "cv_10_10 = 10\n",
    "cv_1000_10 = RepeatedStratifiedKFold(n_splits=10, n_repeats=100)\n",
    "cv_1000_20 = RepeatedStratifiedKFold(n_splits=20, n_repeats=50)\n",
    "\n",
    "cv_single = cv_1_10\n",
    "cv_fast = cv_10_10\n",
    "cv_slow = cv_1000_20"
   ]
  },
  {
   "cell_type": "markdown",
   "metadata": {},
   "source": [
    "## Regression Residuals"
   ]
  },
  {
   "cell_type": "code",
   "execution_count": 10,
   "metadata": {
    "ExecuteTime": {
     "end_time": "2019-02-24T08:04:13.402454Z",
     "start_time": "2019-02-24T08:04:10.124345Z"
    }
   },
   "outputs": [
    {
     "name": "stdout",
     "output_type": "stream",
     "text": [
      "fitting XGBClassifier ..\n"
     ]
    }
   ],
   "source": [
    "model = my_xgb\n",
    "# sci.fit(data, model)"
   ]
  },
  {
   "cell_type": "code",
   "execution_count": 222,
   "metadata": {
    "ExecuteTime": {
     "end_time": "2019-02-24T11:41:40.589400Z",
     "start_time": "2019-02-24T11:41:40.551180Z"
    }
   },
   "outputs": [],
   "source": [
    "# scip.residuals_model(data, model)\n",
    "# y_pred_fix = sci.fit_transform_residuals(model, data.X_train, data.y_train, X_test=data.X_test)\n",
    "# scip.residuals_y(data.y_test, y_pred_fix)"
   ]
  }
 ],
 "metadata": {
  "kernelspec": {
   "display_name": "Python 3",
   "language": "python",
   "name": "python3"
  },
  "language_info": {
   "codemirror_mode": {
    "name": "ipython",
    "version": 3
   },
   "file_extension": ".py",
   "mimetype": "text/x-python",
   "name": "python",
   "nbconvert_exporter": "python",
   "pygments_lexer": "ipython3",
   "version": "3.6.8"
  }
 },
 "nbformat": 4,
 "nbformat_minor": 2
}
